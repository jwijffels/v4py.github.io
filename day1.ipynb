{
 "cells": [
  {
   "cell_type": "markdown",
   "metadata": {},
   "source": [
    "[Introductory slides](https://trnka.korpus.cz/~lukes/slides/v4py/intro)\n",
    "\n",
    "# Python is just a fancy calculator\n",
    "\n",
    "Write code in cells and evaluate them:\n",
    "\n",
    "- `Alt+Enter`: evaluate, insert new cell and switch to it\n",
    "- `Shift+Enter`: evaluate and switch to next (existing) cell\n",
    "- `Ctrl+Enter`: evaluate and stay at current cell"
   ]
  },
  {
   "cell_type": "code",
   "execution_count": 1,
   "metadata": {},
   "outputs": [
    {
     "data": {
      "text/plain": [
       "1"
      ]
     },
     "execution_count": 1,
     "metadata": {},
     "output_type": "execute_result"
    }
   ],
   "source": [
    "1"
   ]
  },
  {
   "cell_type": "code",
   "execution_count": 2,
   "metadata": {},
   "outputs": [
    {
     "data": {
      "text/plain": [
       "2"
      ]
     },
     "execution_count": 2,
     "metadata": {},
     "output_type": "execute_result"
    }
   ],
   "source": [
    "1 + 1"
   ]
  },
  {
   "cell_type": "code",
   "execution_count": 3,
   "metadata": {},
   "outputs": [
    {
     "data": {
      "text/plain": [
       "6"
      ]
     },
     "execution_count": 3,
     "metadata": {},
     "output_type": "execute_result"
    }
   ],
   "source": [
    "# integers\n",
    "2 * 3"
   ]
  },
  {
   "cell_type": "code",
   "execution_count": 4,
   "metadata": {},
   "outputs": [
    {
     "data": {
      "text/plain": [
       "0.6666666666666666"
      ]
     },
     "execution_count": 4,
     "metadata": {},
     "output_type": "execute_result"
    }
   ],
   "source": [
    "# floating point\n",
    "2 / 3"
   ]
  },
  {
   "cell_type": "code",
   "execution_count": 5,
   "metadata": {},
   "outputs": [
    {
     "data": {
      "text/plain": [
       "'Hi there!'"
      ]
     },
     "execution_count": 5,
     "metadata": {},
     "output_type": "execute_result"
    }
   ],
   "source": [
    "# strings\n",
    "\"Hi there!\""
   ]
  },
  {
   "cell_type": "code",
   "execution_count": 6,
   "metadata": {},
   "outputs": [
    {
     "data": {
      "text/plain": [
       "'Hi there!'"
      ]
     },
     "execution_count": 6,
     "metadata": {},
     "output_type": "execute_result"
    }
   ],
   "source": [
    "'Hi there!'"
   ]
  },
  {
   "cell_type": "code",
   "execution_count": 7,
   "metadata": {},
   "outputs": [
    {
     "data": {
      "text/plain": [
       "'\"Hi there!\" she said.'"
      ]
     },
     "execution_count": 7,
     "metadata": {},
     "output_type": "execute_result"
    }
   ],
   "source": [
    "'\"Hi there!\" she said.'"
   ]
  },
  {
   "cell_type": "code",
   "execution_count": 8,
   "metadata": {},
   "outputs": [
    {
     "data": {
      "text/plain": [
       "\"I'm here.\""
      ]
     },
     "execution_count": 8,
     "metadata": {},
     "output_type": "execute_result"
    }
   ],
   "source": [
    "\"I'm here.\""
   ]
  },
  {
   "cell_type": "code",
   "execution_count": 9,
   "metadata": {},
   "outputs": [
    {
     "data": {
      "text/plain": [
       "\"I'm here.\""
      ]
     },
     "execution_count": 9,
     "metadata": {},
     "output_type": "execute_result"
    }
   ],
   "source": [
    "# escaping\n",
    "'I\\'m here.'"
   ]
  },
  {
   "cell_type": "code",
   "execution_count": 10,
   "metadata": {},
   "outputs": [
    {
     "data": {
      "text/plain": [
       "'\\n# this is not a comment\\nmultiple lines\\n'"
      ]
     },
     "execution_count": 10,
     "metadata": {},
     "output_type": "execute_result"
    }
   ],
   "source": [
    "\"\"\"\n",
    "# this is not a comment\n",
    "multiple lines\n",
    "\"\"\""
   ]
  },
  {
   "cell_type": "markdown",
   "metadata": {},
   "source": [
    "\\n is an **escape sequence** which stands for a *new line*."
   ]
  },
  {
   "cell_type": "code",
   "execution_count": 11,
   "metadata": {},
   "outputs": [],
   "source": [
    "my_variable = \"Call me Ishmael.\""
   ]
  },
  {
   "cell_type": "code",
   "execution_count": 12,
   "metadata": {
    "jupyter": {
     "source_hidden": true
    }
   },
   "outputs": [
    {
     "data": {
      "text/plain": [
       "'Call me Ishmael.'"
      ]
     },
     "execution_count": 12,
     "metadata": {},
     "output_type": "execute_result"
    }
   ],
   "source": [
    "my_variable"
   ]
  },
  {
   "cell_type": "code",
   "execution_count": 13,
   "metadata": {},
   "outputs": [
    {
     "ename": "NameError",
     "evalue": "name 'your_variable' is not defined",
     "output_type": "error",
     "traceback": [
      "\u001b[0;31m---------------------------------------------------------------------------\u001b[0m",
      "\u001b[0;31mNameError\u001b[0m                                 Traceback (most recent call last)",
      "\u001b[0;32m<ipython-input-13-beb22a6d7fc0>\u001b[0m in \u001b[0;36m<module>\u001b[0;34m()\u001b[0m\n\u001b[0;32m----> 1\u001b[0;31m \u001b[0myour_variable\u001b[0m\u001b[0;34m\u001b[0m\u001b[0;34m\u001b[0m\u001b[0m\n\u001b[0m",
      "\u001b[0;31mNameError\u001b[0m: name 'your_variable' is not defined"
     ]
    }
   ],
   "source": [
    "your_variable"
   ]
  },
  {
   "cell_type": "markdown",
   "metadata": {},
   "source": [
    "# Playing around with NLTK"
   ]
  },
  {
   "cell_type": "code",
   "execution_count": 14,
   "metadata": {},
   "outputs": [],
   "source": [
    "import nltk"
   ]
  },
  {
   "cell_type": "code",
   "execution_count": 16,
   "metadata": {},
   "outputs": [],
   "source": [
    "# tab-completion: try typing e.g. \"nltk.\" and then pressing <Tab>"
   ]
  },
  {
   "cell_type": "code",
   "execution_count": 17,
   "metadata": {},
   "outputs": [
    {
     "name": "stdout",
     "output_type": "stream",
     "text": [
      "*** Introductory Examples for the NLTK Book ***\n",
      "Loading text1, ..., text9 and sent1, ..., sent9\n",
      "Type the name of the text or sentence to view it.\n",
      "Type: 'texts()' or 'sents()' to list the materials.\n",
      "text1: Moby Dick by Herman Melville 1851\n",
      "text2: Sense and Sensibility by Jane Austen 1811\n",
      "text3: The Book of Genesis\n",
      "text4: Inaugural Address Corpus\n",
      "text5: Chat Corpus\n",
      "text6: Monty Python and the Holy Grail\n",
      "text7: Wall Street Journal\n",
      "text8: Personals Corpus\n",
      "text9: The Man Who Was Thursday by G . K . Chesterton 1908\n"
     ]
    }
   ],
   "source": [
    "from nltk.book import *"
   ]
  },
  {
   "cell_type": "code",
   "execution_count": 20,
   "metadata": {
    "scrolled": true
   },
   "outputs": [
    {
     "name": "stdout",
     "output_type": "stream",
     "text": [
      "FreqDist\t Text\t bigrams\t genesis\t gutenberg\t inaugural\t my_variable\t nltk\t nps_chat\t \n",
      "print_function\t sent1\t sent2\t sent3\t sent4\t sent5\t sent6\t sent7\t sent8\t \n",
      "sent9\t sents\t text1\t text2\t text3\t text4\t text5\t text6\t text7\t \n",
      "text8\t text9\t texts\t treebank\t webtext\t wordnet\t \n"
     ]
    }
   ],
   "source": [
    "# list defined variables\n",
    "%who"
   ]
  },
  {
   "cell_type": "code",
   "execution_count": 22,
   "metadata": {},
   "outputs": [
    {
     "name": "stdout",
     "output_type": "stream",
     "text": [
      "Variable         Type                        Data/Info\n",
      "------------------------------------------------------\n",
      "FreqDist         type                        <class 'nltk.probability.FreqDist'>\n",
      "Text             type                        <class 'nltk.text.Text'>\n",
      "bigrams          function                    <function bigrams at 0x7f8c9c0e2d08>\n",
      "genesis          PlaintextCorpusReader       <PlaintextCorpusReader in<...>tk_data/corpora/genesis'>\n",
      "gutenberg        PlaintextCorpusReader       <PlaintextCorpusReader in<...>_data/corpora/gutenberg'>\n",
      "inaugural        PlaintextCorpusReader       <PlaintextCorpusReader in<...>_data/corpora/inaugural'>\n",
      "my_variable      str                         Call me Ishmael.\n",
      "nltk             module                      <module 'nltk' from '/opt<...>ckages/nltk/__init__.py'>\n",
      "nps_chat         NPSChatCorpusReader         <NPSChatCorpusReader in '<...>k_data/corpora/nps_chat'>\n",
      "print_function   _Feature                    _Feature((2, 6, 0, 'alpha<...>0, 0, 'alpha', 0), 65536)\n",
      "sent1            list                        n=4\n",
      "sent2            list                        n=11\n",
      "sent3            list                        n=11\n",
      "sent4            list                        n=13\n",
      "sent5            list                        n=11\n",
      "sent6            list                        n=17\n",
      "sent7            list                        n=18\n",
      "sent8            list                        n=14\n",
      "sent9            list                        n=23\n",
      "sents            function                    <function sents at 0x7f8c737c2400>\n",
      "text1            Text                        <Text: Moby Dick by Herman Melville 1851>\n",
      "text2            Text                        <Text: Sense and Sensibility by Jane Austen 1811>\n",
      "text3            Text                        <Text: The Book of Genesis>\n",
      "text4            Text                        <Text: Inaugural Address Corpus>\n",
      "text5            Text                        <Text: Chat Corpus>\n",
      "text6            Text                        <Text: Monty Python and the Holy Grail>\n",
      "text7            Text                        <Text: Wall Street Journal>\n",
      "text8            Text                        <Text: Personals Corpus>\n",
      "text9            Text                        <Text: The Man Who Was Th<...> G . K . Chesterton 1908>\n",
      "texts            function                    <function texts at 0x7f8c737c2510>\n",
      "treebank         BracketParseCorpusReader    <BracketParseCorpusReader<...>rpora/treebank/combined'>\n",
      "webtext          PlaintextCorpusReader       <PlaintextCorpusReader in<...>tk_data/corpora/webtext'>\n",
      "wordnet          LazyCorpusLoader            <WordNetCorpusReader in '<...>ordnet' (not loaded yet)>\n"
     ]
    }
   ],
   "source": [
    "# list defined variables with details\n",
    "%whos"
   ]
  },
  {
   "cell_type": "code",
   "execution_count": 23,
   "metadata": {},
   "outputs": [
    {
     "name": "stdout",
     "output_type": "stream",
     "text": [
      "text1: Moby Dick by Herman Melville 1851\n",
      "text2: Sense and Sensibility by Jane Austen 1811\n",
      "text3: The Book of Genesis\n",
      "text4: Inaugural Address Corpus\n",
      "text5: Chat Corpus\n",
      "text6: Monty Python and the Holy Grail\n",
      "text7: Wall Street Journal\n",
      "text8: Personals Corpus\n",
      "text9: The Man Who Was Thursday by G . K . Chesterton 1908\n"
     ]
    }
   ],
   "source": [
    "texts()"
   ]
  },
  {
   "cell_type": "code",
   "execution_count": 24,
   "metadata": {},
   "outputs": [
    {
     "name": "stdout",
     "output_type": "stream",
     "text": [
      "sent1: Call me Ishmael .\n",
      "sent2: The family of Dashwood had long been settled in Sussex .\n",
      "sent3: In the beginning God created the heaven and the earth .\n",
      "sent4: Fellow - Citizens of the Senate and of the House of Representatives :\n",
      "sent5: I have a problem with people PMing me to lol JOIN\n",
      "sent6: SCENE 1 : [ wind ] [ clop clop clop ] KING ARTHUR : Whoa there !\n",
      "sent7: Pierre Vinken , 61 years old , will join the board as a nonexecutive director Nov. 29 .\n",
      "sent8: 25 SEXY MALE , seeks attrac older single lady , for discreet encounters .\n",
      "sent9: THE suburb of Saffron Park lay on the sunset side of London , as red and ragged as a cloud of sunset .\n"
     ]
    }
   ],
   "source": [
    "sents()"
   ]
  },
  {
   "cell_type": "code",
   "execution_count": 25,
   "metadata": {},
   "outputs": [
    {
     "data": {
      "text/plain": [
       "<Text: Moby Dick by Herman Melville 1851>"
      ]
     },
     "execution_count": 25,
     "metadata": {},
     "output_type": "execute_result"
    }
   ],
   "source": [
    "text1"
   ]
  },
  {
   "cell_type": "code",
   "execution_count": 26,
   "metadata": {},
   "outputs": [
    {
     "data": {
      "text/plain": [
       "<Text: Monty Python and the Holy Grail>"
      ]
     },
     "execution_count": 26,
     "metadata": {},
     "output_type": "execute_result"
    }
   ],
   "source": [
    "text6"
   ]
  },
  {
   "cell_type": "code",
   "execution_count": 30,
   "metadata": {},
   "outputs": [],
   "source": [
    "text6.concordance?"
   ]
  },
  {
   "cell_type": "code",
   "execution_count": 28,
   "metadata": {},
   "outputs": [
    {
     "name": "stdout",
     "output_type": "stream",
     "text": [
      "Displaying 25 of 39 matches:\n",
      "els sing ] Arthur , this is the Holy Grail . Look well , Arthur , for it is you\n",
      " it is your sacred task to seek this grail . That is your purpose , Arthur ... \n",
      " , Arthur ... the quest for the Holy Grail . [ boom ] [ singing stops ] LAUNCEL\n",
      "an join us in our quest for the Holy Grail . FRENCH GUARD : Well , I ' ll ask h\n",
      "ARTHUR : If you will not show us the Grail , we shall take your castle by force\n",
      "s required if the quest for the Holy Grail were to be brought to a successful c\n",
      "should separate , and search for the Grail individually . [ clop clop clop ] No\n",
      "AD : You are the keepers of the Holy Grail ? ZOOT : The what ? GALAHAD : The Gr\n",
      "il ? ZOOT : The what ? GALAHAD : The Grail . It is here . ZOOT : Oh , but you a\n",
      "ease ! In God ' s name , show me the Grail ! ZOOT : Oh , you have suffered much\n",
      "rment me no longer . I have seen the Grail ! PIGLET : There ' s no grail here .\n",
      "en the Grail ! PIGLET : There ' s no grail here . GALAHAD : I have seen it ! I \n",
      "are you going ? GALAHAD : I seek the Grail ! I have seen it , here in this cast\n",
      " which , I have just remembered , is grail - shaped . It ' s not the first time\n",
      "blem . GALAHAD : It ' s not the real Grail ? DINGO : Oh , wicked , bad , naught\n",
      "ne punishment for setting alight the grail - shaped beacon . You must tie her d\n",
      " : No , we ' ve got to find the Holy Grail . Come on ! GALAHAD : Oh , let me ha\n",
      " , but they were still no nearer the Grail . Meanwhile , King Arthur and Sir Be\n",
      " of whom you speak , he has seen the Grail ? OLD MAN : ... Ha ha ha ha ! Heh , \n",
      "o man has entered . ARTHUR : And the Grail . The Grail is there ? OLD MAN : The\n",
      "tered . ARTHUR : And the Grail . The Grail is there ? OLD MAN : There is much d\n",
      " has ever crossed . ARTHUR : But the Grail ! Where is the Grail ?! OLD MAN : Se\n",
      "RTHUR : But the Grail ! Where is the Grail ?! OLD MAN : Seek you the Bridge of \n",
      "Bridge of Death , which leads to the Grail ? OLD MAN : Heh , hee hee hee hee ! \n",
      "e the sign that leads us to the Holy Grail ! Brave , brave Concorde , you shall\n"
     ]
    }
   ],
   "source": [
    "text6.concordance(\"grail\")"
   ]
  },
  {
   "cell_type": "code",
   "execution_count": 29,
   "metadata": {},
   "outputs": [
    {
     "name": "stdout",
     "output_type": "stream",
     "text": [
      "Displaying 25 of 39 matches:\n",
      "ur , this is the Holy Grail . Look well , Arthur \n",
      "red task to seek this grail . That is your purpos\n",
      "he quest for the Holy Grail . [ boom ] [ singing \n",
      "ur quest for the Holy Grail . FRENCH GUARD : Well\n",
      " will not show us the Grail , we shall take your \n",
      "he quest for the Holy Grail were to be brought to\n",
      " , and search for the Grail individually . [ clop\n",
      "e keepers of the Holy Grail ? ZOOT : The what ? G\n",
      " what ? GALAHAD : The Grail . It is here . ZOOT :\n",
      " s name , show me the Grail ! ZOOT : Oh , you hav\n",
      "ger . I have seen the Grail ! PIGLET : There ' s \n",
      "PIGLET : There ' s no grail here . GALAHAD : I ha\n",
      " GALAHAD : I seek the Grail ! I have seen it , he\n",
      " just remembered , is grail - shaped . It ' s not\n",
      ": It ' s not the real Grail ? DINGO : Oh , wicked\n",
      "or setting alight the grail - shaped beacon . You\n",
      " got to find the Holy Grail . Come on ! GALAHAD :\n",
      "e still no nearer the Grail . Meanwhile , King Ar\n",
      "eak , he has seen the Grail ? OLD MAN : ... Ha ha\n",
      "ed . ARTHUR : And the Grail . The Grail is there \n",
      ": And the Grail . The Grail is there ? OLD MAN : \n",
      "ed . ARTHUR : But the Grail ! Where is the Grail \n",
      " Grail ! Where is the Grail ?! OLD MAN : Seek you\n",
      " , which leads to the Grail ? OLD MAN : Heh , hee\n",
      " leads us to the Holy Grail ! Brave , brave Conco\n"
     ]
    }
   ],
   "source": [
    "text6.concordance(\"grail\", width=50)"
   ]
  },
  {
   "cell_type": "code",
   "execution_count": 31,
   "metadata": {},
   "outputs": [
    {
     "ename": "TypeError",
     "evalue": "'str' object is not callable",
     "output_type": "error",
     "traceback": [
      "\u001b[0;31m---------------------------------------------------------------------------\u001b[0m",
      "\u001b[0;31mTypeError\u001b[0m                                 Traceback (most recent call last)",
      "\u001b[0;32m<ipython-input-31-bb0b9ddf829b>\u001b[0m in \u001b[0;36m<module>\u001b[0;34m()\u001b[0m\n\u001b[0;32m----> 1\u001b[0;31m \u001b[0mtext6\u001b[0m\u001b[0;34m.\u001b[0m\u001b[0mname\u001b[0m\u001b[0;34m(\u001b[0m\u001b[0;34m)\u001b[0m\u001b[0;34m\u001b[0m\u001b[0;34m\u001b[0m\u001b[0m\n\u001b[0m",
      "\u001b[0;31mTypeError\u001b[0m: 'str' object is not callable"
     ]
    }
   ],
   "source": [
    "text6.name()"
   ]
  },
  {
   "cell_type": "code",
   "execution_count": 32,
   "metadata": {},
   "outputs": [
    {
     "data": {
      "text/plain": [
       "'Monty Python and the Holy Grail'"
      ]
     },
     "execution_count": 32,
     "metadata": {},
     "output_type": "execute_result"
    }
   ],
   "source": [
    "# attributes\n",
    "text6.name"
   ]
  },
  {
   "cell_type": "code",
   "execution_count": 33,
   "metadata": {},
   "outputs": [
    {
     "data": {
      "text/plain": [
       "<bound method Text.concordance of <Text: Monty Python and the Holy Grail>>"
      ]
     },
     "execution_count": 33,
     "metadata": {},
     "output_type": "execute_result"
    }
   ],
   "source": [
    "text6.concordance"
   ]
  },
  {
   "cell_type": "code",
   "execution_count": 34,
   "metadata": {},
   "outputs": [],
   "source": [
    "my_string = \"asdf\""
   ]
  },
  {
   "cell_type": "code",
   "execution_count": 35,
   "metadata": {},
   "outputs": [
    {
     "data": {
      "text/plain": [
       "'asdf'"
      ]
     },
     "execution_count": 35,
     "metadata": {},
     "output_type": "execute_result"
    }
   ],
   "source": [
    "my_string"
   ]
  },
  {
   "cell_type": "code",
   "execution_count": 36,
   "metadata": {},
   "outputs": [
    {
     "ename": "TypeError",
     "evalue": "'str' object is not callable",
     "output_type": "error",
     "traceback": [
      "\u001b[0;31m---------------------------------------------------------------------------\u001b[0m",
      "\u001b[0;31mTypeError\u001b[0m                                 Traceback (most recent call last)",
      "\u001b[0;32m<ipython-input-36-0c42a9dad506>\u001b[0m in \u001b[0;36m<module>\u001b[0;34m()\u001b[0m\n\u001b[0;32m----> 1\u001b[0;31m \u001b[0mmy_string\u001b[0m\u001b[0;34m(\u001b[0m\u001b[0;34m)\u001b[0m\u001b[0;34m\u001b[0m\u001b[0;34m\u001b[0m\u001b[0m\n\u001b[0m",
      "\u001b[0;31mTypeError\u001b[0m: 'str' object is not callable"
     ]
    }
   ],
   "source": [
    "my_string()"
   ]
  },
  {
   "cell_type": "code",
   "execution_count": 37,
   "metadata": {},
   "outputs": [
    {
     "data": {
      "text/plain": [
       "str"
      ]
     },
     "execution_count": 37,
     "metadata": {},
     "output_type": "execute_result"
    }
   ],
   "source": [
    "type(my_string)"
   ]
  },
  {
   "cell_type": "code",
   "execution_count": 38,
   "metadata": {},
   "outputs": [
    {
     "data": {
      "text/plain": [
       "str"
      ]
     },
     "execution_count": 38,
     "metadata": {},
     "output_type": "execute_result"
    }
   ],
   "source": [
    "type(text6.name)"
   ]
  },
  {
   "cell_type": "code",
   "execution_count": 39,
   "metadata": {},
   "outputs": [
    {
     "data": {
      "text/plain": [
       "method"
      ]
     },
     "execution_count": 39,
     "metadata": {},
     "output_type": "execute_result"
    }
   ],
   "source": [
    "type(text6.concordance)"
   ]
  },
  {
   "cell_type": "code",
   "execution_count": 40,
   "metadata": {},
   "outputs": [],
   "source": [
    "text1.count?"
   ]
  },
  {
   "cell_type": "code",
   "execution_count": 41,
   "metadata": {},
   "outputs": [
    {
     "data": {
      "text/plain": [
       "<Text: Moby Dick by Herman Melville 1851>"
      ]
     },
     "execution_count": 41,
     "metadata": {},
     "output_type": "execute_result"
    }
   ],
   "source": [
    "text1"
   ]
  },
  {
   "cell_type": "code",
   "execution_count": 43,
   "metadata": {},
   "outputs": [
    {
     "data": {
      "text/plain": [
       "84"
      ]
     },
     "execution_count": 43,
     "metadata": {},
     "output_type": "execute_result"
    }
   ],
   "source": [
    "text1.count(\"Moby\")"
   ]
  },
  {
   "cell_type": "code",
   "execution_count": 44,
   "metadata": {},
   "outputs": [
    {
     "data": {
      "text/plain": [
       "84"
      ]
     },
     "execution_count": 44,
     "metadata": {},
     "output_type": "execute_result"
    }
   ],
   "source": [
    "moby_count = text1.count(\"Moby\")\n",
    "moby_count"
   ]
  },
  {
   "cell_type": "code",
   "execution_count": 45,
   "metadata": {},
   "outputs": [
    {
     "data": {
      "text/plain": [
       "260819"
      ]
     },
     "execution_count": 45,
     "metadata": {},
     "output_type": "execute_result"
    }
   ],
   "source": [
    "len(text1)"
   ]
  },
  {
   "cell_type": "markdown",
   "metadata": {},
   "source": [
    "# A first look at functions and collections"
   ]
  },
  {
   "cell_type": "code",
   "execution_count": 46,
   "metadata": {},
   "outputs": [],
   "source": [
    "my_list = [1, \"Moby\", text6]"
   ]
  },
  {
   "cell_type": "code",
   "execution_count": 47,
   "metadata": {},
   "outputs": [
    {
     "data": {
      "text/plain": [
       "[1, 'Moby', <Text: Monty Python and the Holy Grail>]"
      ]
     },
     "execution_count": 47,
     "metadata": {},
     "output_type": "execute_result"
    }
   ],
   "source": [
    "my_list"
   ]
  },
  {
   "cell_type": "code",
   "execution_count": 48,
   "metadata": {},
   "outputs": [
    {
     "data": {
      "text/plain": [
       "3"
      ]
     },
     "execution_count": 48,
     "metadata": {},
     "output_type": "execute_result"
    }
   ],
   "source": [
    "len(my_list)"
   ]
  },
  {
   "cell_type": "code",
   "execution_count": 51,
   "metadata": {},
   "outputs": [],
   "source": [
    "def máj_fankšn():\n",
    "    a = 2\n",
    "    b = 3\n",
    "    c = a + b\n",
    "    return c"
   ]
  },
  {
   "cell_type": "code",
   "execution_count": 52,
   "metadata": {},
   "outputs": [
    {
     "data": {
      "text/plain": [
       "<function __main__.máj_fankšn>"
      ]
     },
     "execution_count": 52,
     "metadata": {},
     "output_type": "execute_result"
    }
   ],
   "source": [
    "máj_fankšn"
   ]
  },
  {
   "cell_type": "code",
   "execution_count": 53,
   "metadata": {
    "scrolled": true
   },
   "outputs": [
    {
     "data": {
      "text/plain": [
       "5"
      ]
     },
     "execution_count": 53,
     "metadata": {},
     "output_type": "execute_result"
    }
   ],
   "source": [
    "máj_fankšn()"
   ]
  },
  {
   "cell_type": "code",
   "execution_count": 54,
   "metadata": {},
   "outputs": [
    {
     "data": {
      "text/plain": [
       "<Text: Moby Dick by Herman Melville 1851>"
      ]
     },
     "execution_count": 54,
     "metadata": {},
     "output_type": "execute_result"
    }
   ],
   "source": [
    "text1"
   ]
  },
  {
   "cell_type": "code",
   "execution_count": 55,
   "metadata": {},
   "outputs": [
    {
     "data": {
      "text/plain": [
       "260819"
      ]
     },
     "execution_count": 55,
     "metadata": {},
     "output_type": "execute_result"
    }
   ],
   "source": [
    "# number of tokens\n",
    "len(text1)"
   ]
  },
  {
   "cell_type": "code",
   "execution_count": 57,
   "metadata": {},
   "outputs": [],
   "source": [
    "my_list = [1, 1, 2]"
   ]
  },
  {
   "cell_type": "code",
   "execution_count": 58,
   "metadata": {},
   "outputs": [
    {
     "data": {
      "text/plain": [
       "[1, 1, 2]"
      ]
     },
     "execution_count": 58,
     "metadata": {},
     "output_type": "execute_result"
    }
   ],
   "source": [
    "my_list"
   ]
  },
  {
   "cell_type": "code",
   "execution_count": 60,
   "metadata": {},
   "outputs": [
    {
     "data": {
      "text/plain": [
       "{1, 2}"
      ]
     },
     "execution_count": 60,
     "metadata": {},
     "output_type": "execute_result"
    }
   ],
   "source": [
    "my_set = set(my_list)\n",
    "my_set"
   ]
  },
  {
   "cell_type": "code",
   "execution_count": 61,
   "metadata": {},
   "outputs": [
    {
     "data": {
      "text/plain": [
       "3"
      ]
     },
     "execution_count": 61,
     "metadata": {},
     "output_type": "execute_result"
    }
   ],
   "source": [
    "len(my_list)"
   ]
  },
  {
   "cell_type": "code",
   "execution_count": 62,
   "metadata": {},
   "outputs": [
    {
     "data": {
      "text/plain": [
       "2"
      ]
     },
     "execution_count": 62,
     "metadata": {},
     "output_type": "execute_result"
    }
   ],
   "source": [
    "len(my_set)"
   ]
  },
  {
   "cell_type": "code",
   "execution_count": 63,
   "metadata": {},
   "outputs": [
    {
     "data": {
      "text/plain": [
       "19317"
      ]
     },
     "execution_count": 63,
     "metadata": {},
     "output_type": "execute_result"
    }
   ],
   "source": [
    "# number of types\n",
    "len(set(text1))"
   ]
  },
  {
   "cell_type": "code",
   "execution_count": 64,
   "metadata": {},
   "outputs": [],
   "source": [
    "set = \"asdfdasf\""
   ]
  },
  {
   "cell_type": "code",
   "execution_count": 65,
   "metadata": {},
   "outputs": [
    {
     "ename": "TypeError",
     "evalue": "'str' object is not callable",
     "output_type": "error",
     "traceback": [
      "\u001b[0;31m---------------------------------------------------------------------------\u001b[0m",
      "\u001b[0;31mTypeError\u001b[0m                                 Traceback (most recent call last)",
      "\u001b[0;32m<ipython-input-65-f93d1f3c70af>\u001b[0m in \u001b[0;36m<module>\u001b[0;34m()\u001b[0m\n\u001b[0;32m----> 1\u001b[0;31m \u001b[0mset\u001b[0m\u001b[0;34m(\u001b[0m\u001b[0mmy_list\u001b[0m\u001b[0;34m)\u001b[0m\u001b[0;34m\u001b[0m\u001b[0;34m\u001b[0m\u001b[0m\n\u001b[0m",
      "\u001b[0;31mTypeError\u001b[0m: 'str' object is not callable"
     ]
    }
   ],
   "source": [
    "set(my_list)"
   ]
  },
  {
   "cell_type": "code",
   "execution_count": 66,
   "metadata": {},
   "outputs": [],
   "source": [
    "from builtins import set"
   ]
  },
  {
   "cell_type": "code",
   "execution_count": 67,
   "metadata": {},
   "outputs": [
    {
     "data": {
      "text/plain": [
       "{1, 2}"
      ]
     },
     "execution_count": 67,
     "metadata": {},
     "output_type": "execute_result"
    }
   ],
   "source": [
    "set(my_list)"
   ]
  },
  {
   "cell_type": "code",
   "execution_count": 68,
   "metadata": {},
   "outputs": [
    {
     "ename": "TypeError",
     "evalue": "'list' object is not callable",
     "output_type": "error",
     "traceback": [
      "\u001b[0;31m---------------------------------------------------------------------------\u001b[0m",
      "\u001b[0;31mTypeError\u001b[0m                                 Traceback (most recent call last)",
      "\u001b[0;32m<ipython-input-68-125a98a216fc>\u001b[0m in \u001b[0;36m<module>\u001b[0;34m()\u001b[0m\n\u001b[0;32m----> 1\u001b[0;31m \u001b[0mtext1\u001b[0m\u001b[0;34m.\u001b[0m\u001b[0mtokens\u001b[0m\u001b[0;34m(\u001b[0m\u001b[0;34m)\u001b[0m\u001b[0;34m\u001b[0m\u001b[0;34m\u001b[0m\u001b[0m\n\u001b[0m",
      "\u001b[0;31mTypeError\u001b[0m: 'list' object is not callable"
     ]
    }
   ],
   "source": [
    "text1.tokens()"
   ]
  },
  {
   "cell_type": "code",
   "execution_count": 70,
   "metadata": {},
   "outputs": [],
   "source": [
    "text1.tokens;"
   ]
  },
  {
   "cell_type": "code",
   "execution_count": 72,
   "metadata": {},
   "outputs": [],
   "source": [
    "def type_token_ratio(text):\n",
    "    number_of_tokens = len(text)\n",
    "    vocabulary = set(text)\n",
    "    number_of_types = len(vocabulary)\n",
    "    ratio = number_of_types / number_of_tokens\n",
    "    return ratio"
   ]
  },
  {
   "cell_type": "code",
   "execution_count": 75,
   "metadata": {},
   "outputs": [],
   "source": [
    "def type_token_ratio(text):\n",
    "    \"\"\"Compute the type-token ratio of text.\"\"\"\n",
    "    return len(set(text)) / len(text)"
   ]
  },
  {
   "cell_type": "code",
   "execution_count": 76,
   "metadata": {},
   "outputs": [],
   "source": [
    "?type_token_ratio"
   ]
  },
  {
   "cell_type": "code",
   "execution_count": 77,
   "metadata": {},
   "outputs": [
    {
     "data": {
      "text/plain": [
       "0.07406285585022564"
      ]
     },
     "execution_count": 77,
     "metadata": {},
     "output_type": "execute_result"
    }
   ],
   "source": [
    "type_token_ratio(text1)"
   ]
  },
  {
   "cell_type": "code",
   "execution_count": 78,
   "metadata": {},
   "outputs": [
    {
     "data": {
      "text/plain": [
       "0.1276595744680851"
      ]
     },
     "execution_count": 78,
     "metadata": {},
     "output_type": "execute_result"
    }
   ],
   "source": [
    "type_token_ratio(text6)"
   ]
  },
  {
   "cell_type": "code",
   "execution_count": 81,
   "metadata": {},
   "outputs": [],
   "source": [
    "tmp = \" \".join(text6.tokens)"
   ]
  },
  {
   "cell_type": "code",
   "execution_count": 83,
   "metadata": {},
   "outputs": [],
   "source": [
    "%page -r tmp"
   ]
  },
  {
   "cell_type": "code",
   "execution_count": 84,
   "metadata": {},
   "outputs": [
    {
     "data": {
      "text/plain": [
       "260819"
      ]
     },
     "execution_count": 84,
     "metadata": {},
     "output_type": "execute_result"
    }
   ],
   "source": [
    "len(text1)"
   ]
  },
  {
   "cell_type": "code",
   "execution_count": 85,
   "metadata": {},
   "outputs": [
    {
     "data": {
      "text/plain": [
       "16967"
      ]
     },
     "execution_count": 85,
     "metadata": {},
     "output_type": "execute_result"
    }
   ],
   "source": [
    "len(text6)"
   ]
  },
  {
   "cell_type": "code",
   "execution_count": 87,
   "metadata": {},
   "outputs": [
    {
     "data": {
      "text/plain": [
       "[1, 1, 2]"
      ]
     },
     "execution_count": 87,
     "metadata": {},
     "output_type": "execute_result"
    }
   ],
   "source": [
    "my_list"
   ]
  },
  {
   "cell_type": "code",
   "execution_count": 88,
   "metadata": {},
   "outputs": [
    {
     "data": {
      "text/plain": [
       "1"
      ]
     },
     "execution_count": 88,
     "metadata": {},
     "output_type": "execute_result"
    }
   ],
   "source": [
    "# indexing into a sequence extracts one element\n",
    "# out of it (the one at that particular index =\n",
    "# position, starting at zero)\n",
    "my_list[0]"
   ]
  },
  {
   "cell_type": "code",
   "execution_count": 89,
   "metadata": {},
   "outputs": [
    {
     "data": {
      "text/plain": [
       "2"
      ]
     },
     "execution_count": 89,
     "metadata": {},
     "output_type": "execute_result"
    }
   ],
   "source": [
    "my_list[2]"
   ]
  },
  {
   "cell_type": "code",
   "execution_count": 90,
   "metadata": {},
   "outputs": [
    {
     "data": {
      "text/plain": [
       "[1]"
      ]
     },
     "execution_count": 90,
     "metadata": {},
     "output_type": "execute_result"
    }
   ],
   "source": [
    "# slicing a sequence extracts a sub-sequence out of\n",
    "# it -- in this case, a one-element list, ...\n",
    "my_list[1:2]"
   ]
  },
  {
   "cell_type": "code",
   "execution_count": 91,
   "metadata": {},
   "outputs": [
    {
     "data": {
      "text/plain": [
       "[1, 2]"
      ]
     },
     "execution_count": 91,
     "metadata": {},
     "output_type": "execute_result"
    }
   ],
   "source": [
    "# ... in this case, a two-element list\n",
    "my_list[1:]"
   ]
  },
  {
   "cell_type": "code",
   "execution_count": 92,
   "metadata": {},
   "outputs": [
    {
     "data": {
      "text/plain": [
       "[1]"
      ]
     },
     "execution_count": 92,
     "metadata": {},
     "output_type": "execute_result"
    }
   ],
   "source": [
    "my_list[:1]"
   ]
  },
  {
   "cell_type": "code",
   "execution_count": 93,
   "metadata": {},
   "outputs": [
    {
     "data": {
      "text/plain": [
       "'wind'"
      ]
     },
     "execution_count": 93,
     "metadata": {},
     "output_type": "execute_result"
    }
   ],
   "source": [
    "text6[4]"
   ]
  },
  {
   "cell_type": "code",
   "execution_count": 94,
   "metadata": {},
   "outputs": [
    {
     "data": {
      "text/plain": [
       "['clop', ']', 'KING', 'ARTHUR', ':', 'Whoa', 'there', '!', '[', 'clop', 'clop']"
      ]
     },
     "execution_count": 94,
     "metadata": {},
     "output_type": "execute_result"
    }
   ],
   "source": [
    "text6[9:20]"
   ]
  },
  {
   "cell_type": "code",
   "execution_count": 95,
   "metadata": {},
   "outputs": [
    {
     "data": {
      "text/plain": [
       "0.3334"
      ]
     },
     "execution_count": 95,
     "metadata": {},
     "output_type": "execute_result"
    }
   ],
   "source": [
    "type_token_ratio(text1[:5000])"
   ]
  },
  {
   "cell_type": "code",
   "execution_count": 96,
   "metadata": {},
   "outputs": [
    {
     "data": {
      "text/plain": [
       "0.1876"
      ]
     },
     "execution_count": 96,
     "metadata": {},
     "output_type": "execute_result"
    }
   ],
   "source": [
    "type_token_ratio(text6[:5000])"
   ]
  },
  {
   "cell_type": "code",
   "execution_count": 97,
   "metadata": {},
   "outputs": [
    {
     "data": {
      "text/plain": [
       "299"
      ]
     },
     "execution_count": 97,
     "metadata": {},
     "output_type": "execute_result"
    }
   ],
   "source": [
    "text6.count(\"the\")"
   ]
  },
  {
   "cell_type": "code",
   "execution_count": 98,
   "metadata": {},
   "outputs": [
    {
     "data": {
      "text/plain": [
       "13721"
      ]
     },
     "execution_count": 98,
     "metadata": {},
     "output_type": "execute_result"
    }
   ],
   "source": [
    "text1.count(\"the\")"
   ]
  },
  {
   "cell_type": "code",
   "execution_count": 99,
   "metadata": {},
   "outputs": [],
   "source": [
    "def rel_freq(word, text):\n",
    "    \"\"\"Computes the relative frequency of word in text.\"\"\"\n",
    "    absolute_freq = text.count(word)\n",
    "    number_of_tokens = len(text)\n",
    "    relative_frequency = absolute_freq / number_of_tokens\n",
    "    return relative_frequency * 1_000_000"
   ]
  },
  {
   "cell_type": "code",
   "execution_count": 100,
   "metadata": {},
   "outputs": [
    {
     "data": {
      "text/plain": [
       "52607.36372733581"
      ]
     },
     "execution_count": 100,
     "metadata": {},
     "output_type": "execute_result"
    }
   ],
   "source": [
    "rel_freq(\"the\", text1)"
   ]
  },
  {
   "cell_type": "code",
   "execution_count": 101,
   "metadata": {},
   "outputs": [
    {
     "data": {
      "text/plain": [
       "17622.44356692403"
      ]
     },
     "execution_count": 101,
     "metadata": {},
     "output_type": "execute_result"
    }
   ],
   "source": [
    "rel_freq(\"the\", text6)"
   ]
  },
  {
   "cell_type": "markdown",
   "metadata": {},
   "source": [
    "# Playing around with NLTK II"
   ]
  },
  {
   "cell_type": "code",
   "execution_count": 109,
   "metadata": {},
   "outputs": [
    {
     "name": "stdout",
     "output_type": "stream",
     "text": [
      "bedevere are if soldier it is in seek then no see did thank robin\n",
      "launcelot king of will your a\n"
     ]
    }
   ],
   "source": [
    "text6.similar(\"Arthur\")"
   ]
  },
  {
   "cell_type": "code",
   "execution_count": 110,
   "metadata": {},
   "outputs": [],
   "source": [
    "text6.similar?"
   ]
  },
  {
   "cell_type": "code",
   "execution_count": 111,
   "metadata": {},
   "outputs": [
    {
     "name": "stdout",
     "output_type": "stream",
     "text": [
      "same the old whale long great other first large good red whole very\n",
      "best dead polar sperm particular fine flying\n"
     ]
    }
   ],
   "source": [
    "text1.similar(\"white\")"
   ]
  },
  {
   "cell_type": "code",
   "execution_count": 112,
   "metadata": {},
   "outputs": [
    {
     "name": "stdout",
     "output_type": "stream",
     "text": [
      "true contemptible christian abundant few part mean careful puzzled\n",
      "mystifying passing curious loving wise doleful gamesome singular\n",
      "delightfully perilous fearless\n"
     ]
    }
   ],
   "source": [
    "text1.similar(\"monstrous\")"
   ]
  },
  {
   "cell_type": "code",
   "execution_count": 113,
   "metadata": {},
   "outputs": [
    {
     "data": {
      "text/plain": [
       "<Text: Sense and Sensibility by Jane Austen 1811>"
      ]
     },
     "execution_count": 113,
     "metadata": {},
     "output_type": "execute_result"
    }
   ],
   "source": [
    "text2"
   ]
  },
  {
   "cell_type": "code",
   "execution_count": 114,
   "metadata": {},
   "outputs": [
    {
     "name": "stdout",
     "output_type": "stream",
     "text": [
      "Displaying 11 of 11 matches:\n",
      ". \" Now , Palmer , you shall see a monstrous pretty girl .\" He immediately went\n",
      "your sister is to marry him . I am monstrous glad of it , for then I shall have\n",
      "ou may tell your sister . She is a monstrous lucky girl to get him , upon my ho\n",
      "k how you will like them . Lucy is monstrous pretty , and so good humoured and \n",
      " Jennings , \" I am sure I shall be monstrous glad of Miss Marianne ' s company \n",
      " usual noisy cheerfulness , \" I am monstrous glad to see you -- sorry I could n\n",
      "t however , as it turns out , I am monstrous glad there was never any thing in \n",
      "so scornfully ! for they say he is monstrous fond of her , as well he may . I s\n",
      "possible that she should .\" \" I am monstrous glad of it . Good gracious ! I hav\n",
      "thing of the kind . So then he was monstrous happy , and talked on some time ab\n",
      "e very genteel people . He makes a monstrous deal of money , and they keep thei\n"
     ]
    }
   ],
   "source": [
    "text2.concordance(\"monstrous\")"
   ]
  },
  {
   "cell_type": "code",
   "execution_count": 115,
   "metadata": {},
   "outputs": [
    {
     "name": "stdout",
     "output_type": "stream",
     "text": [
      "very so exceedingly heartily a as good great extremely remarkably\n",
      "sweet vast amazingly\n"
     ]
    }
   ],
   "source": [
    "text2.similar(\"monstrous\")"
   ]
  },
  {
   "cell_type": "code",
   "execution_count": 116,
   "metadata": {},
   "outputs": [],
   "source": [
    "text2.common_contexts?"
   ]
  },
  {
   "cell_type": "code",
   "execution_count": null,
   "metadata": {},
   "outputs": [],
   "source": [
    "text2.common_contexts([\"monstrous\", \"very\"])"
   ]
  },
  {
   "cell_type": "code",
   "execution_count": 117,
   "metadata": {},
   "outputs": [
    {
     "name": "stdout",
     "output_type": "stream",
     "text": [
      "a_pretty am_glad a_lucky is_pretty be_glad\n"
     ]
    }
   ],
   "source": [
    "words = [\"monstrous\", \"very\"]\n",
    "text2.common_contexts(words)"
   ]
  },
  {
   "cell_type": "code",
   "execution_count": 118,
   "metadata": {},
   "outputs": [],
   "source": [
    "%matplotlib notebook"
   ]
  },
  {
   "cell_type": "code",
   "execution_count": 119,
   "metadata": {},
   "outputs": [],
   "source": [
    "text2.dispersion_plot?"
   ]
  },
  {
   "cell_type": "code",
   "execution_count": 121,
   "metadata": {},
   "outputs": [
    {
     "data": {
      "application/javascript": [
       "/* Put everything inside the global mpl namespace */\n",
       "window.mpl = {};\n",
       "\n",
       "\n",
       "mpl.get_websocket_type = function() {\n",
       "    if (typeof(WebSocket) !== 'undefined') {\n",
       "        return WebSocket;\n",
       "    } else if (typeof(MozWebSocket) !== 'undefined') {\n",
       "        return MozWebSocket;\n",
       "    } else {\n",
       "        alert('Your browser does not have WebSocket support. ' +\n",
       "              'Please try Chrome, Safari or Firefox ≥ 6. ' +\n",
       "              'Firefox 4 and 5 are also supported but you ' +\n",
       "              'have to enable WebSockets in about:config.');\n",
       "    };\n",
       "}\n",
       "\n",
       "mpl.figure = function(figure_id, websocket, ondownload, parent_element) {\n",
       "    this.id = figure_id;\n",
       "\n",
       "    this.ws = websocket;\n",
       "\n",
       "    this.supports_binary = (this.ws.binaryType != undefined);\n",
       "\n",
       "    if (!this.supports_binary) {\n",
       "        var warnings = document.getElementById(\"mpl-warnings\");\n",
       "        if (warnings) {\n",
       "            warnings.style.display = 'block';\n",
       "            warnings.textContent = (\n",
       "                \"This browser does not support binary websocket messages. \" +\n",
       "                    \"Performance may be slow.\");\n",
       "        }\n",
       "    }\n",
       "\n",
       "    this.imageObj = new Image();\n",
       "\n",
       "    this.context = undefined;\n",
       "    this.message = undefined;\n",
       "    this.canvas = undefined;\n",
       "    this.rubberband_canvas = undefined;\n",
       "    this.rubberband_context = undefined;\n",
       "    this.format_dropdown = undefined;\n",
       "\n",
       "    this.image_mode = 'full';\n",
       "\n",
       "    this.root = $('<div/>');\n",
       "    this._root_extra_style(this.root)\n",
       "    this.root.attr('style', 'display: inline-block');\n",
       "\n",
       "    $(parent_element).append(this.root);\n",
       "\n",
       "    this._init_header(this);\n",
       "    this._init_canvas(this);\n",
       "    this._init_toolbar(this);\n",
       "\n",
       "    var fig = this;\n",
       "\n",
       "    this.waiting = false;\n",
       "\n",
       "    this.ws.onopen =  function () {\n",
       "            fig.send_message(\"supports_binary\", {value: fig.supports_binary});\n",
       "            fig.send_message(\"send_image_mode\", {});\n",
       "            if (mpl.ratio != 1) {\n",
       "                fig.send_message(\"set_dpi_ratio\", {'dpi_ratio': mpl.ratio});\n",
       "            }\n",
       "            fig.send_message(\"refresh\", {});\n",
       "        }\n",
       "\n",
       "    this.imageObj.onload = function() {\n",
       "            if (fig.image_mode == 'full') {\n",
       "                // Full images could contain transparency (where diff images\n",
       "                // almost always do), so we need to clear the canvas so that\n",
       "                // there is no ghosting.\n",
       "                fig.context.clearRect(0, 0, fig.canvas.width, fig.canvas.height);\n",
       "            }\n",
       "            fig.context.drawImage(fig.imageObj, 0, 0);\n",
       "        };\n",
       "\n",
       "    this.imageObj.onunload = function() {\n",
       "        fig.ws.close();\n",
       "    }\n",
       "\n",
       "    this.ws.onmessage = this._make_on_message_function(this);\n",
       "\n",
       "    this.ondownload = ondownload;\n",
       "}\n",
       "\n",
       "mpl.figure.prototype._init_header = function() {\n",
       "    var titlebar = $(\n",
       "        '<div class=\"ui-dialog-titlebar ui-widget-header ui-corner-all ' +\n",
       "        'ui-helper-clearfix\"/>');\n",
       "    var titletext = $(\n",
       "        '<div class=\"ui-dialog-title\" style=\"width: 100%; ' +\n",
       "        'text-align: center; padding: 3px;\"/>');\n",
       "    titlebar.append(titletext)\n",
       "    this.root.append(titlebar);\n",
       "    this.header = titletext[0];\n",
       "}\n",
       "\n",
       "\n",
       "\n",
       "mpl.figure.prototype._canvas_extra_style = function(canvas_div) {\n",
       "\n",
       "}\n",
       "\n",
       "\n",
       "mpl.figure.prototype._root_extra_style = function(canvas_div) {\n",
       "\n",
       "}\n",
       "\n",
       "mpl.figure.prototype._init_canvas = function() {\n",
       "    var fig = this;\n",
       "\n",
       "    var canvas_div = $('<div/>');\n",
       "\n",
       "    canvas_div.attr('style', 'position: relative; clear: both; outline: 0');\n",
       "\n",
       "    function canvas_keyboard_event(event) {\n",
       "        return fig.key_event(event, event['data']);\n",
       "    }\n",
       "\n",
       "    canvas_div.keydown('key_press', canvas_keyboard_event);\n",
       "    canvas_div.keyup('key_release', canvas_keyboard_event);\n",
       "    this.canvas_div = canvas_div\n",
       "    this._canvas_extra_style(canvas_div)\n",
       "    this.root.append(canvas_div);\n",
       "\n",
       "    var canvas = $('<canvas/>');\n",
       "    canvas.addClass('mpl-canvas');\n",
       "    canvas.attr('style', \"left: 0; top: 0; z-index: 0; outline: 0\")\n",
       "\n",
       "    this.canvas = canvas[0];\n",
       "    this.context = canvas[0].getContext(\"2d\");\n",
       "\n",
       "    var backingStore = this.context.backingStorePixelRatio ||\n",
       "\tthis.context.webkitBackingStorePixelRatio ||\n",
       "\tthis.context.mozBackingStorePixelRatio ||\n",
       "\tthis.context.msBackingStorePixelRatio ||\n",
       "\tthis.context.oBackingStorePixelRatio ||\n",
       "\tthis.context.backingStorePixelRatio || 1;\n",
       "\n",
       "    mpl.ratio = (window.devicePixelRatio || 1) / backingStore;\n",
       "\n",
       "    var rubberband = $('<canvas/>');\n",
       "    rubberband.attr('style', \"position: absolute; left: 0; top: 0; z-index: 1;\")\n",
       "\n",
       "    var pass_mouse_events = true;\n",
       "\n",
       "    canvas_div.resizable({\n",
       "        start: function(event, ui) {\n",
       "            pass_mouse_events = false;\n",
       "        },\n",
       "        resize: function(event, ui) {\n",
       "            fig.request_resize(ui.size.width, ui.size.height);\n",
       "        },\n",
       "        stop: function(event, ui) {\n",
       "            pass_mouse_events = true;\n",
       "            fig.request_resize(ui.size.width, ui.size.height);\n",
       "        },\n",
       "    });\n",
       "\n",
       "    function mouse_event_fn(event) {\n",
       "        if (pass_mouse_events)\n",
       "            return fig.mouse_event(event, event['data']);\n",
       "    }\n",
       "\n",
       "    rubberband.mousedown('button_press', mouse_event_fn);\n",
       "    rubberband.mouseup('button_release', mouse_event_fn);\n",
       "    // Throttle sequential mouse events to 1 every 20ms.\n",
       "    rubberband.mousemove('motion_notify', mouse_event_fn);\n",
       "\n",
       "    rubberband.mouseenter('figure_enter', mouse_event_fn);\n",
       "    rubberband.mouseleave('figure_leave', mouse_event_fn);\n",
       "\n",
       "    canvas_div.on(\"wheel\", function (event) {\n",
       "        event = event.originalEvent;\n",
       "        event['data'] = 'scroll'\n",
       "        if (event.deltaY < 0) {\n",
       "            event.step = 1;\n",
       "        } else {\n",
       "            event.step = -1;\n",
       "        }\n",
       "        mouse_event_fn(event);\n",
       "    });\n",
       "\n",
       "    canvas_div.append(canvas);\n",
       "    canvas_div.append(rubberband);\n",
       "\n",
       "    this.rubberband = rubberband;\n",
       "    this.rubberband_canvas = rubberband[0];\n",
       "    this.rubberband_context = rubberband[0].getContext(\"2d\");\n",
       "    this.rubberband_context.strokeStyle = \"#000000\";\n",
       "\n",
       "    this._resize_canvas = function(width, height) {\n",
       "        // Keep the size of the canvas, canvas container, and rubber band\n",
       "        // canvas in synch.\n",
       "        canvas_div.css('width', width)\n",
       "        canvas_div.css('height', height)\n",
       "\n",
       "        canvas.attr('width', width * mpl.ratio);\n",
       "        canvas.attr('height', height * mpl.ratio);\n",
       "        canvas.attr('style', 'width: ' + width + 'px; height: ' + height + 'px;');\n",
       "\n",
       "        rubberband.attr('width', width);\n",
       "        rubberband.attr('height', height);\n",
       "    }\n",
       "\n",
       "    // Set the figure to an initial 600x600px, this will subsequently be updated\n",
       "    // upon first draw.\n",
       "    this._resize_canvas(600, 600);\n",
       "\n",
       "    // Disable right mouse context menu.\n",
       "    $(this.rubberband_canvas).bind(\"contextmenu\",function(e){\n",
       "        return false;\n",
       "    });\n",
       "\n",
       "    function set_focus () {\n",
       "        canvas.focus();\n",
       "        canvas_div.focus();\n",
       "    }\n",
       "\n",
       "    window.setTimeout(set_focus, 100);\n",
       "}\n",
       "\n",
       "mpl.figure.prototype._init_toolbar = function() {\n",
       "    var fig = this;\n",
       "\n",
       "    var nav_element = $('<div/>');\n",
       "    nav_element.attr('style', 'width: 100%');\n",
       "    this.root.append(nav_element);\n",
       "\n",
       "    // Define a callback function for later on.\n",
       "    function toolbar_event(event) {\n",
       "        return fig.toolbar_button_onclick(event['data']);\n",
       "    }\n",
       "    function toolbar_mouse_event(event) {\n",
       "        return fig.toolbar_button_onmouseover(event['data']);\n",
       "    }\n",
       "\n",
       "    for(var toolbar_ind in mpl.toolbar_items) {\n",
       "        var name = mpl.toolbar_items[toolbar_ind][0];\n",
       "        var tooltip = mpl.toolbar_items[toolbar_ind][1];\n",
       "        var image = mpl.toolbar_items[toolbar_ind][2];\n",
       "        var method_name = mpl.toolbar_items[toolbar_ind][3];\n",
       "\n",
       "        if (!name) {\n",
       "            // put a spacer in here.\n",
       "            continue;\n",
       "        }\n",
       "        var button = $('<button/>');\n",
       "        button.addClass('ui-button ui-widget ui-state-default ui-corner-all ' +\n",
       "                        'ui-button-icon-only');\n",
       "        button.attr('role', 'button');\n",
       "        button.attr('aria-disabled', 'false');\n",
       "        button.click(method_name, toolbar_event);\n",
       "        button.mouseover(tooltip, toolbar_mouse_event);\n",
       "\n",
       "        var icon_img = $('<span/>');\n",
       "        icon_img.addClass('ui-button-icon-primary ui-icon');\n",
       "        icon_img.addClass(image);\n",
       "        icon_img.addClass('ui-corner-all');\n",
       "\n",
       "        var tooltip_span = $('<span/>');\n",
       "        tooltip_span.addClass('ui-button-text');\n",
       "        tooltip_span.html(tooltip);\n",
       "\n",
       "        button.append(icon_img);\n",
       "        button.append(tooltip_span);\n",
       "\n",
       "        nav_element.append(button);\n",
       "    }\n",
       "\n",
       "    var fmt_picker_span = $('<span/>');\n",
       "\n",
       "    var fmt_picker = $('<select/>');\n",
       "    fmt_picker.addClass('mpl-toolbar-option ui-widget ui-widget-content');\n",
       "    fmt_picker_span.append(fmt_picker);\n",
       "    nav_element.append(fmt_picker_span);\n",
       "    this.format_dropdown = fmt_picker[0];\n",
       "\n",
       "    for (var ind in mpl.extensions) {\n",
       "        var fmt = mpl.extensions[ind];\n",
       "        var option = $(\n",
       "            '<option/>', {selected: fmt === mpl.default_extension}).html(fmt);\n",
       "        fmt_picker.append(option);\n",
       "    }\n",
       "\n",
       "    // Add hover states to the ui-buttons\n",
       "    $( \".ui-button\" ).hover(\n",
       "        function() { $(this).addClass(\"ui-state-hover\");},\n",
       "        function() { $(this).removeClass(\"ui-state-hover\");}\n",
       "    );\n",
       "\n",
       "    var status_bar = $('<span class=\"mpl-message\"/>');\n",
       "    nav_element.append(status_bar);\n",
       "    this.message = status_bar[0];\n",
       "}\n",
       "\n",
       "mpl.figure.prototype.request_resize = function(x_pixels, y_pixels) {\n",
       "    // Request matplotlib to resize the figure. Matplotlib will then trigger a resize in the client,\n",
       "    // which will in turn request a refresh of the image.\n",
       "    this.send_message('resize', {'width': x_pixels, 'height': y_pixels});\n",
       "}\n",
       "\n",
       "mpl.figure.prototype.send_message = function(type, properties) {\n",
       "    properties['type'] = type;\n",
       "    properties['figure_id'] = this.id;\n",
       "    this.ws.send(JSON.stringify(properties));\n",
       "}\n",
       "\n",
       "mpl.figure.prototype.send_draw_message = function() {\n",
       "    if (!this.waiting) {\n",
       "        this.waiting = true;\n",
       "        this.ws.send(JSON.stringify({type: \"draw\", figure_id: this.id}));\n",
       "    }\n",
       "}\n",
       "\n",
       "\n",
       "mpl.figure.prototype.handle_save = function(fig, msg) {\n",
       "    var format_dropdown = fig.format_dropdown;\n",
       "    var format = format_dropdown.options[format_dropdown.selectedIndex].value;\n",
       "    fig.ondownload(fig, format);\n",
       "}\n",
       "\n",
       "\n",
       "mpl.figure.prototype.handle_resize = function(fig, msg) {\n",
       "    var size = msg['size'];\n",
       "    if (size[0] != fig.canvas.width || size[1] != fig.canvas.height) {\n",
       "        fig._resize_canvas(size[0], size[1]);\n",
       "        fig.send_message(\"refresh\", {});\n",
       "    };\n",
       "}\n",
       "\n",
       "mpl.figure.prototype.handle_rubberband = function(fig, msg) {\n",
       "    var x0 = msg['x0'] / mpl.ratio;\n",
       "    var y0 = (fig.canvas.height - msg['y0']) / mpl.ratio;\n",
       "    var x1 = msg['x1'] / mpl.ratio;\n",
       "    var y1 = (fig.canvas.height - msg['y1']) / mpl.ratio;\n",
       "    x0 = Math.floor(x0) + 0.5;\n",
       "    y0 = Math.floor(y0) + 0.5;\n",
       "    x1 = Math.floor(x1) + 0.5;\n",
       "    y1 = Math.floor(y1) + 0.5;\n",
       "    var min_x = Math.min(x0, x1);\n",
       "    var min_y = Math.min(y0, y1);\n",
       "    var width = Math.abs(x1 - x0);\n",
       "    var height = Math.abs(y1 - y0);\n",
       "\n",
       "    fig.rubberband_context.clearRect(\n",
       "        0, 0, fig.canvas.width, fig.canvas.height);\n",
       "\n",
       "    fig.rubberband_context.strokeRect(min_x, min_y, width, height);\n",
       "}\n",
       "\n",
       "mpl.figure.prototype.handle_figure_label = function(fig, msg) {\n",
       "    // Updates the figure title.\n",
       "    fig.header.textContent = msg['label'];\n",
       "}\n",
       "\n",
       "mpl.figure.prototype.handle_cursor = function(fig, msg) {\n",
       "    var cursor = msg['cursor'];\n",
       "    switch(cursor)\n",
       "    {\n",
       "    case 0:\n",
       "        cursor = 'pointer';\n",
       "        break;\n",
       "    case 1:\n",
       "        cursor = 'default';\n",
       "        break;\n",
       "    case 2:\n",
       "        cursor = 'crosshair';\n",
       "        break;\n",
       "    case 3:\n",
       "        cursor = 'move';\n",
       "        break;\n",
       "    }\n",
       "    fig.rubberband_canvas.style.cursor = cursor;\n",
       "}\n",
       "\n",
       "mpl.figure.prototype.handle_message = function(fig, msg) {\n",
       "    fig.message.textContent = msg['message'];\n",
       "}\n",
       "\n",
       "mpl.figure.prototype.handle_draw = function(fig, msg) {\n",
       "    // Request the server to send over a new figure.\n",
       "    fig.send_draw_message();\n",
       "}\n",
       "\n",
       "mpl.figure.prototype.handle_image_mode = function(fig, msg) {\n",
       "    fig.image_mode = msg['mode'];\n",
       "}\n",
       "\n",
       "mpl.figure.prototype.updated_canvas_event = function() {\n",
       "    // Called whenever the canvas gets updated.\n",
       "    this.send_message(\"ack\", {});\n",
       "}\n",
       "\n",
       "// A function to construct a web socket function for onmessage handling.\n",
       "// Called in the figure constructor.\n",
       "mpl.figure.prototype._make_on_message_function = function(fig) {\n",
       "    return function socket_on_message(evt) {\n",
       "        if (evt.data instanceof Blob) {\n",
       "            /* FIXME: We get \"Resource interpreted as Image but\n",
       "             * transferred with MIME type text/plain:\" errors on\n",
       "             * Chrome.  But how to set the MIME type?  It doesn't seem\n",
       "             * to be part of the websocket stream */\n",
       "            evt.data.type = \"image/png\";\n",
       "\n",
       "            /* Free the memory for the previous frames */\n",
       "            if (fig.imageObj.src) {\n",
       "                (window.URL || window.webkitURL).revokeObjectURL(\n",
       "                    fig.imageObj.src);\n",
       "            }\n",
       "\n",
       "            fig.imageObj.src = (window.URL || window.webkitURL).createObjectURL(\n",
       "                evt.data);\n",
       "            fig.updated_canvas_event();\n",
       "            fig.waiting = false;\n",
       "            return;\n",
       "        }\n",
       "        else if (typeof evt.data === 'string' && evt.data.slice(0, 21) == \"data:image/png;base64\") {\n",
       "            fig.imageObj.src = evt.data;\n",
       "            fig.updated_canvas_event();\n",
       "            fig.waiting = false;\n",
       "            return;\n",
       "        }\n",
       "\n",
       "        var msg = JSON.parse(evt.data);\n",
       "        var msg_type = msg['type'];\n",
       "\n",
       "        // Call the  \"handle_{type}\" callback, which takes\n",
       "        // the figure and JSON message as its only arguments.\n",
       "        try {\n",
       "            var callback = fig[\"handle_\" + msg_type];\n",
       "        } catch (e) {\n",
       "            console.log(\"No handler for the '\" + msg_type + \"' message type: \", msg);\n",
       "            return;\n",
       "        }\n",
       "\n",
       "        if (callback) {\n",
       "            try {\n",
       "                // console.log(\"Handling '\" + msg_type + \"' message: \", msg);\n",
       "                callback(fig, msg);\n",
       "            } catch (e) {\n",
       "                console.log(\"Exception inside the 'handler_\" + msg_type + \"' callback:\", e, e.stack, msg);\n",
       "            }\n",
       "        }\n",
       "    };\n",
       "}\n",
       "\n",
       "// from http://stackoverflow.com/questions/1114465/getting-mouse-location-in-canvas\n",
       "mpl.findpos = function(e) {\n",
       "    //this section is from http://www.quirksmode.org/js/events_properties.html\n",
       "    var targ;\n",
       "    if (!e)\n",
       "        e = window.event;\n",
       "    if (e.target)\n",
       "        targ = e.target;\n",
       "    else if (e.srcElement)\n",
       "        targ = e.srcElement;\n",
       "    if (targ.nodeType == 3) // defeat Safari bug\n",
       "        targ = targ.parentNode;\n",
       "\n",
       "    // jQuery normalizes the pageX and pageY\n",
       "    // pageX,Y are the mouse positions relative to the document\n",
       "    // offset() returns the position of the element relative to the document\n",
       "    var x = e.pageX - $(targ).offset().left;\n",
       "    var y = e.pageY - $(targ).offset().top;\n",
       "\n",
       "    return {\"x\": x, \"y\": y};\n",
       "};\n",
       "\n",
       "/*\n",
       " * return a copy of an object with only non-object keys\n",
       " * we need this to avoid circular references\n",
       " * http://stackoverflow.com/a/24161582/3208463\n",
       " */\n",
       "function simpleKeys (original) {\n",
       "  return Object.keys(original).reduce(function (obj, key) {\n",
       "    if (typeof original[key] !== 'object')\n",
       "        obj[key] = original[key]\n",
       "    return obj;\n",
       "  }, {});\n",
       "}\n",
       "\n",
       "mpl.figure.prototype.mouse_event = function(event, name) {\n",
       "    var canvas_pos = mpl.findpos(event)\n",
       "\n",
       "    if (name === 'button_press')\n",
       "    {\n",
       "        this.canvas.focus();\n",
       "        this.canvas_div.focus();\n",
       "    }\n",
       "\n",
       "    var x = canvas_pos.x * mpl.ratio;\n",
       "    var y = canvas_pos.y * mpl.ratio;\n",
       "\n",
       "    this.send_message(name, {x: x, y: y, button: event.button,\n",
       "                             step: event.step,\n",
       "                             guiEvent: simpleKeys(event)});\n",
       "\n",
       "    /* This prevents the web browser from automatically changing to\n",
       "     * the text insertion cursor when the button is pressed.  We want\n",
       "     * to control all of the cursor setting manually through the\n",
       "     * 'cursor' event from matplotlib */\n",
       "    event.preventDefault();\n",
       "    return false;\n",
       "}\n",
       "\n",
       "mpl.figure.prototype._key_event_extra = function(event, name) {\n",
       "    // Handle any extra behaviour associated with a key event\n",
       "}\n",
       "\n",
       "mpl.figure.prototype.key_event = function(event, name) {\n",
       "\n",
       "    // Prevent repeat events\n",
       "    if (name == 'key_press')\n",
       "    {\n",
       "        if (event.which === this._key)\n",
       "            return;\n",
       "        else\n",
       "            this._key = event.which;\n",
       "    }\n",
       "    if (name == 'key_release')\n",
       "        this._key = null;\n",
       "\n",
       "    var value = '';\n",
       "    if (event.ctrlKey && event.which != 17)\n",
       "        value += \"ctrl+\";\n",
       "    if (event.altKey && event.which != 18)\n",
       "        value += \"alt+\";\n",
       "    if (event.shiftKey && event.which != 16)\n",
       "        value += \"shift+\";\n",
       "\n",
       "    value += 'k';\n",
       "    value += event.which.toString();\n",
       "\n",
       "    this._key_event_extra(event, name);\n",
       "\n",
       "    this.send_message(name, {key: value,\n",
       "                             guiEvent: simpleKeys(event)});\n",
       "    return false;\n",
       "}\n",
       "\n",
       "mpl.figure.prototype.toolbar_button_onclick = function(name) {\n",
       "    if (name == 'download') {\n",
       "        this.handle_save(this, null);\n",
       "    } else {\n",
       "        this.send_message(\"toolbar_button\", {name: name});\n",
       "    }\n",
       "};\n",
       "\n",
       "mpl.figure.prototype.toolbar_button_onmouseover = function(tooltip) {\n",
       "    this.message.textContent = tooltip;\n",
       "};\n",
       "mpl.toolbar_items = [[\"Home\", \"Reset original view\", \"fa fa-home icon-home\", \"home\"], [\"Back\", \"Back to previous view\", \"fa fa-arrow-left icon-arrow-left\", \"back\"], [\"Forward\", \"Forward to next view\", \"fa fa-arrow-right icon-arrow-right\", \"forward\"], [\"\", \"\", \"\", \"\"], [\"Pan\", \"Pan axes with left mouse, zoom with right\", \"fa fa-arrows icon-move\", \"pan\"], [\"Zoom\", \"Zoom to rectangle\", \"fa fa-square-o icon-check-empty\", \"zoom\"], [\"\", \"\", \"\", \"\"], [\"Download\", \"Download plot\", \"fa fa-floppy-o icon-save\", \"download\"]];\n",
       "\n",
       "mpl.extensions = [\"eps\", \"jpeg\", \"pdf\", \"png\", \"ps\", \"raw\", \"svg\", \"tif\"];\n",
       "\n",
       "mpl.default_extension = \"png\";var comm_websocket_adapter = function(comm) {\n",
       "    // Create a \"websocket\"-like object which calls the given IPython comm\n",
       "    // object with the appropriate methods. Currently this is a non binary\n",
       "    // socket, so there is still some room for performance tuning.\n",
       "    var ws = {};\n",
       "\n",
       "    ws.close = function() {\n",
       "        comm.close()\n",
       "    };\n",
       "    ws.send = function(m) {\n",
       "        //console.log('sending', m);\n",
       "        comm.send(m);\n",
       "    };\n",
       "    // Register the callback with on_msg.\n",
       "    comm.on_msg(function(msg) {\n",
       "        //console.log('receiving', msg['content']['data'], msg);\n",
       "        // Pass the mpl event to the overridden (by mpl) onmessage function.\n",
       "        ws.onmessage(msg['content']['data'])\n",
       "    });\n",
       "    return ws;\n",
       "}\n",
       "\n",
       "mpl.mpl_figure_comm = function(comm, msg) {\n",
       "    // This is the function which gets called when the mpl process\n",
       "    // starts-up an IPython Comm through the \"matplotlib\" channel.\n",
       "\n",
       "    var id = msg.content.data.id;\n",
       "    // Get hold of the div created by the display call when the Comm\n",
       "    // socket was opened in Python.\n",
       "    var element = $(\"#\" + id);\n",
       "    var ws_proxy = comm_websocket_adapter(comm)\n",
       "\n",
       "    function ondownload(figure, format) {\n",
       "        window.open(figure.imageObj.src);\n",
       "    }\n",
       "\n",
       "    var fig = new mpl.figure(id, ws_proxy,\n",
       "                           ondownload,\n",
       "                           element.get(0));\n",
       "\n",
       "    // Call onopen now - mpl needs it, as it is assuming we've passed it a real\n",
       "    // web socket which is closed, not our websocket->open comm proxy.\n",
       "    ws_proxy.onopen();\n",
       "\n",
       "    fig.parent_element = element.get(0);\n",
       "    fig.cell_info = mpl.find_output_cell(\"<div id='\" + id + \"'></div>\");\n",
       "    if (!fig.cell_info) {\n",
       "        console.error(\"Failed to find cell for figure\", id, fig);\n",
       "        return;\n",
       "    }\n",
       "\n",
       "    var output_index = fig.cell_info[2]\n",
       "    var cell = fig.cell_info[0];\n",
       "\n",
       "};\n",
       "\n",
       "mpl.figure.prototype.handle_close = function(fig, msg) {\n",
       "    var width = fig.canvas.width/mpl.ratio\n",
       "    fig.root.unbind('remove')\n",
       "\n",
       "    // Update the output cell to use the data from the current canvas.\n",
       "    fig.push_to_output();\n",
       "    var dataURL = fig.canvas.toDataURL();\n",
       "    // Re-enable the keyboard manager in IPython - without this line, in FF,\n",
       "    // the notebook keyboard shortcuts fail.\n",
       "    IPython.keyboard_manager.enable()\n",
       "    $(fig.parent_element).html('<img src=\"' + dataURL + '\" width=\"' + width + '\">');\n",
       "    fig.close_ws(fig, msg);\n",
       "}\n",
       "\n",
       "mpl.figure.prototype.close_ws = function(fig, msg){\n",
       "    fig.send_message('closing', msg);\n",
       "    // fig.ws.close()\n",
       "}\n",
       "\n",
       "mpl.figure.prototype.push_to_output = function(remove_interactive) {\n",
       "    // Turn the data on the canvas into data in the output cell.\n",
       "    var width = this.canvas.width/mpl.ratio\n",
       "    var dataURL = this.canvas.toDataURL();\n",
       "    this.cell_info[1]['text/html'] = '<img src=\"' + dataURL + '\" width=\"' + width + '\">';\n",
       "}\n",
       "\n",
       "mpl.figure.prototype.updated_canvas_event = function() {\n",
       "    // Tell IPython that the notebook contents must change.\n",
       "    IPython.notebook.set_dirty(true);\n",
       "    this.send_message(\"ack\", {});\n",
       "    var fig = this;\n",
       "    // Wait a second, then push the new image to the DOM so\n",
       "    // that it is saved nicely (might be nice to debounce this).\n",
       "    setTimeout(function () { fig.push_to_output() }, 1000);\n",
       "}\n",
       "\n",
       "mpl.figure.prototype._init_toolbar = function() {\n",
       "    var fig = this;\n",
       "\n",
       "    var nav_element = $('<div/>');\n",
       "    nav_element.attr('style', 'width: 100%');\n",
       "    this.root.append(nav_element);\n",
       "\n",
       "    // Define a callback function for later on.\n",
       "    function toolbar_event(event) {\n",
       "        return fig.toolbar_button_onclick(event['data']);\n",
       "    }\n",
       "    function toolbar_mouse_event(event) {\n",
       "        return fig.toolbar_button_onmouseover(event['data']);\n",
       "    }\n",
       "\n",
       "    for(var toolbar_ind in mpl.toolbar_items){\n",
       "        var name = mpl.toolbar_items[toolbar_ind][0];\n",
       "        var tooltip = mpl.toolbar_items[toolbar_ind][1];\n",
       "        var image = mpl.toolbar_items[toolbar_ind][2];\n",
       "        var method_name = mpl.toolbar_items[toolbar_ind][3];\n",
       "\n",
       "        if (!name) { continue; };\n",
       "\n",
       "        var button = $('<button class=\"btn btn-default\" href=\"#\" title=\"' + name + '\"><i class=\"fa ' + image + ' fa-lg\"></i></button>');\n",
       "        button.click(method_name, toolbar_event);\n",
       "        button.mouseover(tooltip, toolbar_mouse_event);\n",
       "        nav_element.append(button);\n",
       "    }\n",
       "\n",
       "    // Add the status bar.\n",
       "    var status_bar = $('<span class=\"mpl-message\" style=\"text-align:right; float: right;\"/>');\n",
       "    nav_element.append(status_bar);\n",
       "    this.message = status_bar[0];\n",
       "\n",
       "    // Add the close button to the window.\n",
       "    var buttongrp = $('<div class=\"btn-group inline pull-right\"></div>');\n",
       "    var button = $('<button class=\"btn btn-mini btn-primary\" href=\"#\" title=\"Stop Interaction\"><i class=\"fa fa-power-off icon-remove icon-large\"></i></button>');\n",
       "    button.click(function (evt) { fig.handle_close(fig, {}); } );\n",
       "    button.mouseover('Stop Interaction', toolbar_mouse_event);\n",
       "    buttongrp.append(button);\n",
       "    var titlebar = this.root.find($('.ui-dialog-titlebar'));\n",
       "    titlebar.prepend(buttongrp);\n",
       "}\n",
       "\n",
       "mpl.figure.prototype._root_extra_style = function(el){\n",
       "    var fig = this\n",
       "    el.on(\"remove\", function(){\n",
       "\tfig.close_ws(fig, {});\n",
       "    });\n",
       "}\n",
       "\n",
       "mpl.figure.prototype._canvas_extra_style = function(el){\n",
       "    // this is important to make the div 'focusable\n",
       "    el.attr('tabindex', 0)\n",
       "    // reach out to IPython and tell the keyboard manager to turn it's self\n",
       "    // off when our div gets focus\n",
       "\n",
       "    // location in version 3\n",
       "    if (IPython.notebook.keyboard_manager) {\n",
       "        IPython.notebook.keyboard_manager.register_events(el);\n",
       "    }\n",
       "    else {\n",
       "        // location in version 2\n",
       "        IPython.keyboard_manager.register_events(el);\n",
       "    }\n",
       "\n",
       "}\n",
       "\n",
       "mpl.figure.prototype._key_event_extra = function(event, name) {\n",
       "    var manager = IPython.notebook.keyboard_manager;\n",
       "    if (!manager)\n",
       "        manager = IPython.keyboard_manager;\n",
       "\n",
       "    // Check for shift+enter\n",
       "    if (event.shiftKey && event.which == 13) {\n",
       "        this.canvas_div.blur();\n",
       "        event.shiftKey = false;\n",
       "        // Send a \"J\" for go to next cell\n",
       "        event.which = 74;\n",
       "        event.keyCode = 74;\n",
       "        manager.command_mode();\n",
       "        manager.handle_keydown(event);\n",
       "    }\n",
       "}\n",
       "\n",
       "mpl.figure.prototype.handle_save = function(fig, msg) {\n",
       "    fig.ondownload(fig, null);\n",
       "}\n",
       "\n",
       "\n",
       "mpl.find_output_cell = function(html_output) {\n",
       "    // Return the cell and output element which can be found *uniquely* in the notebook.\n",
       "    // Note - this is a bit hacky, but it is done because the \"notebook_saving.Notebook\"\n",
       "    // IPython event is triggered only after the cells have been serialised, which for\n",
       "    // our purposes (turning an active figure into a static one), is too late.\n",
       "    var cells = IPython.notebook.get_cells();\n",
       "    var ncells = cells.length;\n",
       "    for (var i=0; i<ncells; i++) {\n",
       "        var cell = cells[i];\n",
       "        if (cell.cell_type === 'code'){\n",
       "            for (var j=0; j<cell.output_area.outputs.length; j++) {\n",
       "                var data = cell.output_area.outputs[j];\n",
       "                if (data.data) {\n",
       "                    // IPython >= 3 moved mimebundle to data attribute of output\n",
       "                    data = data.data;\n",
       "                }\n",
       "                if (data['text/html'] == html_output) {\n",
       "                    return [cell, data, j];\n",
       "                }\n",
       "            }\n",
       "        }\n",
       "    }\n",
       "}\n",
       "\n",
       "// Register the function which deals with the matplotlib target/channel.\n",
       "// The kernel may be null if the page has been refreshed.\n",
       "if (IPython.notebook.kernel != null) {\n",
       "    IPython.notebook.kernel.comm_manager.register_target('matplotlib', mpl.mpl_figure_comm);\n",
       "}\n"
      ],
      "text/plain": [
       "<IPython.core.display.Javascript object>"
      ]
     },
     "metadata": {},
     "output_type": "display_data"
    },
    {
     "data": {
      "text/html": [
       "<img src=\"data:image/png;base64,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\" width=\"640\">"
      ],
      "text/plain": [
       "<IPython.core.display.HTML object>"
      ]
     },
     "metadata": {},
     "output_type": "display_data"
    }
   ],
   "source": [
    "text2.dispersion_plot([\"Elinor\", \"Marianne\", \"Edward\", \"Willoughby\"])"
   ]
  },
  {
   "cell_type": "code",
   "execution_count": 122,
   "metadata": {},
   "outputs": [
    {
     "data": {
      "text/plain": [
       "<Text: Inaugural Address Corpus>"
      ]
     },
     "execution_count": 122,
     "metadata": {},
     "output_type": "execute_result"
    }
   ],
   "source": [
    "text4"
   ]
  },
  {
   "cell_type": "code",
   "execution_count": 123,
   "metadata": {},
   "outputs": [
    {
     "data": {
      "text/plain": [
       "False"
      ]
     },
     "execution_count": 123,
     "metadata": {},
     "output_type": "execute_result"
    }
   ],
   "source": [
    "\"Obama\" in text4"
   ]
  },
  {
   "cell_type": "code",
   "execution_count": 125,
   "metadata": {
    "scrolled": true
   },
   "outputs": [
    {
     "data": {
      "application/javascript": [
       "/* Put everything inside the global mpl namespace */\n",
       "window.mpl = {};\n",
       "\n",
       "\n",
       "mpl.get_websocket_type = function() {\n",
       "    if (typeof(WebSocket) !== 'undefined') {\n",
       "        return WebSocket;\n",
       "    } else if (typeof(MozWebSocket) !== 'undefined') {\n",
       "        return MozWebSocket;\n",
       "    } else {\n",
       "        alert('Your browser does not have WebSocket support. ' +\n",
       "              'Please try Chrome, Safari or Firefox ≥ 6. ' +\n",
       "              'Firefox 4 and 5 are also supported but you ' +\n",
       "              'have to enable WebSockets in about:config.');\n",
       "    };\n",
       "}\n",
       "\n",
       "mpl.figure = function(figure_id, websocket, ondownload, parent_element) {\n",
       "    this.id = figure_id;\n",
       "\n",
       "    this.ws = websocket;\n",
       "\n",
       "    this.supports_binary = (this.ws.binaryType != undefined);\n",
       "\n",
       "    if (!this.supports_binary) {\n",
       "        var warnings = document.getElementById(\"mpl-warnings\");\n",
       "        if (warnings) {\n",
       "            warnings.style.display = 'block';\n",
       "            warnings.textContent = (\n",
       "                \"This browser does not support binary websocket messages. \" +\n",
       "                    \"Performance may be slow.\");\n",
       "        }\n",
       "    }\n",
       "\n",
       "    this.imageObj = new Image();\n",
       "\n",
       "    this.context = undefined;\n",
       "    this.message = undefined;\n",
       "    this.canvas = undefined;\n",
       "    this.rubberband_canvas = undefined;\n",
       "    this.rubberband_context = undefined;\n",
       "    this.format_dropdown = undefined;\n",
       "\n",
       "    this.image_mode = 'full';\n",
       "\n",
       "    this.root = $('<div/>');\n",
       "    this._root_extra_style(this.root)\n",
       "    this.root.attr('style', 'display: inline-block');\n",
       "\n",
       "    $(parent_element).append(this.root);\n",
       "\n",
       "    this._init_header(this);\n",
       "    this._init_canvas(this);\n",
       "    this._init_toolbar(this);\n",
       "\n",
       "    var fig = this;\n",
       "\n",
       "    this.waiting = false;\n",
       "\n",
       "    this.ws.onopen =  function () {\n",
       "            fig.send_message(\"supports_binary\", {value: fig.supports_binary});\n",
       "            fig.send_message(\"send_image_mode\", {});\n",
       "            if (mpl.ratio != 1) {\n",
       "                fig.send_message(\"set_dpi_ratio\", {'dpi_ratio': mpl.ratio});\n",
       "            }\n",
       "            fig.send_message(\"refresh\", {});\n",
       "        }\n",
       "\n",
       "    this.imageObj.onload = function() {\n",
       "            if (fig.image_mode == 'full') {\n",
       "                // Full images could contain transparency (where diff images\n",
       "                // almost always do), so we need to clear the canvas so that\n",
       "                // there is no ghosting.\n",
       "                fig.context.clearRect(0, 0, fig.canvas.width, fig.canvas.height);\n",
       "            }\n",
       "            fig.context.drawImage(fig.imageObj, 0, 0);\n",
       "        };\n",
       "\n",
       "    this.imageObj.onunload = function() {\n",
       "        fig.ws.close();\n",
       "    }\n",
       "\n",
       "    this.ws.onmessage = this._make_on_message_function(this);\n",
       "\n",
       "    this.ondownload = ondownload;\n",
       "}\n",
       "\n",
       "mpl.figure.prototype._init_header = function() {\n",
       "    var titlebar = $(\n",
       "        '<div class=\"ui-dialog-titlebar ui-widget-header ui-corner-all ' +\n",
       "        'ui-helper-clearfix\"/>');\n",
       "    var titletext = $(\n",
       "        '<div class=\"ui-dialog-title\" style=\"width: 100%; ' +\n",
       "        'text-align: center; padding: 3px;\"/>');\n",
       "    titlebar.append(titletext)\n",
       "    this.root.append(titlebar);\n",
       "    this.header = titletext[0];\n",
       "}\n",
       "\n",
       "\n",
       "\n",
       "mpl.figure.prototype._canvas_extra_style = function(canvas_div) {\n",
       "\n",
       "}\n",
       "\n",
       "\n",
       "mpl.figure.prototype._root_extra_style = function(canvas_div) {\n",
       "\n",
       "}\n",
       "\n",
       "mpl.figure.prototype._init_canvas = function() {\n",
       "    var fig = this;\n",
       "\n",
       "    var canvas_div = $('<div/>');\n",
       "\n",
       "    canvas_div.attr('style', 'position: relative; clear: both; outline: 0');\n",
       "\n",
       "    function canvas_keyboard_event(event) {\n",
       "        return fig.key_event(event, event['data']);\n",
       "    }\n",
       "\n",
       "    canvas_div.keydown('key_press', canvas_keyboard_event);\n",
       "    canvas_div.keyup('key_release', canvas_keyboard_event);\n",
       "    this.canvas_div = canvas_div\n",
       "    this._canvas_extra_style(canvas_div)\n",
       "    this.root.append(canvas_div);\n",
       "\n",
       "    var canvas = $('<canvas/>');\n",
       "    canvas.addClass('mpl-canvas');\n",
       "    canvas.attr('style', \"left: 0; top: 0; z-index: 0; outline: 0\")\n",
       "\n",
       "    this.canvas = canvas[0];\n",
       "    this.context = canvas[0].getContext(\"2d\");\n",
       "\n",
       "    var backingStore = this.context.backingStorePixelRatio ||\n",
       "\tthis.context.webkitBackingStorePixelRatio ||\n",
       "\tthis.context.mozBackingStorePixelRatio ||\n",
       "\tthis.context.msBackingStorePixelRatio ||\n",
       "\tthis.context.oBackingStorePixelRatio ||\n",
       "\tthis.context.backingStorePixelRatio || 1;\n",
       "\n",
       "    mpl.ratio = (window.devicePixelRatio || 1) / backingStore;\n",
       "\n",
       "    var rubberband = $('<canvas/>');\n",
       "    rubberband.attr('style', \"position: absolute; left: 0; top: 0; z-index: 1;\")\n",
       "\n",
       "    var pass_mouse_events = true;\n",
       "\n",
       "    canvas_div.resizable({\n",
       "        start: function(event, ui) {\n",
       "            pass_mouse_events = false;\n",
       "        },\n",
       "        resize: function(event, ui) {\n",
       "            fig.request_resize(ui.size.width, ui.size.height);\n",
       "        },\n",
       "        stop: function(event, ui) {\n",
       "            pass_mouse_events = true;\n",
       "            fig.request_resize(ui.size.width, ui.size.height);\n",
       "        },\n",
       "    });\n",
       "\n",
       "    function mouse_event_fn(event) {\n",
       "        if (pass_mouse_events)\n",
       "            return fig.mouse_event(event, event['data']);\n",
       "    }\n",
       "\n",
       "    rubberband.mousedown('button_press', mouse_event_fn);\n",
       "    rubberband.mouseup('button_release', mouse_event_fn);\n",
       "    // Throttle sequential mouse events to 1 every 20ms.\n",
       "    rubberband.mousemove('motion_notify', mouse_event_fn);\n",
       "\n",
       "    rubberband.mouseenter('figure_enter', mouse_event_fn);\n",
       "    rubberband.mouseleave('figure_leave', mouse_event_fn);\n",
       "\n",
       "    canvas_div.on(\"wheel\", function (event) {\n",
       "        event = event.originalEvent;\n",
       "        event['data'] = 'scroll'\n",
       "        if (event.deltaY < 0) {\n",
       "            event.step = 1;\n",
       "        } else {\n",
       "            event.step = -1;\n",
       "        }\n",
       "        mouse_event_fn(event);\n",
       "    });\n",
       "\n",
       "    canvas_div.append(canvas);\n",
       "    canvas_div.append(rubberband);\n",
       "\n",
       "    this.rubberband = rubberband;\n",
       "    this.rubberband_canvas = rubberband[0];\n",
       "    this.rubberband_context = rubberband[0].getContext(\"2d\");\n",
       "    this.rubberband_context.strokeStyle = \"#000000\";\n",
       "\n",
       "    this._resize_canvas = function(width, height) {\n",
       "        // Keep the size of the canvas, canvas container, and rubber band\n",
       "        // canvas in synch.\n",
       "        canvas_div.css('width', width)\n",
       "        canvas_div.css('height', height)\n",
       "\n",
       "        canvas.attr('width', width * mpl.ratio);\n",
       "        canvas.attr('height', height * mpl.ratio);\n",
       "        canvas.attr('style', 'width: ' + width + 'px; height: ' + height + 'px;');\n",
       "\n",
       "        rubberband.attr('width', width);\n",
       "        rubberband.attr('height', height);\n",
       "    }\n",
       "\n",
       "    // Set the figure to an initial 600x600px, this will subsequently be updated\n",
       "    // upon first draw.\n",
       "    this._resize_canvas(600, 600);\n",
       "\n",
       "    // Disable right mouse context menu.\n",
       "    $(this.rubberband_canvas).bind(\"contextmenu\",function(e){\n",
       "        return false;\n",
       "    });\n",
       "\n",
       "    function set_focus () {\n",
       "        canvas.focus();\n",
       "        canvas_div.focus();\n",
       "    }\n",
       "\n",
       "    window.setTimeout(set_focus, 100);\n",
       "}\n",
       "\n",
       "mpl.figure.prototype._init_toolbar = function() {\n",
       "    var fig = this;\n",
       "\n",
       "    var nav_element = $('<div/>');\n",
       "    nav_element.attr('style', 'width: 100%');\n",
       "    this.root.append(nav_element);\n",
       "\n",
       "    // Define a callback function for later on.\n",
       "    function toolbar_event(event) {\n",
       "        return fig.toolbar_button_onclick(event['data']);\n",
       "    }\n",
       "    function toolbar_mouse_event(event) {\n",
       "        return fig.toolbar_button_onmouseover(event['data']);\n",
       "    }\n",
       "\n",
       "    for(var toolbar_ind in mpl.toolbar_items) {\n",
       "        var name = mpl.toolbar_items[toolbar_ind][0];\n",
       "        var tooltip = mpl.toolbar_items[toolbar_ind][1];\n",
       "        var image = mpl.toolbar_items[toolbar_ind][2];\n",
       "        var method_name = mpl.toolbar_items[toolbar_ind][3];\n",
       "\n",
       "        if (!name) {\n",
       "            // put a spacer in here.\n",
       "            continue;\n",
       "        }\n",
       "        var button = $('<button/>');\n",
       "        button.addClass('ui-button ui-widget ui-state-default ui-corner-all ' +\n",
       "                        'ui-button-icon-only');\n",
       "        button.attr('role', 'button');\n",
       "        button.attr('aria-disabled', 'false');\n",
       "        button.click(method_name, toolbar_event);\n",
       "        button.mouseover(tooltip, toolbar_mouse_event);\n",
       "\n",
       "        var icon_img = $('<span/>');\n",
       "        icon_img.addClass('ui-button-icon-primary ui-icon');\n",
       "        icon_img.addClass(image);\n",
       "        icon_img.addClass('ui-corner-all');\n",
       "\n",
       "        var tooltip_span = $('<span/>');\n",
       "        tooltip_span.addClass('ui-button-text');\n",
       "        tooltip_span.html(tooltip);\n",
       "\n",
       "        button.append(icon_img);\n",
       "        button.append(tooltip_span);\n",
       "\n",
       "        nav_element.append(button);\n",
       "    }\n",
       "\n",
       "    var fmt_picker_span = $('<span/>');\n",
       "\n",
       "    var fmt_picker = $('<select/>');\n",
       "    fmt_picker.addClass('mpl-toolbar-option ui-widget ui-widget-content');\n",
       "    fmt_picker_span.append(fmt_picker);\n",
       "    nav_element.append(fmt_picker_span);\n",
       "    this.format_dropdown = fmt_picker[0];\n",
       "\n",
       "    for (var ind in mpl.extensions) {\n",
       "        var fmt = mpl.extensions[ind];\n",
       "        var option = $(\n",
       "            '<option/>', {selected: fmt === mpl.default_extension}).html(fmt);\n",
       "        fmt_picker.append(option);\n",
       "    }\n",
       "\n",
       "    // Add hover states to the ui-buttons\n",
       "    $( \".ui-button\" ).hover(\n",
       "        function() { $(this).addClass(\"ui-state-hover\");},\n",
       "        function() { $(this).removeClass(\"ui-state-hover\");}\n",
       "    );\n",
       "\n",
       "    var status_bar = $('<span class=\"mpl-message\"/>');\n",
       "    nav_element.append(status_bar);\n",
       "    this.message = status_bar[0];\n",
       "}\n",
       "\n",
       "mpl.figure.prototype.request_resize = function(x_pixels, y_pixels) {\n",
       "    // Request matplotlib to resize the figure. Matplotlib will then trigger a resize in the client,\n",
       "    // which will in turn request a refresh of the image.\n",
       "    this.send_message('resize', {'width': x_pixels, 'height': y_pixels});\n",
       "}\n",
       "\n",
       "mpl.figure.prototype.send_message = function(type, properties) {\n",
       "    properties['type'] = type;\n",
       "    properties['figure_id'] = this.id;\n",
       "    this.ws.send(JSON.stringify(properties));\n",
       "}\n",
       "\n",
       "mpl.figure.prototype.send_draw_message = function() {\n",
       "    if (!this.waiting) {\n",
       "        this.waiting = true;\n",
       "        this.ws.send(JSON.stringify({type: \"draw\", figure_id: this.id}));\n",
       "    }\n",
       "}\n",
       "\n",
       "\n",
       "mpl.figure.prototype.handle_save = function(fig, msg) {\n",
       "    var format_dropdown = fig.format_dropdown;\n",
       "    var format = format_dropdown.options[format_dropdown.selectedIndex].value;\n",
       "    fig.ondownload(fig, format);\n",
       "}\n",
       "\n",
       "\n",
       "mpl.figure.prototype.handle_resize = function(fig, msg) {\n",
       "    var size = msg['size'];\n",
       "    if (size[0] != fig.canvas.width || size[1] != fig.canvas.height) {\n",
       "        fig._resize_canvas(size[0], size[1]);\n",
       "        fig.send_message(\"refresh\", {});\n",
       "    };\n",
       "}\n",
       "\n",
       "mpl.figure.prototype.handle_rubberband = function(fig, msg) {\n",
       "    var x0 = msg['x0'] / mpl.ratio;\n",
       "    var y0 = (fig.canvas.height - msg['y0']) / mpl.ratio;\n",
       "    var x1 = msg['x1'] / mpl.ratio;\n",
       "    var y1 = (fig.canvas.height - msg['y1']) / mpl.ratio;\n",
       "    x0 = Math.floor(x0) + 0.5;\n",
       "    y0 = Math.floor(y0) + 0.5;\n",
       "    x1 = Math.floor(x1) + 0.5;\n",
       "    y1 = Math.floor(y1) + 0.5;\n",
       "    var min_x = Math.min(x0, x1);\n",
       "    var min_y = Math.min(y0, y1);\n",
       "    var width = Math.abs(x1 - x0);\n",
       "    var height = Math.abs(y1 - y0);\n",
       "\n",
       "    fig.rubberband_context.clearRect(\n",
       "        0, 0, fig.canvas.width, fig.canvas.height);\n",
       "\n",
       "    fig.rubberband_context.strokeRect(min_x, min_y, width, height);\n",
       "}\n",
       "\n",
       "mpl.figure.prototype.handle_figure_label = function(fig, msg) {\n",
       "    // Updates the figure title.\n",
       "    fig.header.textContent = msg['label'];\n",
       "}\n",
       "\n",
       "mpl.figure.prototype.handle_cursor = function(fig, msg) {\n",
       "    var cursor = msg['cursor'];\n",
       "    switch(cursor)\n",
       "    {\n",
       "    case 0:\n",
       "        cursor = 'pointer';\n",
       "        break;\n",
       "    case 1:\n",
       "        cursor = 'default';\n",
       "        break;\n",
       "    case 2:\n",
       "        cursor = 'crosshair';\n",
       "        break;\n",
       "    case 3:\n",
       "        cursor = 'move';\n",
       "        break;\n",
       "    }\n",
       "    fig.rubberband_canvas.style.cursor = cursor;\n",
       "}\n",
       "\n",
       "mpl.figure.prototype.handle_message = function(fig, msg) {\n",
       "    fig.message.textContent = msg['message'];\n",
       "}\n",
       "\n",
       "mpl.figure.prototype.handle_draw = function(fig, msg) {\n",
       "    // Request the server to send over a new figure.\n",
       "    fig.send_draw_message();\n",
       "}\n",
       "\n",
       "mpl.figure.prototype.handle_image_mode = function(fig, msg) {\n",
       "    fig.image_mode = msg['mode'];\n",
       "}\n",
       "\n",
       "mpl.figure.prototype.updated_canvas_event = function() {\n",
       "    // Called whenever the canvas gets updated.\n",
       "    this.send_message(\"ack\", {});\n",
       "}\n",
       "\n",
       "// A function to construct a web socket function for onmessage handling.\n",
       "// Called in the figure constructor.\n",
       "mpl.figure.prototype._make_on_message_function = function(fig) {\n",
       "    return function socket_on_message(evt) {\n",
       "        if (evt.data instanceof Blob) {\n",
       "            /* FIXME: We get \"Resource interpreted as Image but\n",
       "             * transferred with MIME type text/plain:\" errors on\n",
       "             * Chrome.  But how to set the MIME type?  It doesn't seem\n",
       "             * to be part of the websocket stream */\n",
       "            evt.data.type = \"image/png\";\n",
       "\n",
       "            /* Free the memory for the previous frames */\n",
       "            if (fig.imageObj.src) {\n",
       "                (window.URL || window.webkitURL).revokeObjectURL(\n",
       "                    fig.imageObj.src);\n",
       "            }\n",
       "\n",
       "            fig.imageObj.src = (window.URL || window.webkitURL).createObjectURL(\n",
       "                evt.data);\n",
       "            fig.updated_canvas_event();\n",
       "            fig.waiting = false;\n",
       "            return;\n",
       "        }\n",
       "        else if (typeof evt.data === 'string' && evt.data.slice(0, 21) == \"data:image/png;base64\") {\n",
       "            fig.imageObj.src = evt.data;\n",
       "            fig.updated_canvas_event();\n",
       "            fig.waiting = false;\n",
       "            return;\n",
       "        }\n",
       "\n",
       "        var msg = JSON.parse(evt.data);\n",
       "        var msg_type = msg['type'];\n",
       "\n",
       "        // Call the  \"handle_{type}\" callback, which takes\n",
       "        // the figure and JSON message as its only arguments.\n",
       "        try {\n",
       "            var callback = fig[\"handle_\" + msg_type];\n",
       "        } catch (e) {\n",
       "            console.log(\"No handler for the '\" + msg_type + \"' message type: \", msg);\n",
       "            return;\n",
       "        }\n",
       "\n",
       "        if (callback) {\n",
       "            try {\n",
       "                // console.log(\"Handling '\" + msg_type + \"' message: \", msg);\n",
       "                callback(fig, msg);\n",
       "            } catch (e) {\n",
       "                console.log(\"Exception inside the 'handler_\" + msg_type + \"' callback:\", e, e.stack, msg);\n",
       "            }\n",
       "        }\n",
       "    };\n",
       "}\n",
       "\n",
       "// from http://stackoverflow.com/questions/1114465/getting-mouse-location-in-canvas\n",
       "mpl.findpos = function(e) {\n",
       "    //this section is from http://www.quirksmode.org/js/events_properties.html\n",
       "    var targ;\n",
       "    if (!e)\n",
       "        e = window.event;\n",
       "    if (e.target)\n",
       "        targ = e.target;\n",
       "    else if (e.srcElement)\n",
       "        targ = e.srcElement;\n",
       "    if (targ.nodeType == 3) // defeat Safari bug\n",
       "        targ = targ.parentNode;\n",
       "\n",
       "    // jQuery normalizes the pageX and pageY\n",
       "    // pageX,Y are the mouse positions relative to the document\n",
       "    // offset() returns the position of the element relative to the document\n",
       "    var x = e.pageX - $(targ).offset().left;\n",
       "    var y = e.pageY - $(targ).offset().top;\n",
       "\n",
       "    return {\"x\": x, \"y\": y};\n",
       "};\n",
       "\n",
       "/*\n",
       " * return a copy of an object with only non-object keys\n",
       " * we need this to avoid circular references\n",
       " * http://stackoverflow.com/a/24161582/3208463\n",
       " */\n",
       "function simpleKeys (original) {\n",
       "  return Object.keys(original).reduce(function (obj, key) {\n",
       "    if (typeof original[key] !== 'object')\n",
       "        obj[key] = original[key]\n",
       "    return obj;\n",
       "  }, {});\n",
       "}\n",
       "\n",
       "mpl.figure.prototype.mouse_event = function(event, name) {\n",
       "    var canvas_pos = mpl.findpos(event)\n",
       "\n",
       "    if (name === 'button_press')\n",
       "    {\n",
       "        this.canvas.focus();\n",
       "        this.canvas_div.focus();\n",
       "    }\n",
       "\n",
       "    var x = canvas_pos.x * mpl.ratio;\n",
       "    var y = canvas_pos.y * mpl.ratio;\n",
       "\n",
       "    this.send_message(name, {x: x, y: y, button: event.button,\n",
       "                             step: event.step,\n",
       "                             guiEvent: simpleKeys(event)});\n",
       "\n",
       "    /* This prevents the web browser from automatically changing to\n",
       "     * the text insertion cursor when the button is pressed.  We want\n",
       "     * to control all of the cursor setting manually through the\n",
       "     * 'cursor' event from matplotlib */\n",
       "    event.preventDefault();\n",
       "    return false;\n",
       "}\n",
       "\n",
       "mpl.figure.prototype._key_event_extra = function(event, name) {\n",
       "    // Handle any extra behaviour associated with a key event\n",
       "}\n",
       "\n",
       "mpl.figure.prototype.key_event = function(event, name) {\n",
       "\n",
       "    // Prevent repeat events\n",
       "    if (name == 'key_press')\n",
       "    {\n",
       "        if (event.which === this._key)\n",
       "            return;\n",
       "        else\n",
       "            this._key = event.which;\n",
       "    }\n",
       "    if (name == 'key_release')\n",
       "        this._key = null;\n",
       "\n",
       "    var value = '';\n",
       "    if (event.ctrlKey && event.which != 17)\n",
       "        value += \"ctrl+\";\n",
       "    if (event.altKey && event.which != 18)\n",
       "        value += \"alt+\";\n",
       "    if (event.shiftKey && event.which != 16)\n",
       "        value += \"shift+\";\n",
       "\n",
       "    value += 'k';\n",
       "    value += event.which.toString();\n",
       "\n",
       "    this._key_event_extra(event, name);\n",
       "\n",
       "    this.send_message(name, {key: value,\n",
       "                             guiEvent: simpleKeys(event)});\n",
       "    return false;\n",
       "}\n",
       "\n",
       "mpl.figure.prototype.toolbar_button_onclick = function(name) {\n",
       "    if (name == 'download') {\n",
       "        this.handle_save(this, null);\n",
       "    } else {\n",
       "        this.send_message(\"toolbar_button\", {name: name});\n",
       "    }\n",
       "};\n",
       "\n",
       "mpl.figure.prototype.toolbar_button_onmouseover = function(tooltip) {\n",
       "    this.message.textContent = tooltip;\n",
       "};\n",
       "mpl.toolbar_items = [[\"Home\", \"Reset original view\", \"fa fa-home icon-home\", \"home\"], [\"Back\", \"Back to previous view\", \"fa fa-arrow-left icon-arrow-left\", \"back\"], [\"Forward\", \"Forward to next view\", \"fa fa-arrow-right icon-arrow-right\", \"forward\"], [\"\", \"\", \"\", \"\"], [\"Pan\", \"Pan axes with left mouse, zoom with right\", \"fa fa-arrows icon-move\", \"pan\"], [\"Zoom\", \"Zoom to rectangle\", \"fa fa-square-o icon-check-empty\", \"zoom\"], [\"\", \"\", \"\", \"\"], [\"Download\", \"Download plot\", \"fa fa-floppy-o icon-save\", \"download\"]];\n",
       "\n",
       "mpl.extensions = [\"eps\", \"jpeg\", \"pdf\", \"png\", \"ps\", \"raw\", \"svg\", \"tif\"];\n",
       "\n",
       "mpl.default_extension = \"png\";var comm_websocket_adapter = function(comm) {\n",
       "    // Create a \"websocket\"-like object which calls the given IPython comm\n",
       "    // object with the appropriate methods. Currently this is a non binary\n",
       "    // socket, so there is still some room for performance tuning.\n",
       "    var ws = {};\n",
       "\n",
       "    ws.close = function() {\n",
       "        comm.close()\n",
       "    };\n",
       "    ws.send = function(m) {\n",
       "        //console.log('sending', m);\n",
       "        comm.send(m);\n",
       "    };\n",
       "    // Register the callback with on_msg.\n",
       "    comm.on_msg(function(msg) {\n",
       "        //console.log('receiving', msg['content']['data'], msg);\n",
       "        // Pass the mpl event to the overridden (by mpl) onmessage function.\n",
       "        ws.onmessage(msg['content']['data'])\n",
       "    });\n",
       "    return ws;\n",
       "}\n",
       "\n",
       "mpl.mpl_figure_comm = function(comm, msg) {\n",
       "    // This is the function which gets called when the mpl process\n",
       "    // starts-up an IPython Comm through the \"matplotlib\" channel.\n",
       "\n",
       "    var id = msg.content.data.id;\n",
       "    // Get hold of the div created by the display call when the Comm\n",
       "    // socket was opened in Python.\n",
       "    var element = $(\"#\" + id);\n",
       "    var ws_proxy = comm_websocket_adapter(comm)\n",
       "\n",
       "    function ondownload(figure, format) {\n",
       "        window.open(figure.imageObj.src);\n",
       "    }\n",
       "\n",
       "    var fig = new mpl.figure(id, ws_proxy,\n",
       "                           ondownload,\n",
       "                           element.get(0));\n",
       "\n",
       "    // Call onopen now - mpl needs it, as it is assuming we've passed it a real\n",
       "    // web socket which is closed, not our websocket->open comm proxy.\n",
       "    ws_proxy.onopen();\n",
       "\n",
       "    fig.parent_element = element.get(0);\n",
       "    fig.cell_info = mpl.find_output_cell(\"<div id='\" + id + \"'></div>\");\n",
       "    if (!fig.cell_info) {\n",
       "        console.error(\"Failed to find cell for figure\", id, fig);\n",
       "        return;\n",
       "    }\n",
       "\n",
       "    var output_index = fig.cell_info[2]\n",
       "    var cell = fig.cell_info[0];\n",
       "\n",
       "};\n",
       "\n",
       "mpl.figure.prototype.handle_close = function(fig, msg) {\n",
       "    var width = fig.canvas.width/mpl.ratio\n",
       "    fig.root.unbind('remove')\n",
       "\n",
       "    // Update the output cell to use the data from the current canvas.\n",
       "    fig.push_to_output();\n",
       "    var dataURL = fig.canvas.toDataURL();\n",
       "    // Re-enable the keyboard manager in IPython - without this line, in FF,\n",
       "    // the notebook keyboard shortcuts fail.\n",
       "    IPython.keyboard_manager.enable()\n",
       "    $(fig.parent_element).html('<img src=\"' + dataURL + '\" width=\"' + width + '\">');\n",
       "    fig.close_ws(fig, msg);\n",
       "}\n",
       "\n",
       "mpl.figure.prototype.close_ws = function(fig, msg){\n",
       "    fig.send_message('closing', msg);\n",
       "    // fig.ws.close()\n",
       "}\n",
       "\n",
       "mpl.figure.prototype.push_to_output = function(remove_interactive) {\n",
       "    // Turn the data on the canvas into data in the output cell.\n",
       "    var width = this.canvas.width/mpl.ratio\n",
       "    var dataURL = this.canvas.toDataURL();\n",
       "    this.cell_info[1]['text/html'] = '<img src=\"' + dataURL + '\" width=\"' + width + '\">';\n",
       "}\n",
       "\n",
       "mpl.figure.prototype.updated_canvas_event = function() {\n",
       "    // Tell IPython that the notebook contents must change.\n",
       "    IPython.notebook.set_dirty(true);\n",
       "    this.send_message(\"ack\", {});\n",
       "    var fig = this;\n",
       "    // Wait a second, then push the new image to the DOM so\n",
       "    // that it is saved nicely (might be nice to debounce this).\n",
       "    setTimeout(function () { fig.push_to_output() }, 1000);\n",
       "}\n",
       "\n",
       "mpl.figure.prototype._init_toolbar = function() {\n",
       "    var fig = this;\n",
       "\n",
       "    var nav_element = $('<div/>');\n",
       "    nav_element.attr('style', 'width: 100%');\n",
       "    this.root.append(nav_element);\n",
       "\n",
       "    // Define a callback function for later on.\n",
       "    function toolbar_event(event) {\n",
       "        return fig.toolbar_button_onclick(event['data']);\n",
       "    }\n",
       "    function toolbar_mouse_event(event) {\n",
       "        return fig.toolbar_button_onmouseover(event['data']);\n",
       "    }\n",
       "\n",
       "    for(var toolbar_ind in mpl.toolbar_items){\n",
       "        var name = mpl.toolbar_items[toolbar_ind][0];\n",
       "        var tooltip = mpl.toolbar_items[toolbar_ind][1];\n",
       "        var image = mpl.toolbar_items[toolbar_ind][2];\n",
       "        var method_name = mpl.toolbar_items[toolbar_ind][3];\n",
       "\n",
       "        if (!name) { continue; };\n",
       "\n",
       "        var button = $('<button class=\"btn btn-default\" href=\"#\" title=\"' + name + '\"><i class=\"fa ' + image + ' fa-lg\"></i></button>');\n",
       "        button.click(method_name, toolbar_event);\n",
       "        button.mouseover(tooltip, toolbar_mouse_event);\n",
       "        nav_element.append(button);\n",
       "    }\n",
       "\n",
       "    // Add the status bar.\n",
       "    var status_bar = $('<span class=\"mpl-message\" style=\"text-align:right; float: right;\"/>');\n",
       "    nav_element.append(status_bar);\n",
       "    this.message = status_bar[0];\n",
       "\n",
       "    // Add the close button to the window.\n",
       "    var buttongrp = $('<div class=\"btn-group inline pull-right\"></div>');\n",
       "    var button = $('<button class=\"btn btn-mini btn-primary\" href=\"#\" title=\"Stop Interaction\"><i class=\"fa fa-power-off icon-remove icon-large\"></i></button>');\n",
       "    button.click(function (evt) { fig.handle_close(fig, {}); } );\n",
       "    button.mouseover('Stop Interaction', toolbar_mouse_event);\n",
       "    buttongrp.append(button);\n",
       "    var titlebar = this.root.find($('.ui-dialog-titlebar'));\n",
       "    titlebar.prepend(buttongrp);\n",
       "}\n",
       "\n",
       "mpl.figure.prototype._root_extra_style = function(el){\n",
       "    var fig = this\n",
       "    el.on(\"remove\", function(){\n",
       "\tfig.close_ws(fig, {});\n",
       "    });\n",
       "}\n",
       "\n",
       "mpl.figure.prototype._canvas_extra_style = function(el){\n",
       "    // this is important to make the div 'focusable\n",
       "    el.attr('tabindex', 0)\n",
       "    // reach out to IPython and tell the keyboard manager to turn it's self\n",
       "    // off when our div gets focus\n",
       "\n",
       "    // location in version 3\n",
       "    if (IPython.notebook.keyboard_manager) {\n",
       "        IPython.notebook.keyboard_manager.register_events(el);\n",
       "    }\n",
       "    else {\n",
       "        // location in version 2\n",
       "        IPython.keyboard_manager.register_events(el);\n",
       "    }\n",
       "\n",
       "}\n",
       "\n",
       "mpl.figure.prototype._key_event_extra = function(event, name) {\n",
       "    var manager = IPython.notebook.keyboard_manager;\n",
       "    if (!manager)\n",
       "        manager = IPython.keyboard_manager;\n",
       "\n",
       "    // Check for shift+enter\n",
       "    if (event.shiftKey && event.which == 13) {\n",
       "        this.canvas_div.blur();\n",
       "        event.shiftKey = false;\n",
       "        // Send a \"J\" for go to next cell\n",
       "        event.which = 74;\n",
       "        event.keyCode = 74;\n",
       "        manager.command_mode();\n",
       "        manager.handle_keydown(event);\n",
       "    }\n",
       "}\n",
       "\n",
       "mpl.figure.prototype.handle_save = function(fig, msg) {\n",
       "    fig.ondownload(fig, null);\n",
       "}\n",
       "\n",
       "\n",
       "mpl.find_output_cell = function(html_output) {\n",
       "    // Return the cell and output element which can be found *uniquely* in the notebook.\n",
       "    // Note - this is a bit hacky, but it is done because the \"notebook_saving.Notebook\"\n",
       "    // IPython event is triggered only after the cells have been serialised, which for\n",
       "    // our purposes (turning an active figure into a static one), is too late.\n",
       "    var cells = IPython.notebook.get_cells();\n",
       "    var ncells = cells.length;\n",
       "    for (var i=0; i<ncells; i++) {\n",
       "        var cell = cells[i];\n",
       "        if (cell.cell_type === 'code'){\n",
       "            for (var j=0; j<cell.output_area.outputs.length; j++) {\n",
       "                var data = cell.output_area.outputs[j];\n",
       "                if (data.data) {\n",
       "                    // IPython >= 3 moved mimebundle to data attribute of output\n",
       "                    data = data.data;\n",
       "                }\n",
       "                if (data['text/html'] == html_output) {\n",
       "                    return [cell, data, j];\n",
       "                }\n",
       "            }\n",
       "        }\n",
       "    }\n",
       "}\n",
       "\n",
       "// Register the function which deals with the matplotlib target/channel.\n",
       "// The kernel may be null if the page has been refreshed.\n",
       "if (IPython.notebook.kernel != null) {\n",
       "    IPython.notebook.kernel.comm_manager.register_target('matplotlib', mpl.mpl_figure_comm);\n",
       "}\n"
      ],
      "text/plain": [
       "<IPython.core.display.Javascript object>"
      ]
     },
     "metadata": {},
     "output_type": "display_data"
    },
    {
     "data": {
      "text/html": [
       "<img src=\"data:image/png;base64,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\" width=\"640\">"
      ],
      "text/plain": [
       "<IPython.core.display.HTML object>"
      ]
     },
     "metadata": {},
     "output_type": "display_data"
    }
   ],
   "source": [
    "text4.dispersion_plot([\n",
    "    \"citizens\",\n",
    "    \"democracy\",\n",
    "    \"freedom\",\n",
    "    \"duties\",\n",
    "    \"God\",\n",
    "    \"bless\",\n",
    "    \"America\"\n",
    "])"
   ]
  },
  {
   "cell_type": "code",
   "execution_count": 126,
   "metadata": {},
   "outputs": [
    {
     "name": "stdout",
     "output_type": "stream",
     "text": [
      "Displaying 16 of 16 matches:\n",
      "e dispensations of His providence to bless our beloved country with honors and \n",
      "our controversies . They will surely bless their fathers and their fathers ' Go\n",
      "elieve that ? We are Americans . God bless you , and thank you . Senator Mathia\n",
      "absent -- Senator John Stennis . God bless you and welcome back . There is , ho\n",
      "to a waiting and hopeful world . God bless you and may God bless America . Mr .\n",
      "ul world . God bless you and may God bless America . Mr . Chief Justice , Mr . \n",
      "ance , and our education , though we bless them for choosing life . The old sol\n",
      "written , together . Thank you . God bless you and God bless the United States \n",
      " . Thank you . God bless you and God bless the United States of America . My fe\n",
      "nswer the call . Thank you , and God bless you all . My fellow citizens : At th\n",
      "od work ahead -- and always , always bless our America . President Clinton , di\n",
      "irlwind and directs this storm . God bless you all , and God bless America . Vi\n",
      " storm . God bless you all , and God bless America . Vice President Cheney , Mr\n",
      " in the history of freedom . May God bless you , and may He watch over the Unit\n",
      "future generations . Thank you . God bless you . And God bless the United State\n",
      " Thank you . God bless you . And God bless the United States of America .\n"
     ]
    }
   ],
   "source": [
    "text4.concordance(\"bless\")"
   ]
  },
  {
   "cell_type": "code",
   "execution_count": 127,
   "metadata": {},
   "outputs": [],
   "source": [
    "from corpy.vis import wordcloud"
   ]
  },
  {
   "cell_type": "code",
   "execution_count": 128,
   "metadata": {},
   "outputs": [],
   "source": [
    "?wordcloud"
   ]
  },
  {
   "cell_type": "code",
   "execution_count": 129,
   "metadata": {},
   "outputs": [
    {
     "data": {
      "image/png": "[encoded data removed]",
      "text/plain": [
       "<PIL.Image.Image image mode=RGB size=400x400 at 0x7F8C1D12B860>"
      ]
     },
     "metadata": {},
     "output_type": "display_data"
    },
    {
     "data": {
      "text/plain": [
       "<wordcloud.wordcloud.WordCloud at 0x7f8c1d0cb2b0>"
      ]
     },
     "execution_count": 129,
     "metadata": {},
     "output_type": "execute_result"
    }
   ],
   "source": [
    "wordcloud(text4)"
   ]
  },
  {
   "cell_type": "code",
   "execution_count": 132,
   "metadata": {},
   "outputs": [
    {
     "data": {
      "image/png": "[encoded data removed]",
      "text/plain": [
       "<PIL.Image.Image image mode=RGB size=600x400 at 0x7F8C1CE90940>"
      ]
     },
     "metadata": {},
     "output_type": "display_data"
    },
    {
     "data": {
      "text/plain": [
       "<wordcloud.wordcloud.WordCloud at 0x7f8c1ce83208>"
      ]
     },
     "execution_count": 132,
     "metadata": {},
     "output_type": "execute_result"
    }
   ],
   "source": [
    "wordcloud(text4, size=(600, 400), rounded=True)"
   ]
  },
  {
   "cell_type": "markdown",
   "metadata": {},
   "source": [
    "# Collections"
   ]
  },
  {
   "cell_type": "code",
   "execution_count": 134,
   "metadata": {},
   "outputs": [],
   "source": [
    "sent = \"Call me Ishmael.\""
   ]
  },
  {
   "cell_type": "code",
   "execution_count": 135,
   "metadata": {},
   "outputs": [
    {
     "data": {
      "text/plain": [
       "'C'"
      ]
     },
     "execution_count": 135,
     "metadata": {},
     "output_type": "execute_result"
    }
   ],
   "source": [
    "sent[0]"
   ]
  },
  {
   "cell_type": "code",
   "execution_count": 136,
   "metadata": {},
   "outputs": [
    {
     "data": {
      "text/plain": [
       "'l'"
      ]
     },
     "execution_count": 136,
     "metadata": {},
     "output_type": "execute_result"
    }
   ],
   "source": [
    "sent[2]"
   ]
  },
  {
   "cell_type": "code",
   "execution_count": 137,
   "metadata": {},
   "outputs": [
    {
     "data": {
      "text/plain": [
       "' me '"
      ]
     },
     "execution_count": 137,
     "metadata": {},
     "output_type": "execute_result"
    }
   ],
   "source": [
    "sent[4:8]"
   ]
  },
  {
   "cell_type": "code",
   "execution_count": 138,
   "metadata": {},
   "outputs": [
    {
     "data": {
      "text/plain": [
       "'.'"
      ]
     },
     "execution_count": 138,
     "metadata": {},
     "output_type": "execute_result"
    }
   ],
   "source": [
    "sent[-1]"
   ]
  },
  {
   "cell_type": "code",
   "execution_count": 139,
   "metadata": {},
   "outputs": [
    {
     "data": {
      "text/plain": [
       "['Call', 'me', 'Ishmael.']"
      ]
     },
     "execution_count": 139,
     "metadata": {},
     "output_type": "execute_result"
    }
   ],
   "source": [
    "sent.split()"
   ]
  },
  {
   "cell_type": "code",
   "execution_count": 140,
   "metadata": {},
   "outputs": [],
   "source": [
    "from nltk import word_tokenize"
   ]
  },
  {
   "cell_type": "code",
   "execution_count": 142,
   "metadata": {},
   "outputs": [
    {
     "data": {
      "text/plain": [
       "['Call', 'me', 'Ishmael', '.']"
      ]
     },
     "execution_count": 142,
     "metadata": {},
     "output_type": "execute_result"
    }
   ],
   "source": [
    "tokenized = word_tokenize(sent)\n",
    "tokenized"
   ]
  },
  {
   "cell_type": "code",
   "execution_count": 143,
   "metadata": {},
   "outputs": [
    {
     "data": {
      "text/plain": [
       "'s'"
      ]
     },
     "execution_count": 143,
     "metadata": {},
     "output_type": "execute_result"
    }
   ],
   "source": [
    "tokenized[2][1]"
   ]
  },
  {
   "cell_type": "code",
   "execution_count": 145,
   "metadata": {},
   "outputs": [
    {
     "data": {
      "text/plain": [
       "'s'"
      ]
     },
     "execution_count": 145,
     "metadata": {},
     "output_type": "execute_result"
    }
   ],
   "source": [
    "ishmael = tokenized[2]\n",
    "ishmael[1]"
   ]
  },
  {
   "cell_type": "code",
   "execution_count": 146,
   "metadata": {},
   "outputs": [
    {
     "data": {
      "text/plain": [
       "'Call me Ishmael.'"
      ]
     },
     "execution_count": 146,
     "metadata": {},
     "output_type": "execute_result"
    }
   ],
   "source": [
    "sent"
   ]
  },
  {
   "cell_type": "code",
   "execution_count": 149,
   "metadata": {},
   "outputs": [
    {
     "data": {
      "text/plain": [
       "'all me'"
      ]
     },
     "execution_count": 149,
     "metadata": {},
     "output_type": "execute_result"
    }
   ],
   "source": [
    "sent[1:7:1]"
   ]
  },
  {
   "cell_type": "code",
   "execution_count": 150,
   "metadata": {},
   "outputs": [
    {
     "data": {
      "text/plain": [
       "'alm'"
      ]
     },
     "execution_count": 150,
     "metadata": {},
     "output_type": "execute_result"
    }
   ],
   "source": [
    "sent[1:7:2]"
   ]
  },
  {
   "cell_type": "code",
   "execution_count": 152,
   "metadata": {},
   "outputs": [
    {
     "data": {
      "text/plain": [
       "'.leamhsI em llaC'"
      ]
     },
     "execution_count": 152,
     "metadata": {},
     "output_type": "execute_result"
    }
   ],
   "source": [
    "# reverse a string\n",
    "sent[::-1]"
   ]
  },
  {
   "cell_type": "code",
   "execution_count": 153,
   "metadata": {},
   "outputs": [
    {
     "data": {
      "text/plain": [
       "False"
      ]
     },
     "execution_count": 153,
     "metadata": {},
     "output_type": "execute_result"
    }
   ],
   "source": [
    "sent.isalnum()"
   ]
  },
  {
   "cell_type": "code",
   "execution_count": 154,
   "metadata": {},
   "outputs": [
    {
     "data": {
      "text/plain": [
       "True"
      ]
     },
     "execution_count": 154,
     "metadata": {},
     "output_type": "execute_result"
    }
   ],
   "source": [
    "\"4kg\".isalnum()"
   ]
  },
  {
   "cell_type": "code",
   "execution_count": 156,
   "metadata": {},
   "outputs": [
    {
     "data": {
      "text/plain": [
       "['Call', 'me', 'Ishmael', '.']"
      ]
     },
     "execution_count": 156,
     "metadata": {},
     "output_type": "execute_result"
    }
   ],
   "source": [
    "tokenized"
   ]
  },
  {
   "cell_type": "code",
   "execution_count": 157,
   "metadata": {},
   "outputs": [
    {
     "data": {
      "text/plain": [
       "True"
      ]
     },
     "execution_count": 157,
     "metadata": {},
     "output_type": "execute_result"
    }
   ],
   "source": [
    "tokenized[0].isalpha()"
   ]
  },
  {
   "cell_type": "code",
   "execution_count": 158,
   "metadata": {},
   "outputs": [
    {
     "data": {
      "text/plain": [
       "False"
      ]
     },
     "execution_count": 158,
     "metadata": {},
     "output_type": "execute_result"
    }
   ],
   "source": [
    "tokenized[-1].isalpha()"
   ]
  },
  {
   "cell_type": "code",
   "execution_count": 159,
   "metadata": {},
   "outputs": [
    {
     "data": {
      "text/plain": [
       "'call me ishmael.'"
      ]
     },
     "execution_count": 159,
     "metadata": {},
     "output_type": "execute_result"
    }
   ],
   "source": [
    "sent.lower()"
   ]
  },
  {
   "cell_type": "code",
   "execution_count": 160,
   "metadata": {},
   "outputs": [
    {
     "data": {
      "text/plain": [
       "'call me ishmael.'"
      ]
     },
     "execution_count": 160,
     "metadata": {},
     "output_type": "execute_result"
    }
   ],
   "source": [
    "sent.casefold()"
   ]
  },
  {
   "cell_type": "code",
   "execution_count": 161,
   "metadata": {},
   "outputs": [],
   "source": [
    "turkish_is = \"Iıİi\""
   ]
  },
  {
   "cell_type": "code",
   "execution_count": 162,
   "metadata": {},
   "outputs": [
    {
     "data": {
      "text/plain": [
       "'iıi̇i'"
      ]
     },
     "execution_count": 162,
     "metadata": {},
     "output_type": "execute_result"
    }
   ],
   "source": [
    "turkish_is.lower()"
   ]
  },
  {
   "cell_type": "code",
   "execution_count": 163,
   "metadata": {},
   "outputs": [
    {
     "data": {
      "text/plain": [
       "'iıi̇i'"
      ]
     },
     "execution_count": 163,
     "metadata": {},
     "output_type": "execute_result"
    }
   ],
   "source": [
    "turkish_is.casefold()"
   ]
  },
  {
   "cell_type": "code",
   "execution_count": 164,
   "metadata": {},
   "outputs": [
    {
     "data": {
      "text/plain": [
       "True"
      ]
     },
     "execution_count": 164,
     "metadata": {},
     "output_type": "execute_result"
    }
   ],
   "source": [
    "turkish_is.lower() == turkish_is.casefold()"
   ]
  },
  {
   "cell_type": "code",
   "execution_count": 165,
   "metadata": {},
   "outputs": [
    {
     "data": {
      "text/plain": [
       "'ß'"
      ]
     },
     "execution_count": 165,
     "metadata": {},
     "output_type": "execute_result"
    }
   ],
   "source": [
    "\"ß\".lower()"
   ]
  },
  {
   "cell_type": "code",
   "execution_count": 166,
   "metadata": {},
   "outputs": [
    {
     "data": {
      "text/plain": [
       "'ss'"
      ]
     },
     "execution_count": 166,
     "metadata": {},
     "output_type": "execute_result"
    }
   ],
   "source": [
    "\"ß\".casefold()"
   ]
  },
  {
   "cell_type": "code",
   "execution_count": 168,
   "metadata": {},
   "outputs": [],
   "source": [
    "my_list = [1, 2, 3, 4]"
   ]
  },
  {
   "cell_type": "code",
   "execution_count": 169,
   "metadata": {},
   "outputs": [
    {
     "data": {
      "text/plain": [
       "[1, 2, 3, 4]"
      ]
     },
     "execution_count": 169,
     "metadata": {},
     "output_type": "execute_result"
    }
   ],
   "source": [
    "my_list"
   ]
  },
  {
   "cell_type": "code",
   "execution_count": 170,
   "metadata": {},
   "outputs": [
    {
     "data": {
      "text/plain": [
       "3"
      ]
     },
     "execution_count": 170,
     "metadata": {},
     "output_type": "execute_result"
    }
   ],
   "source": [
    "my_list[2]"
   ]
  },
  {
   "cell_type": "code",
   "execution_count": 171,
   "metadata": {},
   "outputs": [],
   "source": [
    "my_list[2] = \"three\""
   ]
  },
  {
   "cell_type": "code",
   "execution_count": 172,
   "metadata": {},
   "outputs": [
    {
     "data": {
      "text/plain": [
       "[1, 2, 'three', 4]"
      ]
     },
     "execution_count": 172,
     "metadata": {},
     "output_type": "execute_result"
    }
   ],
   "source": [
    "my_list"
   ]
  },
  {
   "cell_type": "code",
   "execution_count": 173,
   "metadata": {},
   "outputs": [
    {
     "data": {
      "text/plain": [
       "'Call me Ishmael.'"
      ]
     },
     "execution_count": 173,
     "metadata": {},
     "output_type": "execute_result"
    }
   ],
   "source": [
    "sent"
   ]
  },
  {
   "cell_type": "code",
   "execution_count": 174,
   "metadata": {},
   "outputs": [
    {
     "ename": "TypeError",
     "evalue": "'str' object does not support item assignment",
     "output_type": "error",
     "traceback": [
      "\u001b[0;31m---------------------------------------------------------------------------\u001b[0m",
      "\u001b[0;31mTypeError\u001b[0m                                 Traceback (most recent call last)",
      "\u001b[0;32m<ipython-input-174-f41e6d982818>\u001b[0m in \u001b[0;36m<module>\u001b[0;34m()\u001b[0m\n\u001b[0;32m----> 1\u001b[0;31m \u001b[0msent\u001b[0m\u001b[0;34m[\u001b[0m\u001b[0;36m0\u001b[0m\u001b[0;34m]\u001b[0m \u001b[0;34m=\u001b[0m \u001b[0;34m\"c\"\u001b[0m\u001b[0;34m\u001b[0m\u001b[0;34m\u001b[0m\u001b[0m\n\u001b[0m",
      "\u001b[0;31mTypeError\u001b[0m: 'str' object does not support item assignment"
     ]
    }
   ],
   "source": [
    "sent[0] = \"c\""
   ]
  },
  {
   "cell_type": "code",
   "execution_count": 176,
   "metadata": {},
   "outputs": [
    {
     "data": {
      "text/plain": [
       "'call me Ishmael.'"
      ]
     },
     "execution_count": 176,
     "metadata": {},
     "output_type": "execute_result"
    }
   ],
   "source": [
    "\"c\" + sent[1:]"
   ]
  },
  {
   "cell_type": "code",
   "execution_count": 188,
   "metadata": {},
   "outputs": [],
   "source": [
    "my_list.append(\"five\")"
   ]
  },
  {
   "cell_type": "code",
   "execution_count": 189,
   "metadata": {},
   "outputs": [
    {
     "data": {
      "text/plain": [
       "[1,\n",
       " 2,\n",
       " 'three',\n",
       " 4,\n",
       " 'five',\n",
       " 'five',\n",
       " 'five',\n",
       " 'five',\n",
       " 'five',\n",
       " 'five',\n",
       " 'five',\n",
       " 'five',\n",
       " 'five',\n",
       " 'five',\n",
       " 'five']"
      ]
     },
     "execution_count": 189,
     "metadata": {},
     "output_type": "execute_result"
    }
   ],
   "source": [
    "my_list"
   ]
  },
  {
   "cell_type": "code",
   "execution_count": 201,
   "metadata": {},
   "outputs": [
    {
     "data": {
      "text/plain": [
       "4"
      ]
     },
     "execution_count": 201,
     "metadata": {},
     "output_type": "execute_result"
    }
   ],
   "source": [
    "my_list.pop()"
   ]
  },
  {
   "cell_type": "code",
   "execution_count": 202,
   "metadata": {},
   "outputs": [
    {
     "data": {
      "text/plain": [
       "[1, 2, 'three']"
      ]
     },
     "execution_count": 202,
     "metadata": {},
     "output_type": "execute_result"
    }
   ],
   "source": [
    "my_list"
   ]
  },
  {
   "cell_type": "code",
   "execution_count": 203,
   "metadata": {},
   "outputs": [
    {
     "data": {
      "text/plain": [
       "True"
      ]
     },
     "execution_count": 203,
     "metadata": {},
     "output_type": "execute_result"
    }
   ],
   "source": [
    "2 in my_list"
   ]
  },
  {
   "cell_type": "code",
   "execution_count": 204,
   "metadata": {},
   "outputs": [
    {
     "data": {
      "text/plain": [
       "False"
      ]
     },
     "execution_count": 204,
     "metadata": {},
     "output_type": "execute_result"
    }
   ],
   "source": [
    "5 in my_list"
   ]
  },
  {
   "cell_type": "code",
   "execution_count": 205,
   "metadata": {},
   "outputs": [
    {
     "data": {
      "text/plain": [
       "True"
      ]
     },
     "execution_count": 205,
     "metadata": {},
     "output_type": "execute_result"
    }
   ],
   "source": [
    "\"C\" in sent"
   ]
  },
  {
   "cell_type": "code",
   "execution_count": 206,
   "metadata": {},
   "outputs": [
    {
     "data": {
      "text/plain": [
       "True"
      ]
     },
     "execution_count": 206,
     "metadata": {},
     "output_type": "execute_result"
    }
   ],
   "source": [
    "\"Ishmael\" in sent"
   ]
  },
  {
   "cell_type": "code",
   "execution_count": 207,
   "metadata": {},
   "outputs": [
    {
     "data": {
      "text/plain": [
       "1"
      ]
     },
     "execution_count": 207,
     "metadata": {},
     "output_type": "execute_result"
    }
   ],
   "source": [
    "my_list.index(2)"
   ]
  },
  {
   "cell_type": "code",
   "execution_count": 208,
   "metadata": {},
   "outputs": [
    {
     "data": {
      "text/plain": [
       "0"
      ]
     },
     "execution_count": 208,
     "metadata": {},
     "output_type": "execute_result"
    }
   ],
   "source": [
    "sent.index(\"C\")"
   ]
  },
  {
   "cell_type": "code",
   "execution_count": 209,
   "metadata": {},
   "outputs": [
    {
     "data": {
      "text/plain": [
       "1"
      ]
     },
     "execution_count": 209,
     "metadata": {},
     "output_type": "execute_result"
    }
   ],
   "source": [
    "my_list.count(2)"
   ]
  },
  {
   "cell_type": "code",
   "execution_count": 210,
   "metadata": {},
   "outputs": [
    {
     "data": {
      "text/plain": [
       "2"
      ]
     },
     "execution_count": 210,
     "metadata": {},
     "output_type": "execute_result"
    }
   ],
   "source": [
    "sent.count(\" \")"
   ]
  },
  {
   "cell_type": "code",
   "execution_count": 211,
   "metadata": {
    "collapsed": true,
    "jupyter": {
     "outputs_hidden": true
    }
   },
   "outputs": [
    {
     "data": {
      "text/plain": [
       "['[',\n",
       " 'Moby',\n",
       " 'Dick',\n",
       " 'by',\n",
       " 'Herman',\n",
       " 'Melville',\n",
       " '1851',\n",
       " ']',\n",
       " 'ETYMOLOGY',\n",
       " '.',\n",
       " '(',\n",
       " 'Supplied',\n",
       " 'by',\n",
       " 'a',\n",
       " 'Late',\n",
       " 'Consumptive',\n",
       " 'Usher',\n",
       " 'to',\n",
       " 'a',\n",
       " 'Grammar',\n",
       " 'School',\n",
       " ')',\n",
       " 'The',\n",
       " 'pale',\n",
       " 'Usher',\n",
       " '--',\n",
       " 'threadbare',\n",
       " 'in',\n",
       " 'coat',\n",
       " ',',\n",
       " 'heart',\n",
       " ',',\n",
       " 'body',\n",
       " ',',\n",
       " 'and',\n",
       " 'brain',\n",
       " ';',\n",
       " 'I',\n",
       " 'see',\n",
       " 'him',\n",
       " 'now',\n",
       " '.',\n",
       " 'He',\n",
       " 'was',\n",
       " 'ever',\n",
       " 'dusting',\n",
       " 'his',\n",
       " 'old',\n",
       " 'lexicons',\n",
       " 'and',\n",
       " 'grammars',\n",
       " ',',\n",
       " 'with',\n",
       " 'a',\n",
       " 'queer',\n",
       " 'handkerchief',\n",
       " ',',\n",
       " 'mockingly',\n",
       " 'embellished',\n",
       " 'with',\n",
       " 'all',\n",
       " 'the',\n",
       " 'gay',\n",
       " 'flags',\n",
       " 'of',\n",
       " 'all',\n",
       " 'the',\n",
       " 'known',\n",
       " 'nations',\n",
       " 'of',\n",
       " 'the',\n",
       " 'world',\n",
       " '.',\n",
       " 'He',\n",
       " 'loved',\n",
       " 'to',\n",
       " 'dust',\n",
       " 'his',\n",
       " 'old',\n",
       " 'grammars',\n",
       " ';',\n",
       " 'it',\n",
       " 'somehow',\n",
       " 'mildly',\n",
       " 'reminded',\n",
       " 'him',\n",
       " 'of',\n",
       " 'his',\n",
       " 'mortality',\n",
       " '.',\n",
       " '\"',\n",
       " 'While',\n",
       " 'you',\n",
       " 'take',\n",
       " 'in',\n",
       " 'hand',\n",
       " 'to',\n",
       " 'school',\n",
       " 'others',\n",
       " ',',\n",
       " 'and',\n",
       " 'to',\n",
       " 'teach',\n",
       " 'them',\n",
       " 'by',\n",
       " 'what',\n",
       " 'name',\n",
       " 'a',\n",
       " 'whale',\n",
       " '-',\n",
       " 'fish',\n",
       " 'is',\n",
       " 'to',\n",
       " 'be',\n",
       " 'called',\n",
       " 'in',\n",
       " 'our',\n",
       " 'tongue',\n",
       " 'leaving',\n",
       " 'out',\n",
       " ',',\n",
       " 'through',\n",
       " 'ignorance',\n",
       " ',',\n",
       " 'the',\n",
       " 'letter',\n",
       " 'H',\n",
       " ',',\n",
       " 'which',\n",
       " 'almost',\n",
       " 'alone',\n",
       " 'maketh',\n",
       " 'the',\n",
       " 'signification',\n",
       " 'of',\n",
       " 'the',\n",
       " 'word',\n",
       " ',',\n",
       " 'you',\n",
       " 'deliver',\n",
       " 'that',\n",
       " 'which',\n",
       " 'is',\n",
       " 'not',\n",
       " 'true',\n",
       " '.\"',\n",
       " '--',\n",
       " 'HACKLUYT',\n",
       " '\"',\n",
       " 'WHALE',\n",
       " '.',\n",
       " '...',\n",
       " 'Sw',\n",
       " '.',\n",
       " 'and',\n",
       " 'Dan',\n",
       " '.',\n",
       " 'HVAL',\n",
       " '.',\n",
       " 'This',\n",
       " 'animal',\n",
       " 'is',\n",
       " 'named',\n",
       " 'from',\n",
       " 'roundness',\n",
       " 'or',\n",
       " 'rolling',\n",
       " ';',\n",
       " 'for',\n",
       " 'in',\n",
       " 'Dan',\n",
       " '.',\n",
       " 'HVALT',\n",
       " 'is',\n",
       " 'arched',\n",
       " 'or',\n",
       " 'vaulted',\n",
       " '.\"',\n",
       " '--',\n",
       " 'WEBSTER',\n",
       " \"'\",\n",
       " 'S',\n",
       " 'DICTIONARY',\n",
       " '\"',\n",
       " 'WHALE',\n",
       " '.',\n",
       " '...',\n",
       " 'It',\n",
       " 'is',\n",
       " 'more',\n",
       " 'immediately',\n",
       " 'from',\n",
       " 'the',\n",
       " 'Dut',\n",
       " '.',\n",
       " 'and',\n",
       " 'Ger',\n",
       " '.',\n",
       " 'WALLEN',\n",
       " ';',\n",
       " 'A',\n",
       " '.',\n",
       " 'S',\n",
       " '.',\n",
       " 'WALW',\n",
       " '-',\n",
       " 'IAN',\n",
       " ',',\n",
       " 'to',\n",
       " 'roll',\n",
       " ',',\n",
       " 'to',\n",
       " 'wallow',\n",
       " '.\"',\n",
       " '--',\n",
       " 'RICHARDSON',\n",
       " \"'\",\n",
       " 'S',\n",
       " 'DICTIONARY',\n",
       " 'KETOS',\n",
       " ',',\n",
       " 'GREEK',\n",
       " '.',\n",
       " 'CETUS',\n",
       " ',',\n",
       " 'LATIN',\n",
       " '.',\n",
       " 'WHOEL',\n",
       " ',',\n",
       " 'ANGLO',\n",
       " '-',\n",
       " 'SAXON',\n",
       " '.',\n",
       " 'HVALT',\n",
       " ',',\n",
       " 'DANISH',\n",
       " '.',\n",
       " 'WAL',\n",
       " ',',\n",
       " 'DUTCH',\n",
       " '.',\n",
       " 'HWAL',\n",
       " ',',\n",
       " 'SWEDISH',\n",
       " '.',\n",
       " 'WHALE',\n",
       " ',',\n",
       " 'ICELANDIC',\n",
       " '.',\n",
       " 'WHALE',\n",
       " ',',\n",
       " 'ENGLISH',\n",
       " '.',\n",
       " 'BALEINE',\n",
       " ',',\n",
       " 'FRENCH',\n",
       " '.',\n",
       " 'BALLENA',\n",
       " ',',\n",
       " 'SPANISH',\n",
       " '.',\n",
       " 'PEKEE',\n",
       " '-',\n",
       " 'NUEE',\n",
       " '-',\n",
       " 'NUEE',\n",
       " ',',\n",
       " 'FEGEE',\n",
       " '.',\n",
       " 'PEKEE',\n",
       " '-',\n",
       " 'NUEE',\n",
       " '-',\n",
       " 'NUEE',\n",
       " ',',\n",
       " 'ERROMANGOAN',\n",
       " '.',\n",
       " 'EXTRACTS',\n",
       " '(',\n",
       " 'Supplied',\n",
       " 'by',\n",
       " 'a',\n",
       " 'Sub',\n",
       " '-',\n",
       " 'Sub',\n",
       " '-',\n",
       " 'Librarian',\n",
       " ').',\n",
       " 'It',\n",
       " 'will',\n",
       " 'be',\n",
       " 'seen',\n",
       " 'that',\n",
       " 'this',\n",
       " 'mere',\n",
       " 'painstaking',\n",
       " 'burrower',\n",
       " 'and',\n",
       " 'grub',\n",
       " '-',\n",
       " 'worm',\n",
       " 'of',\n",
       " 'a',\n",
       " 'poor',\n",
       " 'devil',\n",
       " 'of',\n",
       " 'a',\n",
       " 'Sub',\n",
       " '-',\n",
       " 'Sub',\n",
       " 'appears',\n",
       " 'to',\n",
       " 'have',\n",
       " 'gone',\n",
       " 'through',\n",
       " 'the',\n",
       " 'long',\n",
       " 'Vaticans',\n",
       " 'and',\n",
       " 'street',\n",
       " '-',\n",
       " 'stalls',\n",
       " 'of',\n",
       " 'the',\n",
       " 'earth',\n",
       " ',',\n",
       " 'picking',\n",
       " 'up',\n",
       " 'whatever',\n",
       " 'random',\n",
       " 'allusions',\n",
       " 'to',\n",
       " 'whales',\n",
       " 'he',\n",
       " 'could',\n",
       " 'anyways',\n",
       " 'find',\n",
       " 'in',\n",
       " 'any',\n",
       " 'book',\n",
       " 'whatsoever',\n",
       " ',',\n",
       " 'sacred',\n",
       " 'or',\n",
       " 'profane',\n",
       " '.',\n",
       " 'Therefore',\n",
       " 'you',\n",
       " 'must',\n",
       " 'not',\n",
       " ',',\n",
       " 'in',\n",
       " 'every',\n",
       " 'case',\n",
       " 'at',\n",
       " 'least',\n",
       " ',',\n",
       " 'take',\n",
       " 'the',\n",
       " 'higgledy',\n",
       " '-',\n",
       " 'piggledy',\n",
       " 'whale',\n",
       " 'statements',\n",
       " ',',\n",
       " 'however',\n",
       " 'authentic',\n",
       " ',',\n",
       " 'in',\n",
       " 'these',\n",
       " 'extracts',\n",
       " ',',\n",
       " 'for',\n",
       " 'veritable',\n",
       " 'gospel',\n",
       " 'cetology',\n",
       " '.',\n",
       " 'Far',\n",
       " 'from',\n",
       " 'it',\n",
       " '.',\n",
       " 'As',\n",
       " 'touching',\n",
       " 'the',\n",
       " 'ancient',\n",
       " 'authors',\n",
       " 'generally',\n",
       " ',',\n",
       " 'as',\n",
       " 'well',\n",
       " 'as',\n",
       " 'the',\n",
       " 'poets',\n",
       " 'here',\n",
       " 'appearing',\n",
       " ',',\n",
       " 'these',\n",
       " 'extracts',\n",
       " 'are',\n",
       " 'solely',\n",
       " 'valuable',\n",
       " 'or',\n",
       " 'entertaining',\n",
       " ',',\n",
       " 'as',\n",
       " 'affording',\n",
       " 'a',\n",
       " 'glancing',\n",
       " 'bird',\n",
       " \"'\",\n",
       " 's',\n",
       " 'eye',\n",
       " 'view',\n",
       " 'of',\n",
       " 'what',\n",
       " 'has',\n",
       " 'been',\n",
       " 'promiscuously',\n",
       " 'said',\n",
       " ',',\n",
       " 'thought',\n",
       " ',',\n",
       " 'fancied',\n",
       " ',',\n",
       " 'and',\n",
       " 'sung',\n",
       " 'of',\n",
       " 'Leviathan',\n",
       " ',',\n",
       " 'by',\n",
       " 'many',\n",
       " 'nations',\n",
       " 'and',\n",
       " 'generations',\n",
       " ',',\n",
       " 'including',\n",
       " 'our',\n",
       " 'own',\n",
       " '.',\n",
       " 'So',\n",
       " 'fare',\n",
       " 'thee',\n",
       " 'well',\n",
       " ',',\n",
       " 'poor',\n",
       " 'devil',\n",
       " 'of',\n",
       " 'a',\n",
       " 'Sub',\n",
       " '-',\n",
       " 'Sub',\n",
       " ',',\n",
       " 'whose',\n",
       " 'commentator',\n",
       " 'I',\n",
       " 'am',\n",
       " '.',\n",
       " 'Thou',\n",
       " 'belongest',\n",
       " 'to',\n",
       " 'that',\n",
       " 'hopeless',\n",
       " ',',\n",
       " 'sallow',\n",
       " 'tribe',\n",
       " 'which',\n",
       " 'no',\n",
       " 'wine',\n",
       " 'of',\n",
       " 'this',\n",
       " 'world',\n",
       " 'will',\n",
       " 'ever',\n",
       " 'warm',\n",
       " ';',\n",
       " 'and',\n",
       " 'for',\n",
       " 'whom',\n",
       " 'even',\n",
       " 'Pale',\n",
       " 'Sherry',\n",
       " 'would',\n",
       " 'be',\n",
       " 'too',\n",
       " 'rosy',\n",
       " '-',\n",
       " 'strong',\n",
       " ';',\n",
       " 'but',\n",
       " 'with',\n",
       " 'whom',\n",
       " 'one',\n",
       " 'sometimes',\n",
       " 'loves',\n",
       " 'to',\n",
       " 'sit',\n",
       " ',',\n",
       " 'and',\n",
       " 'feel',\n",
       " 'poor',\n",
       " '-',\n",
       " 'devilish',\n",
       " ',',\n",
       " 'too',\n",
       " ';',\n",
       " 'and',\n",
       " 'grow',\n",
       " 'convivial',\n",
       " 'upon',\n",
       " 'tears',\n",
       " ';',\n",
       " 'and',\n",
       " 'say',\n",
       " 'to',\n",
       " 'them',\n",
       " 'bluntly',\n",
       " ',',\n",
       " 'with',\n",
       " 'full',\n",
       " 'eyes',\n",
       " 'and',\n",
       " 'empty',\n",
       " 'glasses',\n",
       " ',',\n",
       " 'and',\n",
       " 'in',\n",
       " 'not',\n",
       " 'altogether',\n",
       " 'unpleasant',\n",
       " 'sadness',\n",
       " '--',\n",
       " 'Give',\n",
       " 'it',\n",
       " 'up',\n",
       " ',',\n",
       " 'Sub',\n",
       " '-',\n",
       " 'Subs',\n",
       " '!',\n",
       " 'For',\n",
       " 'by',\n",
       " 'how',\n",
       " 'much',\n",
       " 'the',\n",
       " 'more',\n",
       " 'pains',\n",
       " 'ye',\n",
       " 'take',\n",
       " 'to',\n",
       " 'please',\n",
       " 'the',\n",
       " 'world',\n",
       " ',',\n",
       " 'by',\n",
       " 'so',\n",
       " 'much',\n",
       " 'the',\n",
       " 'more',\n",
       " 'shall',\n",
       " 'ye',\n",
       " 'for',\n",
       " 'ever',\n",
       " 'go',\n",
       " 'thankless',\n",
       " '!',\n",
       " 'Would',\n",
       " 'that',\n",
       " 'I',\n",
       " 'could',\n",
       " 'clear',\n",
       " 'out',\n",
       " 'Hampton',\n",
       " 'Court',\n",
       " 'and',\n",
       " 'the',\n",
       " 'Tuileries',\n",
       " 'for',\n",
       " 'ye',\n",
       " '!',\n",
       " 'But',\n",
       " 'gulp',\n",
       " 'down',\n",
       " 'your',\n",
       " 'tears',\n",
       " 'and',\n",
       " 'hie',\n",
       " 'aloft',\n",
       " 'to',\n",
       " 'the',\n",
       " 'royal',\n",
       " '-',\n",
       " 'mast',\n",
       " 'with',\n",
       " 'your',\n",
       " 'hearts',\n",
       " ';',\n",
       " 'for',\n",
       " 'your',\n",
       " 'friends',\n",
       " 'who',\n",
       " 'have',\n",
       " 'gone',\n",
       " 'before',\n",
       " 'are',\n",
       " 'clearing',\n",
       " 'out',\n",
       " 'the',\n",
       " 'seven',\n",
       " '-',\n",
       " 'storied',\n",
       " 'heavens',\n",
       " ',',\n",
       " 'and',\n",
       " 'making',\n",
       " 'refugees',\n",
       " 'of',\n",
       " 'long',\n",
       " '-',\n",
       " 'pampered',\n",
       " 'Gabriel',\n",
       " ',',\n",
       " 'Michael',\n",
       " ',',\n",
       " 'and',\n",
       " 'Raphael',\n",
       " ',',\n",
       " 'against',\n",
       " 'your',\n",
       " 'coming',\n",
       " '.',\n",
       " 'Here',\n",
       " 'ye',\n",
       " 'strike',\n",
       " 'but',\n",
       " 'splintered',\n",
       " 'hearts',\n",
       " 'together',\n",
       " '--',\n",
       " 'there',\n",
       " ',',\n",
       " 'ye',\n",
       " 'shall',\n",
       " 'strike',\n",
       " 'unsplinterable',\n",
       " 'glasses',\n",
       " '!',\n",
       " 'EXTRACTS',\n",
       " '.',\n",
       " '\"',\n",
       " 'And',\n",
       " 'God',\n",
       " 'created',\n",
       " 'great',\n",
       " 'whales',\n",
       " '.\"',\n",
       " '--',\n",
       " 'GENESIS',\n",
       " '.',\n",
       " '\"',\n",
       " 'Leviathan',\n",
       " 'maketh',\n",
       " 'a',\n",
       " 'path',\n",
       " 'to',\n",
       " 'shine',\n",
       " 'after',\n",
       " 'him',\n",
       " ';',\n",
       " 'One',\n",
       " 'would',\n",
       " 'think',\n",
       " 'the',\n",
       " 'deep',\n",
       " 'to',\n",
       " 'be',\n",
       " 'hoary',\n",
       " '.\"',\n",
       " '--',\n",
       " 'JOB',\n",
       " '.',\n",
       " '\"',\n",
       " 'Now',\n",
       " 'the',\n",
       " 'Lord',\n",
       " 'had',\n",
       " 'prepared',\n",
       " 'a',\n",
       " 'great',\n",
       " 'fish',\n",
       " 'to',\n",
       " 'swallow',\n",
       " 'up',\n",
       " 'Jonah',\n",
       " '.\"',\n",
       " '--',\n",
       " 'JONAH',\n",
       " '.',\n",
       " '\"',\n",
       " 'There',\n",
       " 'go',\n",
       " 'the',\n",
       " 'ships',\n",
       " ';',\n",
       " 'there',\n",
       " 'is',\n",
       " 'that',\n",
       " 'Leviathan',\n",
       " 'whom',\n",
       " 'thou',\n",
       " 'hast',\n",
       " 'made',\n",
       " 'to',\n",
       " 'play',\n",
       " 'therein',\n",
       " '.\"',\n",
       " '--',\n",
       " 'PSALMS',\n",
       " '.',\n",
       " '\"',\n",
       " 'In',\n",
       " 'that',\n",
       " 'day',\n",
       " ',',\n",
       " 'the',\n",
       " 'Lord',\n",
       " 'with',\n",
       " 'his',\n",
       " 'sore',\n",
       " ',',\n",
       " 'and',\n",
       " 'great',\n",
       " ',',\n",
       " 'and',\n",
       " 'strong',\n",
       " 'sword',\n",
       " ',',\n",
       " 'shall',\n",
       " 'punish',\n",
       " 'Leviathan',\n",
       " 'the',\n",
       " 'piercing',\n",
       " 'serpent',\n",
       " ',',\n",
       " 'even',\n",
       " 'Leviathan',\n",
       " 'that',\n",
       " 'crooked',\n",
       " 'serpent',\n",
       " ';',\n",
       " 'and',\n",
       " 'he',\n",
       " 'shall',\n",
       " 'slay',\n",
       " 'the',\n",
       " 'dragon',\n",
       " 'that',\n",
       " 'is',\n",
       " 'in',\n",
       " 'the',\n",
       " 'sea',\n",
       " '.\"',\n",
       " '--',\n",
       " 'ISAIAH',\n",
       " '\"',\n",
       " 'And',\n",
       " 'what',\n",
       " 'thing',\n",
       " 'soever',\n",
       " 'besides',\n",
       " 'cometh',\n",
       " 'within',\n",
       " 'the',\n",
       " 'chaos',\n",
       " 'of',\n",
       " 'this',\n",
       " 'monster',\n",
       " \"'\",\n",
       " 's',\n",
       " 'mouth',\n",
       " ',',\n",
       " 'be',\n",
       " 'it',\n",
       " 'beast',\n",
       " ',',\n",
       " 'boat',\n",
       " ',',\n",
       " 'or',\n",
       " 'stone',\n",
       " ',',\n",
       " 'down',\n",
       " 'it',\n",
       " 'goes',\n",
       " 'all',\n",
       " 'incontinently',\n",
       " 'that',\n",
       " 'foul',\n",
       " 'great',\n",
       " 'swallow',\n",
       " 'of',\n",
       " 'his',\n",
       " ',',\n",
       " 'and',\n",
       " 'perisheth',\n",
       " 'in',\n",
       " 'the',\n",
       " 'bottomless',\n",
       " 'gulf',\n",
       " 'of',\n",
       " 'his',\n",
       " 'paunch',\n",
       " '.\"',\n",
       " '--',\n",
       " 'HOLLAND',\n",
       " \"'\",\n",
       " 'S',\n",
       " 'PLUTARCH',\n",
       " \"'\",\n",
       " 'S',\n",
       " 'MORALS',\n",
       " '.',\n",
       " '\"',\n",
       " 'The',\n",
       " 'Indian',\n",
       " 'Sea',\n",
       " 'breedeth',\n",
       " 'the',\n",
       " 'most',\n",
       " 'and',\n",
       " 'the',\n",
       " 'biggest',\n",
       " 'fishes',\n",
       " 'that',\n",
       " 'are',\n",
       " ':',\n",
       " 'among',\n",
       " 'which',\n",
       " 'the',\n",
       " 'Whales',\n",
       " 'and',\n",
       " 'Whirlpooles',\n",
       " 'called',\n",
       " 'Balaene',\n",
       " ',',\n",
       " 'take',\n",
       " 'up',\n",
       " 'as',\n",
       " 'much',\n",
       " 'in',\n",
       " 'length',\n",
       " 'as',\n",
       " 'four',\n",
       " 'acres',\n",
       " 'or',\n",
       " 'arpens',\n",
       " 'of',\n",
       " 'land',\n",
       " '.\"',\n",
       " '--',\n",
       " 'HOLLAND',\n",
       " \"'\",\n",
       " 'S',\n",
       " 'PLINY',\n",
       " '.',\n",
       " '\"',\n",
       " 'Scarcely',\n",
       " 'had',\n",
       " 'we',\n",
       " 'proceeded',\n",
       " 'two',\n",
       " 'days',\n",
       " 'on',\n",
       " 'the',\n",
       " 'sea',\n",
       " ',',\n",
       " 'when',\n",
       " 'about',\n",
       " 'sunrise',\n",
       " 'a',\n",
       " 'great',\n",
       " 'many',\n",
       " 'Whales',\n",
       " 'and',\n",
       " 'other',\n",
       " 'monsters',\n",
       " 'of',\n",
       " 'the',\n",
       " 'sea',\n",
       " ',',\n",
       " 'appeared',\n",
       " '.',\n",
       " 'Among',\n",
       " 'the',\n",
       " 'former',\n",
       " ',',\n",
       " 'one',\n",
       " 'was',\n",
       " 'of',\n",
       " 'a',\n",
       " 'most',\n",
       " 'monstrous',\n",
       " 'size',\n",
       " '.',\n",
       " '...',\n",
       " 'This',\n",
       " 'came',\n",
       " 'towards',\n",
       " 'us',\n",
       " ',',\n",
       " 'open',\n",
       " '-',\n",
       " 'mouthed',\n",
       " ',',\n",
       " 'raising',\n",
       " 'the',\n",
       " 'waves',\n",
       " 'on',\n",
       " 'all',\n",
       " 'sides',\n",
       " ',',\n",
       " 'and',\n",
       " 'beating',\n",
       " 'the',\n",
       " 'sea',\n",
       " 'before',\n",
       " 'him',\n",
       " 'into',\n",
       " 'a',\n",
       " 'foam',\n",
       " '.\"',\n",
       " '--',\n",
       " 'TOOKE',\n",
       " \"'\",\n",
       " 'S',\n",
       " 'LUCIAN',\n",
       " '.',\n",
       " '\"',\n",
       " 'THE',\n",
       " 'TRUE',\n",
       " 'HISTORY',\n",
       " '.\"',\n",
       " '\"',\n",
       " 'He',\n",
       " 'visited',\n",
       " 'this',\n",
       " 'country',\n",
       " 'also',\n",
       " 'with',\n",
       " 'a',\n",
       " 'view',\n",
       " 'of',\n",
       " 'catching',\n",
       " 'horse',\n",
       " '-',\n",
       " 'whales',\n",
       " ',',\n",
       " 'which',\n",
       " 'had',\n",
       " 'bones',\n",
       " 'of',\n",
       " 'very',\n",
       " 'great',\n",
       " 'value',\n",
       " 'for',\n",
       " 'their',\n",
       " 'teeth',\n",
       " ',',\n",
       " 'of',\n",
       " 'which',\n",
       " 'he',\n",
       " 'brought',\n",
       " 'some',\n",
       " 'to',\n",
       " 'the',\n",
       " 'king',\n",
       " '.',\n",
       " '...',\n",
       " 'The',\n",
       " 'best',\n",
       " 'whales',\n",
       " 'were',\n",
       " 'catched',\n",
       " 'in',\n",
       " 'his',\n",
       " 'own',\n",
       " 'country',\n",
       " ',',\n",
       " 'of',\n",
       " 'which',\n",
       " 'some',\n",
       " 'were',\n",
       " 'forty',\n",
       " '-',\n",
       " 'eight',\n",
       " ',',\n",
       " 'some',\n",
       " 'fifty',\n",
       " 'yards',\n",
       " 'long',\n",
       " '.',\n",
       " 'He',\n",
       " ...]"
      ]
     },
     "execution_count": 211,
     "metadata": {},
     "output_type": "execute_result"
    }
   ],
   "source": [
    "text1.tokens"
   ]
  },
  {
   "cell_type": "code",
   "execution_count": null,
   "metadata": {},
   "outputs": [],
   "source": []
  },
  {
   "cell_type": "code",
   "execution_count": null,
   "metadata": {},
   "outputs": [],
   "source": []
  },
  {
   "cell_type": "code",
   "execution_count": null,
   "metadata": {},
   "outputs": [],
   "source": []
  },
  {
   "cell_type": "code",
   "execution_count": null,
   "metadata": {},
   "outputs": [],
   "source": []
  },
  {
   "cell_type": "code",
   "execution_count": null,
   "metadata": {},
   "outputs": [],
   "source": []
  },
  {
   "cell_type": "code",
   "execution_count": null,
   "metadata": {},
   "outputs": [],
   "source": []
  }
 ],
 "metadata": {
  "kernelspec": {
   "display_name": "Python 3",
   "language": "python",
   "name": "python3"
  },
  "language_info": {
   "codemirror_mode": {
    "name": "ipython",
    "version": 3
   },
   "file_extension": ".py",
   "mimetype": "text/x-python",
   "name": "python",
   "nbconvert_exporter": "python",
   "pygments_lexer": "ipython3",
   "version": "3.7.4"
  }
 },
 "nbformat": 4,
 "nbformat_minor": 4
}
