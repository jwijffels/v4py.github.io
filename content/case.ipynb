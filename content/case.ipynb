{
 "cells": [
  {
   "cell_type": "markdown",
   "metadata": {},
   "source": [
    "# Case studies\n",
    "\n",
    "Now that we've got some programming under our belt, let's work through a\n",
    "few extended examples which focus on the linguistic side of things. This\n",
    "might also be a good time to revisit the case study shown as part of the\n",
    "[introductory chapter](intro).\n",
    "\n",
    "The focus is deliberately on rolling our own implementations and not\n",
    "using canned analyses. With what you've learned so far, importing and\n",
    "running someone else's Python function is a trivial task -- you can use\n",
    "a search engine to find out whether a library exists for the task you\n",
    "have in mind, and probably just lift the code from the library's\n",
    "documentation, you don't need me to copypaste it here as well. What's\n",
    "more interesting is exploring how you can use existing libraries as\n",
    "building blocks for your own, more elaborate pieces of code that add to\n",
    "something more than just the sum of their parts."
   ]
  }
 ],
 "metadata": {
  "kernelspec": {
   "display_name": "Python 3",
   "language": "python",
   "name": "python3"
  },
  "language_info": {
   "codemirror_mode": {
    "name": "ipython",
    "version": 3
   },
   "file_extension": ".py",
   "mimetype": "text/x-python",
   "name": "python",
   "nbconvert_exporter": "python",
   "pygments_lexer": "ipython3",
   "version": "3.7.6"
  }
 },
 "nbformat": 4,
 "nbformat_minor": 4
}
