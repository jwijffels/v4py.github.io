{
 "cells": [
  {
   "cell_type": "markdown",
   "metadata": {},
   "source": [
    "# Parting words\n",
    "\n",
    "Now that you've made it to the end, perhaps you're wondering where to go\n",
    "from here. Programming is perhaps the easiest skill to learn using only\n",
    "the internet, so there are many options. There's also always room for\n",
    "improvement and learning new things, it's a lifelong journey. In lieu of\n",
    "parting words, here are some tips on where to get started, at least in\n",
    "the world of Python.\n",
    "\n",
    "Thank you for reading so far, and if you have any suggestions for\n",
    "improvement, additions, or just spotted a few typos, please [report them\n",
    "on GitHub](https://github.com/v4py/v4py.github.io/issues)!\n",
    "\n",
    "# Books"
   ]
  },
  {
   "cell_type": "markdown",
   "metadata": {
    "region_name": "md",
    "tags": [
     "popout"
    ]
   },
   "source": [
    "<a href=\"https://www.nltk.org/book/\" target=\"_blank\">\n",
    "<img src=\"images/outro/nltk_book.jpg\" width=\"200\" alt=\"Natural Language Processing with Python book cover\">\n",
    "</a>"
   ]
  },
  {
   "cell_type": "markdown",
   "metadata": {},
   "source": [
    "As a general introduction to Python programming which focuses on\n",
    "linguistic applications, I've already recommended [*Natural Language\n",
    "Processing with Python: Analyzing Text with the Natural Language\n",
    "Toolkit*](https://www.nltk.org/book/) by Steven Bird, Ewan Klein and\n",
    "Edward Loper, and I'm going to recommend it again. It's a great\n",
    "resource, all the more useful since it's freely available online. It\n",
    "doesn't provide just recipes on how to use the latest and greatest fancy\n",
    "stuff in NLP, treating the tools as black boxes, but rather focuses on\n",
    "understanding algorithms and concepts and improving your programming\n",
    "skills. This means that it often spends time on less cutting-edge\n",
    "methods, which are however conceptually simpler and thus have better\n",
    "teaching value. Depending on what your immediate needs are, this may be\n",
    "a strength or a weakness, but in the long run, I would argue that every\n",
    "programming linguist should spend some time honing their programming\n",
    "skills instead of always blindly following how-to style recipes, because\n",
    "even copy-pasting black box code can go seriously wrong if you don't\n",
    "have a larger picture of what's going on."
   ]
  },
  {
   "cell_type": "markdown",
   "metadata": {
    "region_name": "md",
    "tags": [
     "popout"
    ]
   },
   "source": [
    "<a href=\"https://jakevdp.github.io/PythonDataScienceHandbook/\" target=\"_blank\">\n",
    "<img src=\"images/outro/python_data_science.png\" width=\"200\" alt=\"Python Data Science Handbook cover\">\n",
    "</a>"
   ]
  },
  {
   "cell_type": "markdown",
   "metadata": {},
   "source": [
    "On perhaps a more practical note, I can definitely recommend Jake\n",
    "VanderPlas's [*Python Data Science\n",
    "Handbook*](https://jakevdp.github.io/PythonDataScienceHandbook/), an\n",
    "other great resource which is also freely available online. This book is\n",
    "not concerned with NLP per se but rather with data analysis, i.e. with\n",
    "what happens after you've processed your text data and want to do some\n",
    "statistical modeling or machine learning with it. This has traditionally\n",
    "been the domain of [R](https://www.r-project.org/), especially among\n",
    "linguists, but R is a very idiosyncratic language which encourages the\n",
    "copy-paste, black box approach: while it sometimes provides pleasant and\n",
    "easy-to-use abstractions (especially in the\n",
    "[tidyverse](https://www.tidyverse.org/) third-party packages), building\n",
    "them yourself or wiring them together can be challenging because the\n",
    "underlying language is not really well-designed, edge cases and\n",
    "surprising behaviors abound. Python is much easier to wrap your head\n",
    "around, perhaps because it has always been intended as a more\n",
    "general-purpose programming language, but by the same token, it can be\n",
    "sometimes hard to know which libraries and techniques to use when\n",
    "getting started with data analysis in Python. The *Python Data Science\n",
    "Handbook* is there to help you with that.\n",
    "\n",
    "# Videos\n",
    "\n",
    "Unlike conferences in linguistics, programming conferences are often\n",
    "recorded and professionally produced videos (including presentation\n",
    "slides) are subsequently made available, most often for free. For\n",
    "tutorials and workshops, the materials often remain available long after\n",
    "the conference via sites like GitHub, so you can follow along at your\n",
    "leisure.\n",
    "\n",
    "Since conferences are popular, there's potentially *a lot* of watching\n",
    "material, not all of it great. Some people are better programmers than\n",
    "speakers or teachers, some are good at neither, but there are so many\n",
    "conferences that they can accommodate all of them. Below is a collection\n",
    "of videos that I either consider rare gems of the Python conference\n",
    "circuit, or that are particularly relevant to the subject of analyzing\n",
    "language data, or both.\n",
    "\n",
    "If you end up searching yourself, I can recommend almost anything by\n",
    "either Raymond Hettinger, Ned Batchelder or David Beazley. Their\n",
    "contributions are consistently extremely informative, well-prepared and\n",
    "entertaining at the same time.\n",
    "\n",
    "## Improving your Python chops\n",
    "\n",
    "<!-- Beazley: builtins _____________________________________________ -->"
   ]
  },
  {
   "cell_type": "markdown",
   "metadata": {
    "region_name": "md",
    "tags": [
     "popout"
    ]
   },
   "source": [
    "\n",
    "A great tour of Python's built-in functionality, i.e. stuff that's\n",
    "always available, without having to load any libraries, and tips and\n",
    "tricks on how to use it. A great way to top off your Python initiation\n",
    "and graduate to a proficient beginner.\n"
   ]
  },
  {
   "cell_type": "markdown",
   "metadata": {
    "region_name": "md"
   },
   "source": [
    "<iframe width=\"560\" height=\"315\"\n",
    "  src=\"https://www.youtube-nocookie.com/embed/lyDLAutA88s\" frameborder=\"0\"\n",
    "  allow=\"accelerometer; autoplay; encrypted-media; gyroscope; picture-in-picture\"\n",
    "  allowfullscreen>\n",
    "</iframe>"
   ]
  },
  {
   "cell_type": "markdown",
   "metadata": {},
   "source": [
    "<!-- Batchelder: variables _________________________________________ -->"
   ]
  },
  {
   "cell_type": "markdown",
   "metadata": {
    "region_name": "md",
    "tags": [
     "popout"
    ]
   },
   "source": [
    "\n",
    "This is perhaps the most useful intermediate Python talk ever. It'll\n",
    "clear up any misconceptions about how variables work in Python that you\n",
    "might have accumulated on your programming journey so far, and enable\n",
    "you to work on more complicated and larger pieces of code with more\n",
    "confidence.\n"
   ]
  },
  {
   "cell_type": "markdown",
   "metadata": {
    "region_name": "md"
   },
   "source": [
    "<iframe width=\"560\" height=\"315\"\n",
    "  src=\"https://www.youtube-nocookie.com/embed/_AEJHKGk9ns\" frameborder=\"0\"\n",
    "  allow=\"accelerometer; autoplay; encrypted-media; gyroscope; picture-in-picture\"\n",
    "  allowfullscreen>\n",
    "</iframe>"
   ]
  },
  {
   "cell_type": "markdown",
   "metadata": {
    "lines_to_next_cell": 0
   },
   "source": [
    "<!-- =============================================================== -->"
   ]
  },
  {
   "cell_type": "markdown",
   "metadata": {
    "region_name": "md",
    "tags": [
     "full_width"
    ]
   },
   "source": [
    "<hr style=\"margin-top: 4rem;\">"
   ]
  },
  {
   "cell_type": "markdown",
   "metadata": {},
   "source": [
    "## Data analysis and NLP\n",
    "\n",
    "<!-- VanderPlas: PyData 101 ________________________________________ -->"
   ]
  },
  {
   "cell_type": "markdown",
   "metadata": {
    "region_name": "md",
    "tags": [
     "popout"
    ]
   },
   "source": [
    "\n",
    "If you're interested in using Python for data analysis, I can recommend\n",
    "anything by Jake VanderPlas (who wrote the *Python Data Science\n",
    "Handbook* mentioned earlier). This is an introductory talk which\n",
    "provides basic orientation in the Python data analysis landscape -- what\n",
    "tools exist and when to use which. As a keynote, it's somewhat longer\n",
    "and also provides a bit of historical background on Python, with a bias\n",
    "for data science applications of course.\n"
   ]
  },
  {
   "cell_type": "markdown",
   "metadata": {
    "region_name": "md"
   },
   "source": [
    "<iframe width=\"560\" height=\"315\"\n",
    "  src=\"https://www.youtube-nocookie.com/embed/DifMYH3iuFw\" frameborder=\"0\"\n",
    "  allow=\"accelerometer; autoplay; encrypted-media; gyroscope; picture-in-picture\"\n",
    "  allowfullscreen>\n",
    "</iframe>"
   ]
  },
  {
   "cell_type": "markdown",
   "metadata": {},
   "source": [
    "<!-- VanderPlas: statistics ________________________________________ -->"
   ]
  },
  {
   "cell_type": "markdown",
   "metadata": {
    "region_name": "md",
    "tags": [
     "popout"
    ]
   },
   "source": [
    "\n",
    "A bit unsure how statistics works, or what it's even good for? This\n",
    "particular talk may be titled *Statistics for Hackers*, but in reality\n",
    "it's geared towards anyone with a keen mind who's interested in\n",
    "statistics but hasn't had extensive formal training in math, which means\n",
    "they sometimes struggle with a formula-heavy approach. Which often\n",
    "applies to linguists, including myself. This may also be a good place to\n",
    "point out that ['hacker'](https://en.wikipedia.org/wiki/Hacker) doesn't\n",
    "always (and certainly not here) refer to someone who breaks into other\n",
    "people's computers.\n"
   ]
  },
  {
   "cell_type": "markdown",
   "metadata": {
    "region_name": "md"
   },
   "source": [
    "<iframe width=\"560\" height=\"315\"\n",
    "  src=\"https://www.youtube-nocookie.com/embed/Iq9DzN6mvYA\" frameborder=\"0\"\n",
    "  allow=\"accelerometer; autoplay; encrypted-media; gyroscope; picture-in-picture\"\n",
    "  allowfullscreen>\n",
    "</iframe>"
   ]
  },
  {
   "cell_type": "markdown",
   "metadata": {},
   "source": [
    "<!-- VanderPlas: cutting-edge viz __________________________________ -->"
   ]
  },
  {
   "cell_type": "markdown",
   "metadata": {
    "region_name": "md",
    "tags": [
     "popout"
    ]
   },
   "source": [
    "\n",
    "Visualization is currently a rapidly evolving landscape in Python, and\n",
    "this talk is about new developments based on the *grammar of graphics*\n",
    "and *declarative visualization* approach, which was popularized by the R\n",
    "package [ggplot2](https://ggplot2.tidyverse.org/). The first part is a\n",
    "teaches you how to think about visualization in general, while the\n",
    "second introduces the [Altair](https://altair-viz.github.io/) library.\n"
   ]
  },
  {
   "cell_type": "markdown",
   "metadata": {
    "region_name": "md"
   },
   "source": [
    "<iframe width=\"560\" height=\"315\"\n",
    "  src=\"https://www.youtube-nocookie.com/embed/vTingdk_pVM\" frameborder=\"0\"\n",
    "  allow=\"accelerometer; autoplay; encrypted-media; gyroscope; picture-in-picture\"\n",
    "  allowfullscreen>\n",
    "</iframe>"
   ]
  },
  {
   "cell_type": "markdown",
   "metadata": {},
   "source": [
    "<!-- VanderPlas: traditional viz ___________________________________ -->"
   ]
  },
  {
   "cell_type": "markdown",
   "metadata": {
    "region_name": "md",
    "tags": [
     "popout"
    ]
   },
   "source": [
    "\n",
    "By contrast, this older talk gives an overview of the Python\n",
    "visualization landscape including the more traditional and established\n",
    "Python visualization tools, which many people continue using and which\n",
    "aren't going away anytime soon. Their advantage is that they're mature,\n",
    "stable and widely known, so it can be much easier to get help on how to\n",
    "use them from random people on the internet. A good accompanying\n",
    "resource for this talk is [Part\n",
    "4](https://jakevdp.github.io/PythonDataScienceHandbook/04.00-introduction-to-matplotlib.html)\n",
    "of the *Python Data Science Handbook*.\n"
   ]
  },
  {
   "cell_type": "markdown",
   "metadata": {
    "region_name": "md"
   },
   "source": [
    "<iframe width=\"560\" height=\"315\"\n",
    "  src=\"https://www.youtube-nocookie.com/embed/FytuB8nFHPQ\" frameborder=\"0\"\n",
    "  allow=\"accelerometer; autoplay; encrypted-media; gyroscope; picture-in-picture\"\n",
    "  allowfullscreen>\n",
    "</iframe>"
   ]
  },
  {
   "cell_type": "markdown",
   "metadata": {},
   "source": [
    "<!-- Zhao: NLP tutorial ____________________________________________ -->"
   ]
  },
  {
   "cell_type": "markdown",
   "metadata": {
    "region_name": "md",
    "tags": [
     "popout"
    ]
   },
   "source": [
    "\n",
    "An NLP tutorial whose most valuable aspect is that if offers an extended\n",
    "worked example of data analysis, from collecting raw data to\n",
    "communicating insights. It gives a very good idea of what this entire\n",
    "process typically looks like and what are the pitfalls to look out for.\n"
   ]
  },
  {
   "cell_type": "markdown",
   "metadata": {
    "region_name": "md"
   },
   "source": [
    "<iframe width=\"560\" height=\"315\"\n",
    "  src=\"https://www.youtube-nocookie.com/embed/xvqsFTUsOmc\" frameborder=\"0\"\n",
    "  allow=\"accelerometer; autoplay; encrypted-media; gyroscope; picture-in-picture\"\n",
    "  allowfullscreen>\n",
    "</iframe>"
   ]
  },
  {
   "cell_type": "markdown",
   "metadata": {
    "lines_to_next_cell": 0
   },
   "source": [
    "<!-- =============================================================== -->"
   ]
  },
  {
   "cell_type": "markdown",
   "metadata": {
    "region_name": "md",
    "tags": [
     "full_width"
    ]
   },
   "source": [
    "<hr style=\"margin-top: 4rem;\">"
   ]
  },
  {
   "cell_type": "markdown",
   "metadata": {},
   "source": [
    "## War stories\n",
    "\n",
    "<!-- Beazley: mission impossible ___________________________________ -->"
   ]
  },
  {
   "cell_type": "markdown",
   "metadata": {
    "region_name": "md",
    "tags": [
     "popout"
    ]
   },
   "source": [
    "\n",
    "A real-life story on how Python helped David Beazley to make sense of\n",
    "large amounts of unknown data in order to prepare an expert testimony in\n",
    "a legal case. More on the entertaining side than the educational, but it\n",
    "*will* teach you that Python is a Swiss-army knife for slicing and\n",
    "dicing data. The *Mission: Impossible* of programming conference talks,\n",
    "with Python starring as agent Ethan Hunt!\n"
   ]
  },
  {
   "cell_type": "markdown",
   "metadata": {
    "region_name": "md"
   },
   "source": [
    "<iframe width=\"560\" height=\"315\"\n",
    "  src=\"https://www.youtube-nocookie.com/embed/RZ4Sn-Y7AP8\" frameborder=\"0\"\n",
    "  allow=\"accelerometer; autoplay; encrypted-media; gyroscope; picture-in-picture\"\n",
    "  allowfullscreen>\n",
    "</iframe>"
   ]
  },
  {
   "cell_type": "markdown",
   "metadata": {
    "lines_to_next_cell": 0
   },
   "source": [
    "<!-- =============================================================== -->"
   ]
  },
  {
   "cell_type": "markdown",
   "metadata": {
    "region_name": "md",
    "tags": [
     "full_width"
    ]
   },
   "source": [
    "<hr style=\"margin-top: 4rem;\">"
   ]
  },
  {
   "cell_type": "markdown",
   "metadata": {},
   "source": [
    "## Nuts and bolts (advanced)\n",
    "\n",
    "And finally, here are a few more advanced talks which I heartily\n",
    "recommend watching after you've spent a little more time with Python.\n",
    "\n",
    "<!-- Hettinger: dictionaries _______________________________________ -->"
   ]
  },
  {
   "cell_type": "markdown",
   "metadata": {
    "region_name": "md",
    "tags": [
     "popout"
    ]
   },
   "source": [
    "\n",
    "Dictionaries are the bread and butter of the Python programmer, and\n",
    "they're also at the core of how many of the features in the language\n",
    "work. As such, their implementation has evolved over the years to\n",
    "incorporate increasingly clever tricks. Learn what they are from the\n",
    "proverbial horse's mouth, Python core developer Raymond Hettinger, who's\n",
    "also one of the most consistently entertaining conference speakers I've\n",
    "seen!\n"
   ]
  },
  {
   "cell_type": "markdown",
   "metadata": {
    "region_name": "md"
   },
   "source": [
    "<iframe width=\"560\" height=\"315\"\n",
    "  src=\"https://www.youtube-nocookie.com/embed/npw4s1QTmPg\" frameborder=\"0\"\n",
    "  allow=\"accelerometer; autoplay; encrypted-media; gyroscope; picture-in-picture\"\n",
    "  allowfullscreen>\n",
    "</iframe>"
   ]
  },
  {
   "cell_type": "markdown",
   "metadata": {},
   "source": [
    "<!-- Hettinger: concurrency ________________________________________ -->"
   ]
  },
  {
   "cell_type": "markdown",
   "metadata": {
    "region_name": "md",
    "tags": [
     "popout"
    ]
   },
   "source": [
    "\n",
    "Another talk by Raymond Hettinger, this time about making the computer\n",
    "do multiple things at the same time. Spoiler: it's hard to get this\n",
    "right, and you should probably think twice whether you really needed\n",
    "before you start tinkering with it.\n"
   ]
  },
  {
   "cell_type": "markdown",
   "metadata": {
    "region_name": "md"
   },
   "source": [
    "<iframe width=\"560\" height=\"315\"\n",
    "  src=\"https://www.youtube-nocookie.com/embed/9zinZmE3Ogk\" frameborder=\"0\"\n",
    "  allow=\"accelerometer; autoplay; encrypted-media; gyroscope; picture-in-picture\"\n",
    "  allowfullscreen>\n",
    "</iframe>"
   ]
  },
  {
   "cell_type": "markdown",
   "metadata": {},
   "source": [
    "<!-- NJ Smith: trio ________________________________________________ -->"
   ]
  },
  {
   "cell_type": "markdown",
   "metadata": {
    "region_name": "md",
    "tags": [
     "popout"
    ]
   },
   "source": [
    "\n",
    "On a similar topic as the previous one, a talk on how computers can\n",
    "*pretend* they're doing several things at the same time by quickly\n",
    "switching between tasks, and on designing a Python library which makes\n",
    "such programming fairly intuitive and less error-prone. If you've heard\n",
    "the buzzwords `async` and `await`, they feature prominently.\n"
   ]
  },
  {
   "cell_type": "markdown",
   "metadata": {
    "region_name": "md"
   },
   "source": [
    "<iframe width=\"560\" height=\"315\"\n",
    "  src=\"https://www.youtube-nocookie.com/embed/oLkfnc_UMcE\" frameborder=\"0\"\n",
    "  allow=\"accelerometer; autoplay; encrypted-media; gyroscope; picture-in-picture\"\n",
    "  allowfullscreen>\n",
    "</iframe>"
   ]
  },
  {
   "cell_type": "markdown",
   "metadata": {
    "lines_to_next_cell": 0
   },
   "source": [
    "<!-- =============================================================== -->"
   ]
  },
  {
   "cell_type": "markdown",
   "metadata": {
    "region_name": "md",
    "tags": [
     "full_width"
    ]
   },
   "source": [
    "<hr style=\"margin-top: 4rem;\">"
   ]
  },
  {
   "cell_type": "markdown",
   "metadata": {},
   "source": [
    "# Libraries\n",
    "\n",
    "- nltk\n",
    "- corpy\n",
    "- lxml\n",
    "- trio\n",
    "- regex (use re docs)\n",
    "- matplotlib\n",
    "- seaborn\n",
    "- pandas\n",
    "\n",
    "<!-- vim: set spell spelllang=en: -->"
   ]
  }
 ],
 "metadata": {
  "kernelspec": {
   "display_name": "Python 3",
   "language": "python",
   "name": "python3"
  },
  "language_info": {
   "codemirror_mode": {
    "name": "ipython",
    "version": 3
   },
   "file_extension": ".py",
   "mimetype": "text/x-python",
   "name": "python",
   "nbconvert_exporter": "python",
   "pygments_lexer": "ipython3",
   "version": "3.7.7"
  }
 },
 "nbformat": 4,
 "nbformat_minor": 4
}
