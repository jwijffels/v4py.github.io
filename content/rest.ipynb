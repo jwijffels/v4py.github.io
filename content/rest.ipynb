{
 "cells": [
  {
   "cell_type": "raw",
   "metadata": {},
   "source": [
    "---\n",
    "author: Rudolf Rosa\n",
    "---"
   ]
  },
  {
   "cell_type": "markdown",
   "metadata": {},
   "source": [
    "# Working with online resources\n",
    "\n",
    "## How to work with this material\n",
    "\n",
    "* There is always first a text telling you what to do\n",
    "  * So first try to do it yourself without looking at the code\n",
    "* Below the text, there is always the code that does the task\n",
    "  * So look at the code and try to run it and understand it\n",
    "  * Try to play with it\n",
    "  * Try to change it and see what happens, this will help you to better\n",
    "    understand it\n",
    "* Sometimes, there are also suggestions for additional exercises\n",
    "  * These are typically not accompanied by solutions\n",
    "  * Try to solve these yourself if you wish\n",
    "* As programmers say: Move fast and break things\n",
    "  * Don't think too long about how to do something\n",
    "  * Just try to do it somehow, run the code and see what happens\n",
    "  * Don't be afraid to break stuff; you will probably not break anything\n",
    "    important :-)\n",
    "* There are always more ways to do it\n",
    "  * So you may create a different piece of code than the sample code\n",
    "    provided here\n",
    "  * And that's a good thing\n",
    "  * Any code that does the job is good\n",
    "  * Additionally, code that does the job and is efficient and elegant is\n",
    "    great code\n",
    "    * But in most cases, any code that works is just fine :-)\n",
    "  * The codes provided here are just some examples of good code, but\n",
    "    take them just as examples, feel free to diverge from them!\n",
    "\n",
    "Now, let's get to the actual class on:\n",
    "\n",
    "# Opening resources from Internet\n",
    "\n",
    "* Let's \"download\" the document from http://p.nikde.eu\n",
    "\n",
    "## Uncool variant: copy-paste\n",
    "\n",
    "1. Go to http://p.nikde.eu\n",
    "1. Copy the text\n",
    "1. Paste it into a variable"
   ]
  },
  {
   "cell_type": "code",
   "execution_count": 1,
   "metadata": {},
   "outputs": [],
   "source": [
    "copypaste=\"\"\"Všichni lidé rodí se svobodní a sobě rovní co do důstojnosti a práv.\n",
    "Všetci ľudia sa rodia slobodní a sebe rovní, čo sa týka ich dostojnosti a práv.\n",
    "Wszyscy ludzie rodzą się wolni i równi pod względem swej godności i swych praw.\n",
    "Tutti gli esseri umani nascono liberi ed eguali in dignità e diritti.\n",
    "Todos los seres humanos nacen libres e iguales en dignidad y derechos.\n",
    "Alle Menschen sind frei und gleich an Würde und Rechten geboren.\n",
    "Kaikki ihmiset syntyvät vapaina ja tasavertaisina arvoltaan ja oikeuksiltaan.\n",
    "Все люди рождаются свободными и равными в своем достоинстве и правах.\n",
    "Всички хора се раждат свободни и равни по достойнство и права.\n",
    "All human beings are born free and equal in dignity and rights.\"\"\""
   ]
  },
  {
   "cell_type": "code",
   "execution_count": 2,
   "metadata": {
    "tags": [
     "full_width"
    ]
   },
   "outputs": [
    {
     "name": "stdout",
     "output_type": "stream",
     "text": [
      "Všichni lidé rodí se svobodní a sobě rovní co do důstojnosti a práv.\n",
      "Všetci ľudia sa rodia slobodní a sebe rovní, čo sa týka ich dostojnosti a práv.\n",
      "Wszyscy ludzie rodzą się wolni i równi pod względem swej godności i swych praw.\n",
      "Tutti gli esseri umani nascono liberi ed eguali in dignità e diritti.\n",
      "Todos los seres humanos nacen libres e iguales en dignidad y derechos.\n",
      "Alle Menschen sind frei und gleich an Würde und Rechten geboren.\n",
      "Kaikki ihmiset syntyvät vapaina ja tasavertaisina arvoltaan ja oikeuksiltaan.\n",
      "Все люди рождаются свободными и равными в своем достоинстве и правах.\n",
      "Всички хора се раждат свободни и равни по достойнство и права.\n",
      "All human beings are born free and equal in dignity and rights.\n"
     ]
    }
   ],
   "source": [
    "print(copypaste)"
   ]
  },
  {
   "cell_type": "markdown",
   "metadata": {},
   "source": [
    "## Cool variant: get the text from the webpage using Python!\n",
    "\n",
    "1. `import` the `requests` module\n",
    "2. use its `get` method to get the contents of the webpage, using the\n",
    "   webpage's URL as a parameter\n",
    "   * we will also have to specify the encoding of the response\n",
    "3. find the text of the webpage inside the `text` field of the response"
   ]
  },
  {
   "cell_type": "code",
   "execution_count": 3,
   "metadata": {},
   "outputs": [],
   "source": [
    "import requests"
   ]
  },
  {
   "cell_type": "code",
   "execution_count": 4,
   "metadata": {},
   "outputs": [],
   "source": [
    "my_response = requests.get(\"http://p.nikde.eu\")\n",
    "my_response.encoding = 'utf8'"
   ]
  },
  {
   "cell_type": "code",
   "execution_count": 5,
   "metadata": {
    "tags": [
     "full_width"
    ]
   },
   "outputs": [
    {
     "name": "stdout",
     "output_type": "stream",
     "text": [
      "Všichni lidé rodí se svobodní a sobě rovní co do důstojnosti a práv.\n",
      "Všetci ľudia sa rodia slobodní a sebe rovní, čo sa týka ich dostojnosti a práv.\n",
      "Wszyscy ludzie rodzą się wolni i równi pod względem swej godności i swych praw.\n",
      "Tutti gli esseri umani nascono liberi ed eguali in dignità e diritti.\n",
      "Todos los seres humanos nacen libres e iguales en dignidad y derechos.\n",
      "Alle Menschen sind frei und gleich an Würde und Rechten geboren.\n",
      "Kaikki ihmiset syntyvät vapaina ja tasavertaisina arvoltaan ja oikeuksiltaan.\n",
      "Все люди рождаются свободными и равными в своем достоинстве и правах.\n",
      "Всички хора се раждат свободни и равни по достойнство и права.\n",
      "All human beings are born free and equal in dignity and rights.\n"
     ]
    }
   ],
   "source": [
    "print(my_response.text)"
   ]
  },
  {
   "cell_type": "markdown",
   "metadata": {},
   "source": [
    "### Additional exercises\n",
    "* count the number of characters in the text, i.e. the `len`gth of the\n",
    "  text\n",
    "* split the text into lines (at each newline character `\\n`)\n",
    "* see e.g. the first and the last line"
   ]
  },
  {
   "cell_type": "code",
   "execution_count": 6,
   "metadata": {},
   "outputs": [
    {
     "data": {
      "text/plain": [
       "709"
      ]
     },
     "execution_count": 6,
     "metadata": {},
     "output_type": "execute_result"
    }
   ],
   "source": [
    "len(my_response.text)"
   ]
  },
  {
   "cell_type": "code",
   "execution_count": 7,
   "metadata": {
    "tags": [
     "full_width"
    ]
   },
   "outputs": [
    {
     "data": {
      "text/plain": [
       "['Všichni lidé rodí se svobodní a sobě rovní co do důstojnosti a práv.',\n",
       " 'Všetci ľudia sa rodia slobodní a sebe rovní, čo sa týka ich dostojnosti a práv.',\n",
       " 'Wszyscy ludzie rodzą się wolni i równi pod względem swej godności i swych praw.',\n",
       " 'Tutti gli esseri umani nascono liberi ed eguali in dignità e diritti.',\n",
       " 'Todos los seres humanos nacen libres e iguales en dignidad y derechos.',\n",
       " 'Alle Menschen sind frei und gleich an Würde und Rechten geboren.',\n",
       " 'Kaikki ihmiset syntyvät vapaina ja tasavertaisina arvoltaan ja oikeuksiltaan.',\n",
       " 'Все люди рождаются свободными и равными в своем достоинстве и правах.',\n",
       " 'Всички хора се раждат свободни и равни по достойнство и права.',\n",
       " 'All human beings are born free and equal in dignity and rights.']"
      ]
     },
     "execution_count": 7,
     "metadata": {},
     "output_type": "execute_result"
    }
   ],
   "source": [
    "lines = my_response.text.split('\\n')\n",
    "lines"
   ]
  },
  {
   "cell_type": "code",
   "execution_count": 8,
   "metadata": {
    "tags": [
     "full_width"
    ]
   },
   "outputs": [
    {
     "name": "stdout",
     "output_type": "stream",
     "text": [
      "Všichni lidé rodí se svobodní a sobě rovní co do důstojnosti a práv.\n",
      "All human beings are born free and equal in dignity and rights.\n"
     ]
    }
   ],
   "source": [
    "print(lines[0])\n",
    "print(lines[-1])"
   ]
  },
  {
   "cell_type": "markdown",
   "metadata": {},
   "source": [
    "# REST APIs\n",
    "\n",
    "* dynamic resources (unlike the static document from previous example,\n",
    "  which is always the same)\n",
    "* tools available on the internet for automated use\n",
    "  * NLP tools (translation, morphological analysis, keyword\n",
    "    extraction...)\n",
    "  * jokes, images, weather information...\n",
    "  * we will look at 5 REST APIs here\n",
    "* the meaning of the shortcuts is not important\n",
    "  * REST stands for REpresentational State Transfer\n",
    "  * API stands for Application Programming Interface\n",
    "* to use a tool, you need to know:\n",
    "  * its URL (`http://something.com/some/more/stuff`)\n",
    "  * its parameters (it may be e.g. `input` for input text)\n",
    "  * the method to use (`GET` or `POST`)\n",
    "      * often both are allowed, or just try\n",
    "  * and sometimes there are some more complications\n",
    "  * for the static document, there was just the URL (there are no\n",
    "    parameters)\n",
    "* ideally, the tool has good documentation explaining how to use it\n",
    "  * but the world is not ideal\n",
    "* The requests module makes an educated guess as of the encoding of the\n",
    "  response. If it guesses wrong, you can set the encoding manually:\n",
    "  * `response.encoding='utf8'`\n",
    "\n",
    "## 1st REST API: Machine translation (Transformer)\n",
    "\n",
    "* Look at [LINDAT\n",
    "  Translation](https://lindat.mff.cuni.cz/services/translation/)\n",
    "* Try it out in your browser\n",
    "* Try to look at the documentation in the Docs tab\n",
    "  * Try to figure out what URL, parameters and method you need to use"
   ]
  },
  {
   "cell_type": "markdown",
   "metadata": {},
   "source": [
    "### URL\n",
    "\n",
    "The URL is composed of:\n",
    "\n",
    "* the server part: `https://lindat.mff.cuni.cz/`\n",
    "* the base URL: `/services/translation/api/v2`\n",
    "* the endpoint: `/models/{model}`\n",
    "  * this says \"Send text to be processed by the selected model\"\n",
    "  * so instead of `{model}` we have to put e.g. `en-cs` for the\n",
    "    English-Czech model\n",
    "* the URL parts are to be joined by slashes:\n",
    "  `SERVER/BASE/ENDPOINT/MODEL`\n",
    "\n",
    "So the full URL is:"
   ]
  },
  {
   "cell_type": "code",
   "execution_count": 9,
   "metadata": {},
   "outputs": [],
   "source": [
    "url = \"https://lindat.mff.cuni.cz/services/translation/api/v2/models/en-cs\""
   ]
  },
  {
   "cell_type": "markdown",
   "metadata": {},
   "source": [
    "### Parameters\n",
    "\n",
    "There are several parameters to set, but we only need one:\n",
    "\n",
    "* `input_text` text to translate\n",
    "* we alread specified the `model` in the URL path\n",
    "* and the model implies the source and target languages (`src`, `tgt`)\n",
    "\n",
    "We can put the parameters (one parameter in this case) into a dict:"
   ]
  },
  {
   "cell_type": "code",
   "execution_count": 10,
   "metadata": {},
   "outputs": [],
   "source": [
    "parameters = {\"input_text\": \"All humans are born equal.\"}"
   ]
  },
  {
   "cell_type": "markdown",
   "metadata": {},
   "source": [
    "### Method\n",
    "\n",
    "* The most typical methods are `GET` and `POST`.\n",
    "* The documentation clearly states that to process text by a translation\n",
    "  model, we need to use the `POST` method.\n",
    "* This means that instead of `requests.get()`, which we used in the\n",
    "  previous example, we will use `requests.post()`\n",
    "\n",
    "### Try it out!\n",
    "\n",
    "We now have the URL and parameters, we know which method to use, so shoot!"
   ]
  },
  {
   "cell_type": "code",
   "execution_count": 11,
   "metadata": {},
   "outputs": [
    {
     "name": "stdout",
     "output_type": "stream",
     "text": [
      "[\"V\\u0161ichni lid\\u00e9 jsou si rovni.\\n\"]\n",
      "\n"
     ]
    }
   ],
   "source": [
    "translation_response = requests.post(url, parameters)\n",
    "print(translation_response.text)"
   ]
  },
  {
   "cell_type": "markdown",
   "metadata": {},
   "source": [
    "The response does not look very nice. That's because it is encoded in\n",
    "JSON. What we see is actually a JSON equivalent of a Python list.\n",
    "\n",
    "So, what we need to do is to use `translation_response.json()` instead\n",
    "of `translation_response.text`, so that instead of taking the text\n",
    "representation of the JSON data, we parse the JSON data and get their\n",
    "Python representation:"
   ]
  },
  {
   "cell_type": "code",
   "execution_count": 12,
   "metadata": {},
   "outputs": [
    {
     "name": "stdout",
     "output_type": "stream",
     "text": [
      "['Všichni lidé jsou si rovni.\\n']\n"
     ]
    }
   ],
   "source": [
    "translation_response_parsed = translation_response.json()\n",
    "print(translation_response_parsed)"
   ]
  },
  {
   "cell_type": "markdown",
   "metadata": {},
   "source": [
    "That's better, right? What we now have is a Python list, which means we\n",
    "can easily print just its first element:"
   ]
  },
  {
   "cell_type": "code",
   "execution_count": 13,
   "metadata": {},
   "outputs": [
    {
     "name": "stdout",
     "output_type": "stream",
     "text": [
      "Všichni lidé jsou si rovni.\n",
      "\n"
     ]
    }
   ],
   "source": [
    "print(translation_response_parsed[0])"
   ]
  },
  {
   "cell_type": "markdown",
   "metadata": {},
   "source": [
    "And that's it, we're done! :-)\n",
    "\n",
    "### Changing the parameters\n",
    "\n",
    "REST APIs are dynamic, so we can get translated any text we want,\n",
    "between any languages supported by the API! So let's change the\n",
    "parameters, so that we e.g.:\n",
    "\n",
    "* Translate the text \"I like trains very much.\"\n",
    "* From English to French"
   ]
  },
  {
   "cell_type": "code",
   "execution_count": 14,
   "metadata": {},
   "outputs": [
    {
     "name": "stdout",
     "output_type": "stream",
     "text": [
      "J'aime beaucoup les trains.\n",
      "\n"
     ]
    }
   ],
   "source": [
    "#import requests\n",
    "url = \"https://lindat.mff.cuni.cz/services/translation/api/v2/models/en-fr\"\n",
    "parameters = {\"input_text\": \"I like trains very much.\"}\n",
    "translation_response = requests.post(url, parameters)\n",
    "print(translation_response.json()[0])"
   ]
  },
  {
   "cell_type": "markdown",
   "metadata": {},
   "source": [
    "### Let's put that into a function!\n",
    "\n",
    "* the first version of the function shall have just one parameter\n",
    "  * the text to translate\n",
    "* it needs to set the URL and parameters, do the request, set the\n",
    "  response encoding, and return the response text"
   ]
  },
  {
   "cell_type": "code",
   "execution_count": 15,
   "metadata": {},
   "outputs": [],
   "source": [
    "def translate(text):\n",
    "    url = \"https://lindat.mff.cuni.cz/services/translation/api/v2/models/en-cs\"\n",
    "    parameters = {\"input_text\": text}\n",
    "    translation_response = requests.post(url, parameters)\n",
    "    translation_response.encoding = 'utf8'\n",
    "    translation_response_parsed = translation_response.json()\n",
    "    return translation_response_parsed[0]"
   ]
  },
  {
   "cell_type": "markdown",
   "metadata": {},
   "source": [
    "Now let's see how this works:"
   ]
  },
  {
   "cell_type": "code",
   "execution_count": 16,
   "metadata": {},
   "outputs": [
    {
     "name": "stdout",
     "output_type": "stream",
     "text": [
      "Měl jsem dobrou snídani.\n",
      "\n"
     ]
    }
   ],
   "source": [
    "text = \"I had a good breakfast.\"\n",
    "output = translate(text)\n",
    "print(output)"
   ]
  },
  {
   "cell_type": "code",
   "execution_count": 17,
   "metadata": {},
   "outputs": [
    {
     "name": "stdout",
     "output_type": "stream",
     "text": [
      "Opravdu miluju vlaky.\n",
      "\n"
     ]
    }
   ],
   "source": [
    "print(translate(\"I really love trains.\"))"
   ]
  },
  {
   "cell_type": "code",
   "execution_count": 18,
   "metadata": {},
   "outputs": [
    {
     "name": "stdout",
     "output_type": "stream",
     "text": [
      "Moje vznášedlo je plné úhořů!\n",
      "\n"
     ]
    }
   ],
   "source": [
    "print(translate(\"My hovercraft is full of eels!\"))"
   ]
  },
  {
   "cell_type": "markdown",
   "metadata": {},
   "source": [
    "### Improving the function\n",
    "\n",
    "Now let's improve the function by also making the source and target\n",
    "languages aparmetrizable!\n",
    "\n",
    "The improved function should have the following three parameters:\n",
    "\n",
    "* the text to translate\n",
    "* the source language code (e.g. \"en\")\n",
    "* the target language code (e.g. \"fr\")\n",
    "\n",
    "There should also be some default values for the parameters, so that the\n",
    "function can also be called with only the text specified."
   ]
  },
  {
   "cell_type": "code",
   "execution_count": 19,
   "metadata": {},
   "outputs": [],
   "source": [
    "def translate(text, target_language=\"cs\", source_language=\"en\"):\n",
    "    url = f\"https://lindat.mff.cuni.cz/services/translation/api/v2/models/{source_language}-{target_language}\"\n",
    "    parameters = {\"input_text\": text}\n",
    "    translation_response = requests.post(url, parameters)\n",
    "    translation_response_parsed = translation_response.json()\n",
    "    return translation_response_parsed[0]"
   ]
  },
  {
   "cell_type": "markdown",
   "metadata": {},
   "source": [
    "And now let's see various ways in which this can be used:"
   ]
  },
  {
   "cell_type": "code",
   "execution_count": 20,
   "metadata": {},
   "outputs": [
    {
     "name": "stdout",
     "output_type": "stream",
     "text": [
      "Měl jsem dobrou snídani.\n",
      "\n"
     ]
    }
   ],
   "source": [
    "print(translate(\"I had a good breakfast.\"))"
   ]
  },
  {
   "cell_type": "code",
   "execution_count": 21,
   "metadata": {},
   "outputs": [
    {
     "name": "stdout",
     "output_type": "stream",
     "text": [
      "J'ai pris un bon petit déjeuner.\n",
      "\n"
     ]
    }
   ],
   "source": [
    "print(translate(\"I had a good breakfast.\", \"fr\"))"
   ]
  },
  {
   "cell_type": "code",
   "execution_count": 22,
   "metadata": {},
   "outputs": [
    {
     "name": "stdout",
     "output_type": "stream",
     "text": [
      "I'm taking the train to Prague.\n",
      "\n"
     ]
    }
   ],
   "source": [
    "print(translate(\"Jedu vlakem do Prahy.\", \"en\", \"cs\"))"
   ]
  },
  {
   "cell_type": "code",
   "execution_count": 23,
   "metadata": {},
   "outputs": [
    {
     "name": "stdout",
     "output_type": "stream",
     "text": [
      "I'm taking the train to Prague.\n",
      "\n"
     ]
    }
   ],
   "source": [
    "print(translate(source_language=\"cs\", target_language=\"en\", text=\"Jedu vlakem do Prahy.\"))"
   ]
  },
  {
   "cell_type": "code",
   "execution_count": 24,
   "metadata": {},
   "outputs": [
    {
     "name": "stdout",
     "output_type": "stream",
     "text": [
      "All human beings are born free and equal in dignity and rights.\n"
     ]
    }
   ],
   "source": [
    "print(lines[-1])"
   ]
  },
  {
   "cell_type": "code",
   "execution_count": 25,
   "metadata": {},
   "outputs": [
    {
     "name": "stdout",
     "output_type": "stream",
     "text": [
      "Všichni lidé se rodí svobodní a rovní v důstojnosti a právech.\n",
      "\n"
     ]
    }
   ],
   "source": [
    "print(translate(lines[-1]))"
   ]
  },
  {
   "cell_type": "markdown",
   "metadata": {},
   "source": [
    "### Additional exercises\n",
    "\n",
    "* Try to make it work correctly with input text consisting of multiple\n",
    "  sentences.\n",
    "* Try to translate the input text into all available target languages at\n",
    "  once.\n",
    "* Explore other information that the response object contains."
   ]
  },
  {
   "cell_type": "markdown",
   "metadata": {},
   "source": [
    "## 2nd REST API: Jokes\n",
    "\n",
    "* [The Internet Chuck Norris Database](http://www.icndb.com/) provides a\n",
    "  REST API\n",
    "  * This is a database of Chuck Norris jokes\n",
    "  * The API returns random Chuck Norris jokes\n",
    "  * See http://www.icndb.com/api/\n",
    "  * Try to figure out the URL, method, and parameters\n",
    "\n",
    "### How to use it\n",
    "\n",
    "* The full URL is `http://api.icndb.com/jokes/random`\n",
    "* There are some optional parametrs, so let's ignore them now\n",
    "* The method to use is GET\n",
    "* So the call will actually be very similar to the first example with\n",
    "  getting the static webpage from the internet:"
   ]
  },
  {
   "cell_type": "code",
   "execution_count": 26,
   "metadata": {
    "tags": [
     "output_scroll"
    ]
   },
   "outputs": [
    {
     "name": "stdout",
     "output_type": "stream",
     "text": [
      "{ \"type\": \"success\", \"value\": { \"id\": 538, \"joke\": \"Chuck Norris's log statements are always at the FATAL level.\", \"categories\": [\"nerdy\"] } }\n"
     ]
    }
   ],
   "source": [
    "url = \"http://api.icndb.com/jokes/random\"\n",
    "joke = requests.get(url)\n",
    "print(joke.text)"
   ]
  },
  {
   "cell_type": "markdown",
   "metadata": {},
   "source": [
    "The output is again in JSON, but this time, it is a bit more complex.\n",
    "The API documentation does explain the format, so try to extract just\n",
    "the joke text from the response."
   ]
  },
  {
   "cell_type": "code",
   "execution_count": 27,
   "metadata": {
    "tags": [
     "output_scroll"
    ]
   },
   "outputs": [
    {
     "name": "stdout",
     "output_type": "stream",
     "text": [
      "Chuck Norris's log statements are always at the FATAL level.\n"
     ]
    }
   ],
   "source": [
    "joke_parsed = joke.json()\n",
    "joke_text = joke_parsed['value']['joke']\n",
    "print(joke_text)"
   ]
  },
  {
   "cell_type": "markdown",
   "metadata": {},
   "source": [
    "### Turning it into a function\n",
    "\n",
    "* Let's again create a function that calls the REST API.\n",
    "* It will have no parameters.\n",
    "* But as the REST API always returns a random joke, repeated calls of\n",
    "  the function will return different results.\n",
    "  * So it is even more dynamic than the translation service, which for a\n",
    "    fixed input always returns the same result."
   ]
  },
  {
   "cell_type": "code",
   "execution_count": 28,
   "metadata": {},
   "outputs": [],
   "source": [
    "def joke():\n",
    "    url = \"http://api.icndb.com/jokes/random\"\n",
    "    joke_response = requests.get(url)\n",
    "    joke_parsed = joke_response.json()\n",
    "    joke_text = joke_parsed['value']['joke']\n",
    "    return joke_text"
   ]
  },
  {
   "cell_type": "markdown",
   "metadata": {},
   "source": [
    "Invoke the function repeatedly and observe how it produces different\n",
    "outputs."
   ]
  },
  {
   "cell_type": "code",
   "execution_count": 29,
   "metadata": {
    "tags": [
     "output_scroll"
    ]
   },
   "outputs": [
    {
     "name": "stdout",
     "output_type": "stream",
     "text": [
      "When Chuck Norris was a baby, he didn't suck his mother's breast. His mother served him whiskey, straight out of the bottle.\n"
     ]
    }
   ],
   "source": [
    "print(joke())"
   ]
  },
  {
   "cell_type": "code",
   "execution_count": 30,
   "metadata": {
    "tags": [
     "output_scroll"
    ]
   },
   "outputs": [
    {
     "name": "stdout",
     "output_type": "stream",
     "text": [
      "Chuck Norris can make a class that is both abstract and final.\n"
     ]
    }
   ],
   "source": [
    "print(joke())"
   ]
  },
  {
   "cell_type": "code",
   "execution_count": 31,
   "metadata": {
    "tags": [
     "output_scroll"
    ]
   },
   "outputs": [
    {
     "name": "stdout",
     "output_type": "stream",
     "text": [
      "Jesus can walk on water, but Chuck Norris can swim through land.\n"
     ]
    }
   ],
   "source": [
    "print(joke())"
   ]
  },
  {
   "cell_type": "markdown",
   "metadata": {},
   "source": [
    "### Adding parameters\n",
    "\n",
    "* So far, we have ignored the option to specify some parameters for the\n",
    "  REST API call.\n",
    "* Actually, the only thing you can do is change the name of the main\n",
    "  character in the jokes.\n",
    "* So let's do it!"
   ]
  },
  {
   "cell_type": "code",
   "execution_count": 32,
   "metadata": {
    "tags": [
     "output_scroll"
    ]
   },
   "outputs": [
    {
     "name": "stdout",
     "output_type": "stream",
     "text": [
      "David Lukes puts sunglasses on to protect the sun from his eyes.\n"
     ]
    }
   ],
   "source": [
    "params = {\"firstName\": \"David\", \"lastName\": \"Lukes\"}\n",
    "joke_response = requests.get(url, params)\n",
    "print(joke_response.json()['value']['joke'])"
   ]
  },
  {
   "cell_type": "markdown",
   "metadata": {},
   "source": [
    "Now, let's update our function to also allow specifying these\n",
    "parameters."
   ]
  },
  {
   "cell_type": "code",
   "execution_count": 33,
   "metadata": {},
   "outputs": [],
   "source": [
    "def joke(firstName = 'Chuck', lastName = 'Norris'):\n",
    "    url = \"http://api.icndb.com/jokes/random\"\n",
    "    params = {\"firstName\": firstName, \"lastName\": lastName}\n",
    "    joke_response = requests.get(url, params)\n",
    "    joke_parsed = joke_response.json()\n",
    "    joke_text = joke_parsed['value']['joke']\n",
    "    return joke_text"
   ]
  },
  {
   "cell_type": "markdown",
   "metadata": {},
   "source": [
    "And let's run it with various parameters."
   ]
  },
  {
   "cell_type": "code",
   "execution_count": 34,
   "metadata": {
    "tags": [
     "output_scroll"
    ]
   },
   "outputs": [
    {
     "name": "stdout",
     "output_type": "stream",
     "text": [
      "Think of a hot woman. Chuck Norris did her.\n"
     ]
    }
   ],
   "source": [
    "print(joke())"
   ]
  },
  {
   "cell_type": "code",
   "execution_count": 35,
   "metadata": {
    "tags": [
     "output_scroll"
    ]
   },
   "outputs": [
    {
     "name": "stdout",
     "output_type": "stream",
     "text": [
      "Saddam Hussein was not found hiding in a &quot;hole.&quot; Saddam was roundhouse-kicked in the head by Rudolf Rosa in Kansas, which sent him through the earth, stopping just short of the surface of Iraq.\n"
     ]
    }
   ],
   "source": [
    "print(joke('Rudolf', 'Rosa'))"
   ]
  },
  {
   "cell_type": "code",
   "execution_count": 36,
   "metadata": {
    "tags": [
     "output_scroll"
    ]
   },
   "outputs": [
    {
     "name": "stdout",
     "output_type": "stream",
     "text": [
      "yo mama does not need a watch, he decides what time it is.\n"
     ]
    }
   ],
   "source": [
    "print(joke('yo', 'mama'))"
   ]
  },
  {
   "cell_type": "markdown",
   "metadata": {},
   "source": [
    "### Additional exercises\n",
    "\n",
    "* Try to connect the joke API with the translation API\n",
    "  * Get a random joke\n",
    "  * Translate it to another language\n",
    "  * Print the translated joke\n",
    "\n",
    "## 3rd REST API: Cat images\n",
    "\n",
    "* Let's see some cats!\n",
    "* Try to search in Google for a cat image REST API\n",
    "* You may find one e.g. at https://cataas.com/\n",
    "* The simplest way to use it is to just ask it for a random cat by\n",
    "  getting `https://cataas.com/cat`"
   ]
  },
  {
   "cell_type": "code",
   "execution_count": 37,
   "metadata": {
    "tags": [
     "output_scroll"
    ]
   },
   "outputs": [
    {
     "name": "stdout",
     "output_type": "stream",
     "text": [
      "����\u0000\u0010JFIF\u0000\u0001\u0001\u0001\u0000H\u0000H\u0000\u0000��\u0000C\u0000\b\u0006\u0006\u0007\u0006\u0005\b\u0007\u0007\u0007\t\t\b\n",
      "\f",
      "\u0014\r",
      "\f",
      "\u000b",
      "\u000b",
      "\f",
      "\u0019\u0012\u0013\u000f\u0014\u001d",
      "\u001a\u001f\u001e",
      "\u001d",
      "\u001a\u001c",
      "\u001c",
      " $.' \",#\u001c",
      "\u001c",
      "(7),01444\u001f'9=82<.342��\u0000C\u0001\t\t\t\f",
      "\u000b",
      "\f",
      "\u0018\r",
      "\r",
      "\u00182!\u001c",
      "!22222222222222222222222222222222222222222222222222��\u0000\u0011\b\u0002Z\u0002X\u0003\u0001\"\u0000\u0002\u0011\u0001\u0003\u0011\u0001��\u0000\u001c",
      "\u0000\u0000\u0002\u0003\u0001\u0001\u0001\u0001\u0000\u0000\u0000\u0000\u0000\u0000\u0000\u0000\u0000\u0000\u0001\u0002\u0003\u0005\u0004\u0006\u0007\b��\u0000S\u0010\u0000\u0001\u0003\u0002\u0004\u0004\u0002\u0005\u0006\u000b",
      "\u0004\u0007\u0007\u0003\u0005\u0000\u0001\u0000\u0002\u0003\u0004\u0011\u0005\u0012!1\u0006\u0013AQaq\u0014\"2��\u0007BR���\u0015\u0016#3Sbr����$%4s\u00175CTc��&6DE���Ud�eu�����\u0000\u001a\u0001\u0001\u0001\u0001\n"
     ]
    }
   ],
   "source": [
    "url = \"https://cataas.com/cat\"\n",
    "r = requests.get(url)\n",
    "print(r.text[:300])"
   ]
  },
  {
   "cell_type": "markdown",
   "metadata": {},
   "source": [
    "The output is not very nice. Well, it is an image, so that's binary\n",
    "data, not a text which can be meaningfully printed.\n",
    "\n",
    "In Python, we can disply the data using the `Image()` function from the\n",
    "`IPython.core.display` package.  And as the response is not textual, we\n",
    "again need to use a different view on it, this time taking its content\n",
    "directly from `response.content`."
   ]
  },
  {
   "cell_type": "code",
   "execution_count": 38,
   "metadata": {},
   "outputs": [
    {
     "data": {
      "image/jpeg": "[encoded data removed]",
      "text/plain": [
       "<IPython.core.display.Image object>"
      ]
     },
     "execution_count": 38,
     "metadata": {},
     "output_type": "execute_result"
    }
   ],
   "source": [
    "from IPython.core.display import Image\n",
    "url = \"https://cataas.com/cat\"\n",
    "r = requests.get(url)\n",
    "Image(r.content)"
   ]
  },
  {
   "cell_type": "markdown",
   "metadata": {},
   "source": [
    "### Additional exercises\n",
    "\n",
    "* Try to run the code above repeatedly to get a different cat each time.\n",
    "* Try to put it into a function.\n",
    "* Check out the options and parameters in the documentation to try\n",
    "  getting more specific cats than just plain random.\n",
    "\n",
    "## 4th REST API: Named entities (NameTag)\n",
    "\n",
    "* Look at the [LINDAT\n",
    "  NameTag](http://lindat.mff.cuni.cz/services/nametag/) tool for named\n",
    "  entity detection and recognition\n",
    "* Try out the tool using the web interface\n",
    "  * Select the English model\n",
    "  * Put in e.g. some newspaper text\n",
    "  * Explore the results\n",
    "* Look at the REST API Documentation of the tool\n",
    "  * Try to find out how to use it (URL, method, parameters)\n",
    "  * Try to call the tool on a sample sentence, e.g.:"
   ]
  },
  {
   "cell_type": "code",
   "execution_count": 39,
   "metadata": {},
   "outputs": [],
   "source": [
    "sentence = \"David Lukes teaches Python in Prague.\""
   ]
  },
  {
   "cell_type": "markdown",
   "metadata": {},
   "source": [
    "* This time, we can use either GET or POST as we wish. In such cases,\n",
    "  using POST is usually better, since GET is more limited (especially in\n",
    "  the maximum input size).\n",
    "* There is some clever model selection and guessing, which seems to be\n",
    "  broken, so you need to use the full model name.\n",
    "* The default output is XML, which is fine if you know how to work with\n",
    "  XML. As we do not cover that in our course, we will use the vertical\n",
    "  output instead."
   ]
  },
  {
   "cell_type": "code",
   "execution_count": 40,
   "metadata": {
    "tags": [
     "output_scroll"
    ]
   },
   "outputs": [
    {
     "name": "stdout",
     "output_type": "stream",
     "text": [
      "{\n",
      " \"model\": \"english-conll-140408\"\n",
      ",\"acknowledgements\": [\n",
      "  \"http://ufal.mff.cuni.cz/nametag#nametag_acknowledgements\"\n",
      " ,\"http://ufal.mff.cuni.cz/morphodita#morphodita_acknowledgements\"\n",
      " ]\n",
      ",\"result\": \"1,2\\tPER\\tDavid Lukes\\n4\\tPER\\tPython\\n6\\tLOC\\tPrague\\n\"\n",
      "}\n",
      "\n"
     ]
    }
   ],
   "source": [
    "url = \"http://lindat.mff.cuni.cz/services/nametag/api/recognize\"\n",
    "\n",
    "parameters = {\n",
    "    \"data\": sentence,\n",
    "    \"model\": \"english-conll-140408\",\n",
    "    \"output\": \"vertical\"\n",
    "}\n",
    "\n",
    "res = requests.get(url, parameters)\n",
    "\n",
    "print(res.text)"
   ]
  },
  {
   "cell_type": "markdown",
   "metadata": {},
   "source": [
    "We can see that the output is again JSON, with the `result` field\n",
    "containing the result, so let's print only that one."
   ]
  },
  {
   "cell_type": "code",
   "execution_count": 41,
   "metadata": {},
   "outputs": [
    {
     "name": "stdout",
     "output_type": "stream",
     "text": [
      "1,2\tPER\tDavid Lukes\n",
      "4\tPER\tPython\n",
      "6\tLOC\tPrague\n",
      "\n"
     ]
    }
   ],
   "source": [
    "result = res.json()['result']\n",
    "print(result)"
   ]
  },
  {
   "cell_type": "markdown",
   "metadata": {},
   "source": [
    "The result lists the named entities found in the text, together with\n",
    "their start and end positions and their types.  We can see that the\n",
    "result actually uses another format, tab-spearated values. This is fine\n",
    "for printing, but for further processing, we would need to split it.\n",
    "So, let's split the result into individual lines, split these lines into\n",
    "the fields, and let's print only the entity types."
   ]
  },
  {
   "cell_type": "code",
   "execution_count": 42,
   "metadata": {},
   "outputs": [
    {
     "name": "stdout",
     "output_type": "stream",
     "text": [
      "PER\n",
      "PER\n",
      "LOC\n"
     ]
    }
   ],
   "source": [
    "for line in result.split('\\n'):\n",
    "    fields = line.rstrip().split('\\t')\n",
    "    if len(fields) == 3:\n",
    "        print(fields[1])"
   ]
  },
  {
   "cell_type": "markdown",
   "metadata": {},
   "source": [
    "### Additional exercises\n",
    "\n",
    "* Try to wrap it into a function\n",
    "* Try to parametrize it for the language (but only English and Czech are\n",
    "  supported)\n",
    "* Try to visualize the outputs somehow, e.g. by prefixing each named\n",
    "  entity with its type:\n",
    "  * `PER David Lukes teaches PER Python in LOC Prague.`\n",
    "\n",
    "## 5th REST API: Morphological analysis (UDPipe)\n",
    "\n",
    "* The last tool we will look at is\n",
    "  [UDPipe](https://lindat.mff.cuni.cz/services/udpipe/)\n",
    "* It performs tokenization, lemmatization, morphological tagging, and\n",
    "  syntactic dependency parsing.\n",
    "* It follows the Universal Dependencies standards\n",
    "* It supports something like 50 languages!\n",
    "* As usual:\n",
    "  * Check out the tool online\n",
    "  * Try playing with it using the web-based demo, probably copy-pasting\n",
    "    some texts from news websites\n",
    "  * Try to figure out how to use its REST API and then try to use it\n",
    "  * The syntactic parsing output is hard to use, so let's just stick to\n",
    "    tokenization and tagging"
   ]
  },
  {
   "cell_type": "code",
   "execution_count": 43,
   "metadata": {
    "tags": [
     "output_scroll"
    ]
   },
   "outputs": [
    {
     "name": "stdout",
     "output_type": "stream",
     "text": [
      "{\n",
      " \"model\": \"english-ewt-ud-2.5-191206\",\n",
      " \"acknowledgements\": [\n",
      "  \"http://ufal.mff.cuni.cz/udpipe#udpipe_acknowledgements\",\n",
      "  \"http://ufal.mff.cuni.cz/udpipe/models#universal_dependencies_25_models_acknowledgements\"\n",
      " ],\n",
      " \"result\": \"# newdoc\\n# newpar\\n# sent_id = 1\\n# text = All human beings are born free and equal in dignity and rights.\\n1\\tAll\\tall\\tDET\\tDT\\t_\\t_\\t_\\t_\\t_\\n2\\thuman\\thuman\\tADJ\\tJJ\\tDegree=Pos\\t_\\t_\\t_\\t_\\n3\\tbeings\\tbeing\\tNOUN\\tNNS\\tNumber=Plur\\t_\\t_\\t_\\t_\\n4\\tare\\tbe\\tAUX\\tVBP\\tMood=Ind|Tense=Pres|VerbForm=Fin\\t_\\t_\\t_\\t_\\n5\\tborn\\tbear\\tVERB\\tVBN\\tTense=Past|VerbForm=Part|Voice=Pass\\t_\\t_\\t_\\t_\\n6\\tfree\\tfree\\tADJ\\tJJ\\tDegree=Pos\\t_\\t_\\t_\\t_\\n7\\tand\\tand\\tCCONJ\\tCC\\t_\\t_\\t_\\t_\\t_\\n8\\tequal\\tequal\\tADJ\\tJJ\\tDegree=Pos\\t_\\t_\\t_\\t_\\n9\\tin\\tin\\tADP\\tIN\\t_\\t_\\t_\\t_\\t_\\n10\\tdignity\\tdignity\\tNOUN\\tNN\\tNumber=Sing\\t_\\t_\\t_\\t_\\n11\\tand\\tand\\tCCONJ\\tCC\\t_\\t_\\t_\\t_\\t_\\n12\\trights\\trights\\tNOUN\\tNNS\\tNumber=Plur\\t_\\t_\\t_\\tSpaceAfter=No\\n13\\t.\\t.\\tPUNCT\\t.\\t_\\t_\\t_\\t_\\t_\\n\\n# sent_id = 2\\n# text = I like trains.\\n1\\tI\\tI\\tPRON\\tPRP\\tCase=Nom|Number=Sing|Person=1|PronType=Prs\\t_\\t_\\t_\\t_\\n2\\tlike\\tlike\\tVERB\\tVBP\\tMood=Ind|Tense=Pres|VerbForm=Fin\\t_\\t_\\t_\\t_\\n3\\ttrains\\ttrain\\tNOUN\\tNNS\\tNumber=Plur\\t_\\t_\\t_\\tSpaceAfter=No\\n4\\t.\\t.\\tPUNCT\\t.\\t_\\t_\\t_\\t_\\tSpaceAfter=No\\n\\n\"\n",
      "}\n",
      "\n"
     ]
    }
   ],
   "source": [
    "url = \"http://lindat.mff.cuni.cz/services/udpipe/api/process\"\n",
    "\n",
    "parameters = {\n",
    "    \"data\": \"All human beings are born free and equal in dignity and rights. I like trains.\",\n",
    "    \"model\": \"english\",\n",
    "    \"tokenizer\": 1,\n",
    "    \"tagger\": 1,\n",
    "}\n",
    "\n",
    "response = requests.post(url, parameters)\n",
    "print(response.text)"
   ]
  },
  {
   "cell_type": "markdown",
   "metadata": {},
   "source": [
    "### CoNLL-U\n",
    "\n",
    "Similarly to NameTag, we can see that the result is in the `result`\n",
    "field of the returned JSON, again using a tab-separated text format; in\n",
    "this case, this is actually the standard [CoNLL-U\n",
    "format](http://universaldependencies.org/docs/format.html), which is\n",
    "defined and used with Universal Dependencies.\n",
    "\n",
    "Let's parse the JSON and print the result first."
   ]
  },
  {
   "cell_type": "code",
   "execution_count": 44,
   "metadata": {
    "tags": [
     "output_scroll"
    ]
   },
   "outputs": [
    {
     "name": "stdout",
     "output_type": "stream",
     "text": [
      "# newdoc\n",
      "# newpar\n",
      "# sent_id = 1\n",
      "# text = All human beings are born free and equal in dignity and rights.\n",
      "1\tAll\tall\tDET\tDT\t_\t_\t_\t_\t_\n",
      "2\thuman\thuman\tADJ\tJJ\tDegree=Pos\t_\t_\t_\t_\n",
      "3\tbeings\tbeing\tNOUN\tNNS\tNumber=Plur\t_\t_\t_\t_\n",
      "4\tare\tbe\tAUX\tVBP\tMood=Ind|Tense=Pres|VerbForm=Fin\t_\t_\t_\t_\n",
      "5\tborn\tbear\tVERB\tVBN\tTense=Past|VerbForm=Part|Voice=Pass\t_\t_\t_\t_\n",
      "6\tfree\tfree\tADJ\tJJ\tDegree=Pos\t_\t_\t_\t_\n",
      "7\tand\tand\tCCONJ\tCC\t_\t_\t_\t_\t_\n",
      "8\tequal\tequal\tADJ\tJJ\tDegree=Pos\t_\t_\t_\t_\n",
      "9\tin\tin\tADP\tIN\t_\t_\t_\t_\t_\n",
      "10\tdignity\tdignity\tNOUN\tNN\tNumber=Sing\t_\t_\t_\t_\n",
      "11\tand\tand\tCCONJ\tCC\t_\t_\t_\t_\t_\n",
      "12\trights\trights\tNOUN\tNNS\tNumber=Plur\t_\t_\t_\tSpaceAfter=No\n",
      "13\t.\t.\tPUNCT\t.\t_\t_\t_\t_\t_\n",
      "\n",
      "# sent_id = 2\n",
      "# text = I like trains.\n",
      "1\tI\tI\tPRON\tPRP\tCase=Nom|Number=Sing|Person=1|PronType=Prs\t_\t_\t_\t_\n",
      "2\tlike\tlike\tVERB\tVBP\tMood=Ind|Tense=Pres|VerbForm=Fin\t_\t_\t_\t_\n",
      "3\ttrains\ttrain\tNOUN\tNNS\tNumber=Plur\t_\t_\t_\tSpaceAfter=No\n",
      "4\t.\t.\tPUNCT\t.\t_\t_\t_\t_\tSpaceAfter=No\n",
      "\n",
      "\n"
     ]
    }
   ],
   "source": [
    "print(response.json()['result'])"
   ]
  },
  {
   "cell_type": "markdown",
   "metadata": {},
   "source": [
    "This is good for viewing the result, but it needs some further\n",
    "processing to be usable in Python.  We could parse the result manually\n",
    "using some splitting and such, as we did with NameTag, but now the\n",
    "format is more complex and has some special properties and special\n",
    "rules, so it is not as trivial to process as the NameTag output format\n",
    "(but it is still simple enough for reasonably easy processing).\n",
    "\n",
    "### conllu module\n",
    "\n",
    "Since we are now dealing with a standard format, we can also simply use\n",
    "an existing Python package designed for working with CoNLL-U files,\n",
    "which is called `conllu`."
   ]
  },
  {
   "cell_type": "code",
   "execution_count": 45,
   "metadata": {},
   "outputs": [],
   "source": [
    "import conllu"
   ]
  },
  {
   "cell_type": "code",
   "execution_count": 46,
   "metadata": {
    "tags": [
     "output_scroll"
    ]
   },
   "outputs": [
    {
     "data": {
      "text/plain": [
       "[TokenList<All, human, beings, are, born, free, and, equal, in, dignity, and, rights, .>,\n",
       " TokenList<I, like, trains, .>]"
      ]
     },
     "execution_count": 46,
     "metadata": {},
     "output_type": "execute_result"
    }
   ],
   "source": [
    "the_output = response.json()['result']\n",
    "sentences = conllu.parse(the_output)\n",
    "sentences"
   ]
  },
  {
   "cell_type": "markdown",
   "metadata": {},
   "source": [
    "This way, we get the CoNLL-U data represented as Python objects, which\n",
    "is much easier to work with than the original format.  We can see that\n",
    "the data are represented as a list of sentences, where each sentence is\n",
    "a `TokenList`.  Let's see just the first sentence."
   ]
  },
  {
   "cell_type": "code",
   "execution_count": 47,
   "metadata": {
    "tags": [
     "output_scroll"
    ]
   },
   "outputs": [
    {
     "data": {
      "text/plain": [
       "TokenList<All, human, beings, are, born, free, and, equal, in, dignity, and, rights, .>"
      ]
     },
     "execution_count": 47,
     "metadata": {},
     "output_type": "execute_result"
    }
   ],
   "source": [
    "sentences[0]"
   ]
  },
  {
   "cell_type": "markdown",
   "metadata": {},
   "source": [
    "And let's see just the fifth word from the first sentence."
   ]
  },
  {
   "cell_type": "code",
   "execution_count": 48,
   "metadata": {},
   "outputs": [
    {
     "data": {
      "text/plain": [
       "OrderedDict([('id', 6),\n",
       "             ('form', 'free'),\n",
       "             ('lemma', 'free'),\n",
       "             ('upostag', 'ADJ'),\n",
       "             ('xpostag', 'JJ'),\n",
       "             ('feats', OrderedDict([('Degree', 'Pos')])),\n",
       "             ('head', None),\n",
       "             ('deprel', '_'),\n",
       "             ('deps', None),\n",
       "             ('misc', None)])"
      ]
     },
     "execution_count": 48,
     "metadata": {},
     "output_type": "execute_result"
    }
   ],
   "source": [
    "sentences[0][5]"
   ]
  },
  {
   "cell_type": "markdown",
   "metadata": {},
   "source": [
    "This shows us that the tokens themselves are represented as an\n",
    "`OrderedDict`; which is just like a regular `dict` with a guaranteed\n",
    "order of its elements. Therefore, it is simple to only get e.g. the\n",
    "word form and the Universal Part-of-speech tag for the word."
   ]
  },
  {
   "cell_type": "code",
   "execution_count": 49,
   "metadata": {},
   "outputs": [
    {
     "name": "stdout",
     "output_type": "stream",
     "text": [
      "free\n",
      "ADJ\n"
     ]
    }
   ],
   "source": [
    "print(sentences[0][5]['form'])\n",
    "print(sentences[0][5]['upostag'])"
   ]
  },
  {
   "cell_type": "code",
   "execution_count": 50,
   "metadata": {},
   "outputs": [],
   "source": [
    "url = \"http://lindat.mff.cuni.cz/services/udpipe/api/process\"\n",
    "parameters = {\n",
    "    \"data\": \"All human beings are born free and equal in dignity and rights.\",\n",
    "    \"model\": \"english\",\n",
    "    \"tokenizer\": 1,\n",
    "    \"tagger\": 1,\n",
    "}\n",
    "response = requests.post(url, parameters)\n",
    "the_output = conllu.parse(response.json()['result'])"
   ]
  },
  {
   "cell_type": "markdown",
   "metadata": {},
   "source": [
    "### Playing with the output\n",
    "\n",
    "What we now have is a fine and linguistically richly annotated output,\n",
    "so there is a lot of things we can do with it. Let's try a few!\n",
    "\n",
    "Let's e.g. try, for each token, to print its word form and its POS tag."
   ]
  },
  {
   "cell_type": "code",
   "execution_count": 51,
   "metadata": {
    "tags": [
     "output_scroll"
    ]
   },
   "outputs": [
    {
     "name": "stdout",
     "output_type": "stream",
     "text": [
      "Writing out a sentence TokenList<All, human, beings, are, born, free, and, equal, in, dignity, and, rights, .>\n",
      "The UPOStag for All is DET\n",
      "The UPOStag for human is ADJ\n",
      "The UPOStag for beings is NOUN\n",
      "The UPOStag for are is AUX\n",
      "The UPOStag for born is VERB\n",
      "The UPOStag for free is ADJ\n",
      "The UPOStag for and is CCONJ\n",
      "The UPOStag for equal is ADJ\n",
      "The UPOStag for in is ADP\n",
      "The UPOStag for dignity is NOUN\n",
      "The UPOStag for and is CCONJ\n",
      "The UPOStag for rights is NOUN\n",
      "The UPOStag for . is PUNCT\n",
      "Writing out a sentence TokenList<I, like, trains, .>\n",
      "The UPOStag for I is PRON\n",
      "The UPOStag for like is VERB\n",
      "The UPOStag for trains is NOUN\n",
      "The UPOStag for . is PUNCT\n"
     ]
    }
   ],
   "source": [
    "for sentence in sentences:\n",
    "    print('Writing out a sentence', sentence)\n",
    "    for token in sentence:\n",
    "        print(\"The UPOStag for\", token['form'], \"is\", token['upostag'])"
   ]
  },
  {
   "cell_type": "markdown",
   "metadata": {},
   "source": [
    "Or, let's only print the nouns."
   ]
  },
  {
   "cell_type": "code",
   "execution_count": 52,
   "metadata": {},
   "outputs": [
    {
     "name": "stdout",
     "output_type": "stream",
     "text": [
      "beings\n",
      "dignity\n",
      "rights\n",
      "trains\n"
     ]
    }
   ],
   "source": [
    "for sentence in sentences:\n",
    "    for token in sentence:\n",
    "        if token['upostag'] == 'NOUN':\n",
    "            print(token['form'])"
   ]
  },
  {
   "cell_type": "markdown",
   "metadata": {},
   "source": [
    "### A function\n",
    "\n",
    "Let's wrap the whole thing, including printing the nouns, into one\n",
    "function."
   ]
  },
  {
   "cell_type": "code",
   "execution_count": 53,
   "metadata": {},
   "outputs": [],
   "source": [
    "def nouns(text, language='english'):\n",
    "    url = 'http://lindat.mff.cuni.cz/services/udpipe/api/process'\n",
    "    parameters = {\n",
    "        \"data\": text,\n",
    "        \"model\": language,\n",
    "        \"tokenizer\": 1,\n",
    "        \"tagger\": 1,\n",
    "    }\n",
    "    response = requests.get(url, parameters)\n",
    "    json_dict = response.json()\n",
    "    text_result = json_dict['result']\n",
    "    conllu_result = conllu.parse(text_result)\n",
    "\n",
    "    for sentence in conllu_result:\n",
    "        for token in sentence:\n",
    "            if token['upostag'] == 'NOUN':\n",
    "                print(token['form'])"
   ]
  },
  {
   "cell_type": "markdown",
   "metadata": {},
   "source": [
    "And let's invoke the function."
   ]
  },
  {
   "cell_type": "code",
   "execution_count": 54,
   "metadata": {},
   "outputs": [
    {
     "name": "stdout",
     "output_type": "stream",
     "text": [
      "hovercraft\n",
      "eels\n"
     ]
    }
   ],
   "source": [
    "nouns(\"My hovercraft is full of eels.\")"
   ]
  },
  {
   "cell_type": "code",
   "execution_count": 55,
   "metadata": {},
   "outputs": [
    {
     "name": "stdout",
     "output_type": "stream",
     "text": [
      "vznášedlo\n",
      "úhořů\n"
     ]
    }
   ],
   "source": [
    "nouns(\"Moje vznášedlo je plné úhořů.\", 'czech')"
   ]
  },
  {
   "cell_type": "markdown",
   "metadata": {},
   "source": [
    "### Additional exercises\n",
    "\n",
    "* Try to join multiple REST APIs together, e.g.\n",
    "  * Get a joke in English\n",
    "  * Translate it to French\n",
    "  * Print out the morphological analysis of the joke in French; or e.g.\n",
    "    only print the French nouns from the joke\n",
    "  * Ideally, these should be three separate functions for each of the\n",
    "    REST APIs, plus one wrapper function that calls the other functions\n",
    "    and passes the results from one as the input to the other.\n",
    "  * Observe how you have just managed to do three non-trivial tasks with\n",
    "    just a few lines of code, thanks to the fact that the authors of the\n",
    "    tools made them available through a REST API, and thanks to the fact\n",
    "    that working with REST APIs is quite simple in Python.\n",
    "* Look for other REST APIs and try to use some of them\n",
    "  * [A list of free REST\n",
    "    APIs](https://github.com/toddmotto/public-apis/blob/master/README.md),\n",
    "    such as [Cat facts](https://alexwohlbruck.github.io/cat-facts/docs/)\n",
    "  * Many NLP tools and services are also available through REST APIs\n",
    "  * Sometimes you have to register, sometimes you have to pay...\n",
    "  * Often the documentation is scarce, confusing or non-existent, so you\n",
    "    simply have to try out things and see what results you are getting."
   ]
  }
 ],
 "metadata": {
  "author": "Rudolf Rosa",
  "kernelspec": {
   "display_name": "Python 3",
   "language": "python",
   "name": "python3"
  },
  "language_info": {
   "codemirror_mode": {
    "name": "ipython",
    "version": 3
   },
   "file_extension": ".py",
   "mimetype": "text/x-python",
   "name": "python",
   "nbconvert_exporter": "python",
   "pygments_lexer": "ipython3",
   "version": "3.7.6"
  }
 },
 "nbformat": 4,
 "nbformat_minor": 4
}
