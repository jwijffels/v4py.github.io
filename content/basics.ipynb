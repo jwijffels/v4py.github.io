{
 "cells": [
  {
   "cell_type": "markdown",
   "metadata": {},
   "source": [
    "# A tour of Python and NLTK\n",
    "\n",
    "# Python notebooks: your fancy new calculator\n",
    "\n",
    "Python notebooks are kind of like a calculator, just a lot more fancy\n",
    "than your typical calculator. But otherwise, they should feel pretty\n",
    "familiar -- you type some stuff in, press a button, Python thinks for a\n",
    "while and spits back an answer.\n",
    "\n",
    "The place where you type stuff is called a **cell**, and **running** a\n",
    "cell with the play button (▶) makes Python **evaluate the code** you\n",
    "typed in, i.e. your **program**. A very simple Python program could\n",
    "consist of just one number:"
   ]
  },
  {
   "cell_type": "code",
   "execution_count": 1,
   "metadata": {},
   "outputs": [
    {
     "data": {
      "text/plain": [
       "1"
      ]
     },
     "execution_count": 1,
     "metadata": {},
     "output_type": "execute_result"
    }
   ],
   "source": [
    "1"
   ]
  },
  {
   "cell_type": "markdown",
   "metadata": {},
   "source": [
    "And Python's answer is, unsuprisingly, the same as a calculator's answer\n",
    "would be: the **expression** `1` evaluates to... Well, it evaluates to\n",
    "`1`. Unlike in a calculator though, you can have multiple cells in a\n",
    "notebook, jump back and forth between them, edit and re-evaluate old\n",
    "ones, etc. Let's create a new cell with the plus button (➕) and try\n",
    "some slightly more complicated expressions."
   ]
  },
  {
   "cell_type": "code",
   "execution_count": 2,
   "metadata": {},
   "outputs": [
    {
     "data": {
      "text/plain": [
       "2"
      ]
     },
     "execution_count": 2,
     "metadata": {},
     "output_type": "execute_result"
    }
   ],
   "source": [
    "1 + 1"
   ]
  },
  {
   "cell_type": "markdown",
   "metadata": {},
   "source": [
    "Cells can consist of multiple lines. Let's demonstrate that with a\n",
    "**comment**. Comments are pieces of programs which are completely\n",
    "ignored by the computer, they're included solely for the benefit of the\n",
    "humans reading the code. In Python, the **syntax** for comments is to\n",
    "write a hash mark; everything that follows after that is a comment,\n",
    "which is often signaled by distinctive **syntax highlighting**."
   ]
  },
  {
   "cell_type": "code",
   "execution_count": 3,
   "metadata": {},
   "outputs": [
    {
     "data": {
      "text/plain": [
       "1"
      ]
     },
     "execution_count": 3,
     "metadata": {},
     "output_type": "execute_result"
    }
   ],
   "source": [
    "# This is a comment.\n",
    "# Python will completely ignore this line, the one above and the one below.\n",
    "# They're here just for you, as the person who reads this code.\n",
    "3 - 2"
   ]
  },
  {
   "cell_type": "markdown",
   "metadata": {},
   "source": [
    "(TODO: if more extensive comments → dedicated Markdown cells, use menu\n",
    "above to switch Cell from Code)\n",
    "\n",
    "The `*` operator is used for multiplication, `/` for division, `//` for\n",
    "truncating division and `**` for exponentiation."
   ]
  },
  {
   "cell_type": "code",
   "execution_count": 4,
   "metadata": {},
   "outputs": [
    {
     "data": {
      "text/plain": [
       "6"
      ]
     },
     "execution_count": 4,
     "metadata": {},
     "output_type": "execute_result"
    }
   ],
   "source": [
    "2 * 3"
   ]
  },
  {
   "cell_type": "code",
   "execution_count": 5,
   "metadata": {},
   "outputs": [
    {
     "data": {
      "text/plain": [
       "1.3333333333333333"
      ]
     },
     "execution_count": 5,
     "metadata": {},
     "output_type": "execute_result"
    }
   ],
   "source": [
    "4 / 3"
   ]
  },
  {
   "cell_type": "code",
   "execution_count": 6,
   "metadata": {},
   "outputs": [
    {
     "data": {
      "text/plain": [
       "1"
      ]
     },
     "execution_count": 6,
     "metadata": {},
     "output_type": "execute_result"
    }
   ],
   "source": [
    "4 // 3"
   ]
  },
  {
   "cell_type": "code",
   "execution_count": 7,
   "metadata": {},
   "outputs": [
    {
     "data": {
      "text/plain": [
       "8"
      ]
     },
     "execution_count": 7,
     "metadata": {},
     "output_type": "execute_result"
    }
   ],
   "source": [
    "2**3"
   ]
  },
  {
   "cell_type": "markdown",
   "metadata": {},
   "source": [
    "A decimal point, `.`, is used to separate the whole number part from the\n",
    "fractional part of a number."
   ]
  },
  {
   "cell_type": "code",
   "execution_count": 8,
   "metadata": {},
   "outputs": [
    {
     "data": {
      "text/plain": [
       "0.2"
      ]
     },
     "execution_count": 8,
     "metadata": {},
     "output_type": "execute_result"
    }
   ],
   "source": [
    "0.1 + 0.1"
   ]
  },
  {
   "cell_type": "markdown",
   "metadata": {},
   "source": [
    "But enough about numbers! ... strings"
   ]
  },
  {
   "cell_type": "markdown",
   "metadata": {},
   "source": [
    "At this point, probably sick and tired of reaching for your mouse to\n",
    "press ▶ all the time. Keyboard shortcuts:\n",
    "\n",
    "- `Alt+Enter`: evaluate, insert new cell and switch to it\n",
    "- `Shift+Enter`: evaluate and switch to next (existing) cell\n",
    "- `Ctrl+Enter`: evaluate and stay at current cell"
   ]
  }
 ],
 "metadata": {
  "kernelspec": {
   "display_name": "Python 3",
   "language": "python",
   "name": "python3"
  },
  "language_info": {
   "codemirror_mode": {
    "name": "ipython",
    "version": 3
   },
   "file_extension": ".py",
   "mimetype": "text/x-python",
   "name": "python",
   "nbconvert_exporter": "python",
   "pygments_lexer": "ipython3",
   "version": "3.7.6"
  }
 },
 "nbformat": 4,
 "nbformat_minor": 4
}
